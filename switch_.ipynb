{
 "cells": [
  {
   "cell_type": "code",
   "execution_count": 5,
   "metadata": {},
   "outputs": [
    {
     "name": "stdout",
     "output_type": "stream",
     "text": [
      "You choose javascript \n"
     ]
    }
   ],
   "source": [
    "lang = input(\"Enter your programming language: \")\n",
    "\n",
    "match lang :\n",
    "    case \"Javascript\":\n",
    "        print(\"You choose javascript \")\n",
    "    case \"Python\":\n",
    "        print(\"You choose Python\")\n",
    "    case \"C\":\n",
    "        print(\"You choose C\")\n",
    "    case 'Java':\n",
    "        print('You choose Java')\n",
    "    case _ : # this is default \n",
    "        print(\"Sorry, we don't know\")\n",
    "    "
   ]
  },
  {
   "cell_type": "code",
   "execution_count": null,
   "metadata": {},
   "outputs": [],
   "source": []
  }
 ],
 "metadata": {
  "kernelspec": {
   "display_name": "Python 3",
   "language": "python",
   "name": "python3"
  },
  "language_info": {
   "codemirror_mode": {
    "name": "ipython",
    "version": 3
   },
   "file_extension": ".py",
   "mimetype": "text/x-python",
   "name": "python",
   "nbconvert_exporter": "python",
   "pygments_lexer": "ipython3",
   "version": "3.11.4"
  },
  "orig_nbformat": 4
 },
 "nbformat": 4,
 "nbformat_minor": 2
}
