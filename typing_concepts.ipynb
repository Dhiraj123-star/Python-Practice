{
 "cells": [
  {
   "cell_type": "code",
   "execution_count": 3,
   "metadata": {},
   "outputs": [
    {
     "data": {
      "text/plain": [
       "128"
      ]
     },
     "execution_count": 3,
     "metadata": {},
     "output_type": "execute_result"
    }
   ],
   "source": [
    "# type hinting\n",
    "\n",
    "def foo(a:int,b:int,c:int) -> int:\n",
    "    return  a+b+c\n",
    "\n",
    "# call the function\n",
    "\n",
    "foo(123,2,3)"
   ]
  },
  {
   "cell_type": "code",
   "execution_count": 4,
   "metadata": {},
   "outputs": [
    {
     "name": "stdout",
     "output_type": "stream",
     "text": [
      "The Title is : Python Programming\n"
     ]
    }
   ],
   "source": [
    "def foo(title:str) -> None:\n",
    "    print(f'The Title is : {title}')\n",
    "\n",
    "foo('Python Programming')"
   ]
  },
  {
   "cell_type": "code",
   "execution_count": 5,
   "metadata": {},
   "outputs": [
    {
     "data": {
      "text/plain": [
       "[12, 100, 23, 56]"
      ]
     },
     "execution_count": 5,
     "metadata": {},
     "output_type": "execute_result"
    }
   ],
   "source": [
    "# list \n",
    "from typing import List\n",
    "\n",
    "my_list :List[int] = [12,100,23,56]\n",
    "\n",
    "my_list"
   ]
  },
  {
   "cell_type": "code",
   "execution_count": 6,
   "metadata": {},
   "outputs": [
    {
     "data": {
      "text/plain": [
       "[['Python', 'Java'], ['C', 'C++'], ['JavaScript', 'Perl']]"
      ]
     },
     "execution_count": 6,
     "metadata": {},
     "output_type": "execute_result"
    }
   ],
   "source": [
    "# nested  list\n",
    "\n",
    "nested_list :List[List[str]] = [['Python','Java'],['C','C++'],['JavaScript','Perl']]\n",
    "\n",
    "nested_list"
   ]
  },
  {
   "cell_type": "code",
   "execution_count": 7,
   "metadata": {},
   "outputs": [
    {
     "data": {
      "text/plain": [
       "{'John': 1, 'Doe': 2, 'Rock': 3, 'Mick': 4, 'Monty': 5}"
      ]
     },
     "execution_count": 7,
     "metadata": {},
     "output_type": "execute_result"
    }
   ],
   "source": [
    "# dictionary implementation \n",
    "\n",
    "from typing import Dict \n",
    "\n",
    "my_dict : Dict[str,int] = {'John' :1,'Doe':2,'Rock':3,'Mick':4,'Monty':5}\n",
    "\n",
    "my_dict"
   ]
  },
  {
   "cell_type": "code",
   "execution_count": 9,
   "metadata": {},
   "outputs": [
    {
     "data": {
      "text/plain": [
       "{5.7, 78.8, 90.3}"
      ]
     },
     "execution_count": 9,
     "metadata": {},
     "output_type": "execute_result"
    }
   ],
   "source": [
    "# set is unordered collection of unique items \n",
    "\n",
    "from typing import Set\n",
    "# only store unique values \n",
    "my_set :Set[float] = {5.7,78.8,90.3,78.8,5.7}\n",
    "\n",
    "my_set "
   ]
  },
  {
   "cell_type": "code",
   "execution_count": 10,
   "metadata": {},
   "outputs": [
    {
     "data": {
      "text/plain": [
       "('Python', 'Programming', 1)"
      ]
     },
     "execution_count": 10,
     "metadata": {},
     "output_type": "execute_result"
    }
   ],
   "source": [
    "# tuple is an immutable sequence data type\n",
    "\n",
    "from typing import Tuple\n",
    "\n",
    "my_tuple :Tuple[str,str,int]= (\"Python\",\"Programming\",1)\n",
    "\n",
    "my_tuple"
   ]
  },
  {
   "cell_type": "code",
   "execution_count": 16,
   "metadata": {},
   "outputs": [
    {
     "name": "stdout",
     "output_type": "stream",
     "text": [
      "The list : [12, 56, 67]\n",
      "The Tuple : (12, 56, 10)\n"
     ]
    }
   ],
   "source": [
    "# sequence 'it accepts any sequence (list,tuple,Dict)'\"Pandas Counting Rows methods.py'\n",
    "\n",
    "from typing import Sequence\n",
    "\n",
    "def foo(seq:Sequence[int])->Sequence:\n",
    "    return seq\n",
    "\n",
    "print(f'The list : {foo([12,56,67])}')\n",
    "print(f'The Tuple : {foo((12,56,10))}')\n"
   ]
  },
  {
   "cell_type": "code",
   "execution_count": 18,
   "metadata": {},
   "outputs": [
    {
     "data": {
      "text/plain": [
       "'egaugnal gnimmargorp ralupop si nohtyP'"
      ]
     },
     "execution_count": 18,
     "metadata": {},
     "output_type": "execute_result"
    }
   ],
   "source": [
    "def reverse_sequence(seq:Sequence[str])->Sequence[str]:\n",
    "    return seq[::-1]\n",
    "\n",
    "reverse_sequence('Python is popular programming language')"
   ]
  },
  {
   "cell_type": "code",
   "execution_count": 19,
   "metadata": {},
   "outputs": [
    {
     "name": "stdout",
     "output_type": "stream",
     "text": [
      "[12, 56, 100]\n"
     ]
    }
   ],
   "source": [
    "# any (willing to accept any kind of data type)\n",
    "from typing import Any \n",
    "\n",
    "def print_anything(val:Any)->None:\n",
    "    print(val)\n",
    "\n",
    "print_anything([12,56,100])"
   ]
  },
  {
   "cell_type": "code",
   "execution_count": 23,
   "metadata": {},
   "outputs": [
    {
     "data": {
      "text/plain": [
       "'Audi'"
      ]
     },
     "execution_count": 23,
     "metadata": {},
     "output_type": "execute_result"
    }
   ],
   "source": [
    "# class \n",
    "\n",
    "class Car:\n",
    "    def __init__(self,brand:str) -> None:\n",
    "        self.brand = brand\n",
    "\n",
    "\n",
    "def foo(c:Car)->str:\n",
    "    return c.brand\n",
    "    \n",
    "audi = Car('Audi')\n",
    "\n",
    "foo(audi)    \n",
    "    "
   ]
  },
  {
   "cell_type": "code",
   "execution_count": 26,
   "metadata": {},
   "outputs": [
    {
     "data": {
      "text/plain": [
       "100"
      ]
     },
     "execution_count": 26,
     "metadata": {},
     "output_type": "execute_result"
    }
   ],
   "source": [
    "# optional Type \n",
    "'''Optional value that may or may not be present '''\n",
    "\n",
    "from typing import Optional \n",
    "\n",
    "def foo(x:Optional[int]=10) -> int:\n",
    "    return x * x # type: ignore\n",
    "\n",
    "foo() # the functional parameter is optional here"
   ]
  },
  {
   "cell_type": "code",
   "execution_count": 29,
   "metadata": {},
   "outputs": [
    {
     "data": {
      "text/plain": [
       "10000000000000000"
      ]
     },
     "execution_count": 29,
     "metadata": {},
     "output_type": "execute_result"
    }
   ],
   "source": [
    "foo(100_00_00_00)"
   ]
  },
  {
   "cell_type": "code",
   "execution_count": 33,
   "metadata": {},
   "outputs": [],
   "source": [
    "def foo() -> Optional[str]:\n",
    "    something :str = input('Enter something : ')\n",
    "    if something == \"\":\n",
    "        return None\n",
    "    else :\n",
    "        return something\n",
    "\n",
    "# call the function \n",
    "foo()"
   ]
  },
  {
   "cell_type": "code",
   "execution_count": 35,
   "metadata": {},
   "outputs": [
    {
     "data": {
      "text/plain": [
       "'David has 3 Google Python stocks and 6 BTC'"
      ]
     },
     "execution_count": 35,
     "metadata": {},
     "output_type": "execute_result"
    }
   ],
   "source": [
    "# callable \n",
    "# it is used to represent a callable object such a \n",
    "# function or method\n",
    "\n",
    "from typing import Optional,Callable\n",
    "\n",
    "def foo(x:int,y:float,z:str,k:Optional[str]='Google Python')->str:\n",
    "    return f'{z} has {x} {k} stocks and {y} BTC'\n",
    "\n",
    "result = foo(3,6,'David')\n",
    "\n",
    "result"
   ]
  },
  {
   "cell_type": "code",
   "execution_count": 38,
   "metadata": {},
   "outputs": [
    {
     "data": {
      "text/plain": [
       "'David has 3 Google Python stocks and 4 BTC'"
      ]
     },
     "execution_count": 38,
     "metadata": {},
     "output_type": "execute_result"
    }
   ],
   "source": [
    "\n",
    "def outer(func:Callable[[int,float,str,Optional[str]],str])->str:\n",
    "    result = func(3,4,'David') # type: ignore\n",
    "    return result\n",
    "\n",
    "outer(foo)"
   ]
  },
  {
   "cell_type": "code",
   "execution_count": 39,
   "metadata": {},
   "outputs": [
    {
     "data": {
      "text/plain": [
       "1000"
      ]
     },
     "execution_count": 39,
     "metadata": {},
     "output_type": "execute_result"
    }
   ],
   "source": [
    "# lambda function\n",
    "\n",
    "func :Callable[[int,int],int] = lambda x,y:x**y\n",
    "\n",
    "func(10,3)"
   ]
  },
  {
   "cell_type": "code",
   "execution_count": null,
   "metadata": {},
   "outputs": [],
   "source": []
  }
 ],
 "metadata": {
  "kernelspec": {
   "display_name": "Python 3",
   "language": "python",
   "name": "python3"
  },
  "language_info": {
   "codemirror_mode": {
    "name": "ipython",
    "version": 3
   },
   "file_extension": ".py",
   "mimetype": "text/x-python",
   "name": "python",
   "nbconvert_exporter": "python",
   "pygments_lexer": "ipython3",
   "version": "3.11.4"
  },
  "orig_nbformat": 4
 },
 "nbformat": 4,
 "nbformat_minor": 2
}
