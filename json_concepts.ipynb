{
 "cells": [
  {
   "cell_type": "code",
   "execution_count": 3,
   "metadata": {},
   "outputs": [
    {
     "data": {
      "text/plain": [
       "'{\"name\": \"John\", \"age\": 23, \"hobby\": \"Programming\", \"email\": null}'"
      ]
     },
     "execution_count": 3,
     "metadata": {},
     "output_type": "execute_result"
    }
   ],
   "source": [
    "# data serialisation\n",
    "\n",
    "# JSON.dumps()\n",
    "\n",
    "'''\n",
    "JSON allows Python objects to be serialized into a JSON-formatted string, \n",
    "making it easier to transmit or store the data.\n",
    "\n",
    "The json.dumps() method serializes a Python object to a JSON string.'''\n",
    "\n",
    "import json\n",
    "\n",
    "data ={\n",
    "    \"name\":\"John\",\n",
    "    \"age\":23,\n",
    "    \"hobby\":\"Programming\",\n",
    "    \"email\":None\n",
    "}\n",
    "\n",
    "json_string = json.dumps(data)\n",
    "\n",
    "json_string"
   ]
  },
  {
   "cell_type": "code",
   "execution_count": 2,
   "metadata": {},
   "outputs": [
    {
     "data": {
      "text/plain": [
       "'{\\n   \"age\": 23,\\n   \"email\": null,\\n   \"hobby\": \"Programming\",\\n   \"name\": \"John\"\\n}'"
      ]
     },
     "execution_count": 2,
     "metadata": {},
     "output_type": "execute_result"
    }
   ],
   "source": [
    "json_string= json.dumps(data,indent=3,sort_keys=True)\n",
    "\n",
    "json_string"
   ]
  },
  {
   "cell_type": "code",
   "execution_count": 4,
   "metadata": {},
   "outputs": [
    {
     "name": "stdout",
     "output_type": "stream",
     "text": [
      "Json file created successfully!!\n"
     ]
    }
   ],
   "source": [
    "# dump()\n",
    "'''The method works similarly to the dumps method but instead of returning a JSON formatted string, \n",
    "it directly serializes a Python object and writes it to a file-like object, typically a file opened in write mode.'''\n",
    "\n",
    "with open('data.json','w')as f:\n",
    "    json.dump(data,f)\n",
    "\n",
    "print(\"Json file created successfully!!\")"
   ]
  },
  {
   "cell_type": "code",
   "execution_count": 5,
   "metadata": {},
   "outputs": [
    {
     "data": {
      "text/plain": [
       "{'name': 'Python', 'rank': 1, 'type': 'Interpreted'}"
      ]
     },
     "execution_count": 5,
     "metadata": {},
     "output_type": "execute_result"
    }
   ],
   "source": [
    "# json loads () \n",
    "''' It takes a JSON-formatted string as input and converts it into a corresponding Python object.'''\n",
    "\n",
    "json_str = '{\"name\":\"Python\",\"rank\":1,\"type\":\"Interpreted\"}'\n",
    "\n",
    "data = json.loads(json_str)\n",
    "\n",
    "data"
   ]
  },
  {
   "cell_type": "code",
   "execution_count": 6,
   "metadata": {},
   "outputs": [
    {
     "data": {
      "text/plain": [
       "{'name': 'John', 'age': 23, 'hobby': 'Programming', 'email': None}"
      ]
     },
     "execution_count": 6,
     "metadata": {},
     "output_type": "execute_result"
    }
   ],
   "source": [
    "# json load() \n",
    "\n",
    "'''it is used to load JSON data from a file object. \n",
    "    It reads the JSON data from the file object and converts it into a corresponding Python object.'''\n",
    "\n",
    "with open('data.json','r') as f:\n",
    "    data= json.load(f)\n",
    "\n",
    "data"
   ]
  },
  {
   "cell_type": "code",
   "execution_count": 9,
   "metadata": {},
   "outputs": [
    {
     "data": {
      "text/plain": [
       "'Roshan'"
      ]
     },
     "execution_count": 9,
     "metadata": {},
     "output_type": "execute_result"
    }
   ],
   "source": [
    "# working with json \n",
    "\n",
    "json_str = \"\"\"{\n",
    "        \"name\":\"Roshan\",\n",
    "        \"age\":34,\n",
    "        \"grade\" :\"B\"\n",
    "}\"\"\"\n",
    "\n",
    "new= json.loads(json_str)\n",
    "\n",
    "new['name']"
   ]
  },
  {
   "cell_type": "code",
   "execution_count": 12,
   "metadata": {},
   "outputs": [
    {
     "data": {
      "text/plain": [
       "'{\"name\": [\"John\", \"Doe\"], \"age\": [23, 33]}'"
      ]
     },
     "execution_count": 12,
     "metadata": {},
     "output_type": "execute_result"
    }
   ],
   "source": [
    "# modifying the json data \n",
    "\n",
    "json_str = \"\"\"{\n",
    " \"name\": [\"John\",\"Doe\"],\n",
    " \"age\":[23,33]\n",
    "}\"\"\"\n",
    "\n",
    "new = json.loads(json_str)\n",
    "\n",
    "new['name'][1]=\"Doe\"\n",
    "\n",
    "modified_json = json.dumps(new)\n",
    "\n",
    "modified_json"
   ]
  },
  {
   "cell_type": "code",
   "execution_count": 13,
   "metadata": {},
   "outputs": [
    {
     "data": {
      "text/plain": [
       "'{\"name\": [\"John\", \"Doe\"], \"age\": [23, 33], \"mobile_num\": 923335689}'"
      ]
     },
     "execution_count": 13,
     "metadata": {},
     "output_type": "execute_result"
    }
   ],
   "source": [
    "# add the element in json\n",
    "\n",
    "new['mobile_num']=923335689\n",
    "\n",
    "modified_json = json.dumps(new)\n",
    "\n",
    "modified_json"
   ]
  },
  {
   "cell_type": "code",
   "execution_count": 14,
   "metadata": {},
   "outputs": [
    {
     "data": {
      "text/plain": [
       "'{\"name\": [\"John\", \"Doe\"], \"mobile_num\": 923335689}'"
      ]
     },
     "execution_count": 14,
     "metadata": {},
     "output_type": "execute_result"
    }
   ],
   "source": [
    "# deleting the data \n",
    "\n",
    "del new['age']\n",
    "\n",
    "modified_json= json.dumps(new)\n",
    "\n",
    "modified_json"
   ]
  },
  {
   "cell_type": "code",
   "execution_count": 18,
   "metadata": {},
   "outputs": [
    {
     "name": "stdout",
     "output_type": "stream",
     "text": [
      "Successfull: {'quote': 'There are people sleeping in parking lots'}\n"
     ]
    }
   ],
   "source": [
    "# real world example of using json data \n",
    "\n",
    "import requests\n",
    "\n",
    "endpoint = \"https://api.kanye.rest/\"\n",
    "\n",
    "response = requests.get(endpoint)\n",
    "\n",
    "if response.status_code==200:\n",
    "    print(f\"Successfull: {response.json()}\")\n",
    "else:\n",
    "    print(\"Unsuccessfull\")"
   ]
  },
  {
   "cell_type": "code",
   "execution_count": null,
   "metadata": {},
   "outputs": [],
   "source": []
  }
 ],
 "metadata": {
  "kernelspec": {
   "display_name": "Python 3",
   "language": "python",
   "name": "python3"
  },
  "language_info": {
   "codemirror_mode": {
    "name": "ipython",
    "version": 3
   },
   "file_extension": ".py",
   "mimetype": "text/x-python",
   "name": "python",
   "nbconvert_exporter": "python",
   "pygments_lexer": "ipython3",
   "version": "3.11.4"
  },
  "orig_nbformat": 4
 },
 "nbformat": 4,
 "nbformat_minor": 2
}
