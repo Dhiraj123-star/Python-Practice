{
 "cells": [
  {
   "cell_type": "code",
   "execution_count": 2,
   "metadata": {},
   "outputs": [
    {
     "name": "stdout",
     "output_type": "stream",
     "text": [
      "Hello Python\n"
     ]
    }
   ],
   "source": [
    "# decorators\n",
    "\n",
    "def greet_with_message(message):\n",
    "    def greeting(name):\n",
    "        print(message,name)\n",
    "    \n",
    "    return greeting\n",
    "\n",
    "\n",
    "# create  a new function based on the returned function\n",
    "\n",
    "greet_hello = greet_with_message(\"Hello\")\n",
    "\n",
    "greet_hello(\"Python\")"
   ]
  },
  {
   "cell_type": "code",
   "execution_count": 3,
   "metadata": {},
   "outputs": [
    {
     "name": "stdout",
     "output_type": "stream",
     "text": [
      "Hello!!\n",
      "My name is Rahul\n",
      "Good Bye!!\n"
     ]
    }
   ],
   "source": [
    "def greeting_decorator(func):\n",
    "    def wrapper():\n",
    "        print(\"Hello!!\")\n",
    "        func()\n",
    "        print(\"Good Bye!!\")\n",
    "    return wrapper\n",
    "\n",
    "@greeting_decorator\n",
    "def say_name():\n",
    "    print(\"My name is Rahul\")\n",
    "\n",
    "\n",
    "say_name()"
   ]
  },
  {
   "cell_type": "code",
   "execution_count": 4,
   "metadata": {},
   "outputs": [
    {
     "name": "stdout",
     "output_type": "stream",
     "text": [
      "Hello!!\n",
      "My name is John\n",
      "Bye!!\n"
     ]
    }
   ],
   "source": [
    "# with one parameter \n",
    "\n",
    "def greeting_decorator(func):\n",
    "    def wrapper(name):\n",
    "        print(\"Hello!!\")\n",
    "        func(name)\n",
    "        print(\"Bye!!\")\n",
    "    \n",
    "    return wrapper\n",
    "\n",
    "@greeting_decorator\n",
    "def say_name(name):\n",
    "    print(f\"My name is {name}\")\n",
    "\n",
    "say_name(\"John\")"
   ]
  },
  {
   "cell_type": "code",
   "execution_count": 5,
   "metadata": {},
   "outputs": [
    {
     "name": "stdout",
     "output_type": "stream",
     "text": [
      "Hello\n",
      "Python Decorators\n",
      "Bye!!\n"
     ]
    }
   ],
   "source": [
    "# with multiple parameters\n",
    "\n",
    "def greeting_decorator(func):\n",
    "    def wrapper(*args,**kwargs):\n",
    "        print(\"Hello\")\n",
    "        func(*args,**kwargs) \n",
    "        print(\"Bye!!\")\n",
    "    return wrapper\n",
    "\n",
    "@greeting_decorator\n",
    "def say_name(first_name,last_name):\n",
    "    print(f\"{first_name} {last_name}\")\n",
    "\n",
    "say_name(\"Python\",\"Decorators\")"
   ]
  },
  {
   "cell_type": "code",
   "execution_count": 7,
   "metadata": {},
   "outputs": [
    {
     "name": "stdout",
     "output_type": "stream",
     "text": [
      "Hello\n",
      "['Python', 'Java', 'C++'] ['Julia', 'Rust', 'Ruby']\n",
      "Bye!!\n"
     ]
    }
   ],
   "source": [
    "say_name([\"Python\",\"Java\",\"C++\"],[\"Julia\",\"Rust\",\"Ruby\"])"
   ]
  },
  {
   "cell_type": "code",
   "execution_count": 8,
   "metadata": {},
   "outputs": [
    {
     "data": {
      "text/plain": [
       "'John'"
      ]
     },
     "execution_count": 8,
     "metadata": {},
     "output_type": "execute_result"
    }
   ],
   "source": [
    "# Python collections module \n",
    "\n",
    "# namedTuple \n",
    "\n",
    "from collections import namedtuple\n",
    "\n",
    "Person = namedtuple('Person',['name','age','hobby'])\n",
    "\n",
    "# create instance of the namedTuple \n",
    "\n",
    "p1 = Person('John',22,'Programming')\n",
    "\n",
    "p1.name"
   ]
  },
  {
   "cell_type": "code",
   "execution_count": 9,
   "metadata": {},
   "outputs": [
    {
     "data": {
      "text/plain": [
       "(22, 'Programming')"
      ]
     },
     "execution_count": 9,
     "metadata": {},
     "output_type": "execute_result"
    }
   ],
   "source": [
    "p1.age , p1.hobby"
   ]
  },
  {
   "cell_type": "code",
   "execution_count": 10,
   "metadata": {},
   "outputs": [
    {
     "data": {
      "text/plain": [
       "deque([12, 45, 78, 100, 1000, 10])"
      ]
     },
     "execution_count": 10,
     "metadata": {},
     "output_type": "execute_result"
    }
   ],
   "source": [
    "# deque \n",
    "\n",
    "from collections import deque\n",
    "\n",
    "d =deque([12,45,78,100])\n",
    "\n",
    "# add elements \n",
    "d.append(1000)\n",
    "d.append(10)\n",
    "\n",
    "d"
   ]
  },
  {
   "cell_type": "code",
   "execution_count": 12,
   "metadata": {},
   "outputs": [
    {
     "data": {
      "text/plain": [
       "deque([0, 0, 12, 45, 78, 100, 1000, 10])"
      ]
     },
     "execution_count": 12,
     "metadata": {},
     "output_type": "execute_result"
    }
   ],
   "source": [
    "# append on left \n",
    "\n",
    "d.appendleft(0)\n",
    "d"
   ]
  },
  {
   "cell_type": "code",
   "execution_count": 13,
   "metadata": {},
   "outputs": [
    {
     "data": {
      "text/plain": [
       "10"
      ]
     },
     "execution_count": 13,
     "metadata": {},
     "output_type": "execute_result"
    }
   ],
   "source": [
    "# remove elements from right \n",
    "\n",
    "d.pop()"
   ]
  },
  {
   "cell_type": "code",
   "execution_count": 14,
   "metadata": {},
   "outputs": [
    {
     "data": {
      "text/plain": [
       "deque([0, 0, 12, 45, 78, 100, 1000])"
      ]
     },
     "execution_count": 14,
     "metadata": {},
     "output_type": "execute_result"
    }
   ],
   "source": [
    "d"
   ]
  },
  {
   "cell_type": "code",
   "execution_count": 15,
   "metadata": {},
   "outputs": [
    {
     "data": {
      "text/plain": [
       "deque([0, 0, 12, 45, 78, 100])"
      ]
     },
     "execution_count": 15,
     "metadata": {},
     "output_type": "execute_result"
    }
   ],
   "source": [
    "d.pop()\n",
    "\n",
    "d"
   ]
  },
  {
   "cell_type": "code",
   "execution_count": 16,
   "metadata": {},
   "outputs": [
    {
     "data": {
      "text/plain": [
       "deque([0, 12, 45, 78, 100])"
      ]
     },
     "execution_count": 16,
     "metadata": {},
     "output_type": "execute_result"
    }
   ],
   "source": [
    "d.popleft()\n",
    "d"
   ]
  },
  {
   "cell_type": "code",
   "execution_count": 18,
   "metadata": {},
   "outputs": [
    {
     "data": {
      "text/plain": [
       "ChainMap({'Python': 1, 'Java': 2, 'C': 3}, {'Julia': 4, 'C': 5, 'R': 6})"
      ]
     },
     "execution_count": 18,
     "metadata": {},
     "output_type": "execute_result"
    }
   ],
   "source": [
    "# ChainMap\n",
    "\n",
    "from collections import ChainMap\n",
    "\n",
    "# define some dictionaries\n",
    "\n",
    "dict1 = {\"Python\":1,\"Java\":2,\"C\":3}\n",
    "dict2 = {\"Julia\":4,\"C\":5,\"R\":6}\n",
    "\n",
    "cm = ChainMap(dict1,dict2)\n",
    "\n",
    "cm"
   ]
  },
  {
   "cell_type": "code",
   "execution_count": 19,
   "metadata": {},
   "outputs": [
    {
     "data": {
      "text/plain": [
       "1"
      ]
     },
     "execution_count": 19,
     "metadata": {},
     "output_type": "execute_result"
    }
   ],
   "source": [
    "cm[\"Python\"]"
   ]
  },
  {
   "cell_type": "code",
   "execution_count": 20,
   "metadata": {},
   "outputs": [
    {
     "data": {
      "text/plain": [
       "6"
      ]
     },
     "execution_count": 20,
     "metadata": {},
     "output_type": "execute_result"
    }
   ],
   "source": [
    "cm[\"R\"]"
   ]
  },
  {
   "cell_type": "code",
   "execution_count": 23,
   "metadata": {},
   "outputs": [
    {
     "ename": "KeyError",
     "evalue": "4",
     "output_type": "error",
     "traceback": [
      "\u001b[0;31m---------------------------------------------------------------------------\u001b[0m",
      "\u001b[0;31mKeyError\u001b[0m                                  Traceback (most recent call last)",
      "Cell \u001b[0;32mIn[23], line 1\u001b[0m\n\u001b[0;32m----> 1\u001b[0m cm[\u001b[39m4\u001b[39;49m]\n",
      "File \u001b[0;32m/usr/lib/python3.8/collections/__init__.py:898\u001b[0m, in \u001b[0;36mChainMap.__getitem__\u001b[0;34m(self, key)\u001b[0m\n\u001b[1;32m    896\u001b[0m     \u001b[39mexcept\u001b[39;00m \u001b[39mKeyError\u001b[39;00m:\n\u001b[1;32m    897\u001b[0m         \u001b[39mpass\u001b[39;00m\n\u001b[0;32m--> 898\u001b[0m \u001b[39mreturn\u001b[39;00m \u001b[39mself\u001b[39;49m\u001b[39m.\u001b[39;49m\u001b[39m__missing__\u001b[39;49m(key)\n",
      "File \u001b[0;32m/usr/lib/python3.8/collections/__init__.py:890\u001b[0m, in \u001b[0;36mChainMap.__missing__\u001b[0;34m(self, key)\u001b[0m\n\u001b[1;32m    889\u001b[0m \u001b[39mdef\u001b[39;00m \u001b[39m__missing__\u001b[39m(\u001b[39mself\u001b[39m, key):\n\u001b[0;32m--> 890\u001b[0m     \u001b[39mraise\u001b[39;00m \u001b[39mKeyError\u001b[39;00m(key)\n",
      "\u001b[0;31mKeyError\u001b[0m: 4"
     ]
    }
   ],
   "source": [
    "cm[4] # returns keyError"
   ]
  },
  {
   "cell_type": "code",
   "execution_count": 36,
   "metadata": {},
   "outputs": [
    {
     "data": {
      "text/plain": [
       "Counter({'apple': 2, 'banana': 1, 'cherry': 1, 'pineapple': 1})"
      ]
     },
     "execution_count": 36,
     "metadata": {},
     "output_type": "execute_result"
    }
   ],
   "source": [
    "# counter \n",
    "\n",
    "from collections import Counter\n",
    "\n",
    "# create a counter object \n",
    "\n",
    "c = Counter(['apple','banana','cherry','apple','pineapple'])\n",
    "\n",
    "c\n",
    "\n"
   ]
  },
  {
   "cell_type": "code",
   "execution_count": 25,
   "metadata": {},
   "outputs": [
    {
     "data": {
      "text/plain": [
       "2"
      ]
     },
     "execution_count": 25,
     "metadata": {},
     "output_type": "execute_result"
    }
   ],
   "source": [
    "c['apple'] # we can access through key "
   ]
  },
  {
   "cell_type": "code",
   "execution_count": 39,
   "metadata": {},
   "outputs": [
    {
     "data": {
      "text/plain": [
       "('apple', 2)"
      ]
     },
     "execution_count": 39,
     "metadata": {},
     "output_type": "execute_result"
    }
   ],
   "source": [
    "c.most_common()[0] # returns the most common words "
   ]
  },
  {
   "cell_type": "code",
   "execution_count": 26,
   "metadata": {},
   "outputs": [
    {
     "data": {
      "text/plain": [
       "0"
      ]
     },
     "execution_count": 26,
     "metadata": {},
     "output_type": "execute_result"
    }
   ],
   "source": [
    "# default dict \n",
    "\n",
    "from collections import defaultdict \n",
    "\n",
    "# define a factory function\n",
    "\n",
    "def default_value():\n",
    "    return 0 \n",
    "\n",
    "# create  a defaultdict with factory function\n",
    "\n",
    "d = defaultdict(default_value)\n",
    "\n",
    "# add some key/value \n",
    "\n",
    "d['Python']=1\n",
    "d['JavaScript']=2\n",
    "\n",
    "d['c'] # access a non-existent key "
   ]
  },
  {
   "cell_type": "code",
   "execution_count": 27,
   "metadata": {},
   "outputs": [
    {
     "data": {
      "text/plain": [
       "{'Python': 1, 'Java': 2, 'JavaScript': 3}"
      ]
     },
     "execution_count": 27,
     "metadata": {},
     "output_type": "execute_result"
    }
   ],
   "source": [
    "# userDict \n",
    "\n",
    "from collections import UserDict\n",
    "\n",
    "# create a dictionary\n",
    "\n",
    "d = UserDict({'Python':1,\"Java\":2})\n",
    "\n",
    "d['JavaScript']=3\n",
    "\n",
    "d"
   ]
  },
  {
   "cell_type": "code",
   "execution_count": 28,
   "metadata": {},
   "outputs": [
    {
     "data": {
      "text/plain": [
       "OrderedDict([(1, 'Python'),\n",
       "             (4, 'C'),\n",
       "             (2, 'Ruby'),\n",
       "             (5, 'R'),\n",
       "             (3, 'JavaScript')])"
      ]
     },
     "execution_count": 28,
     "metadata": {},
     "output_type": "execute_result"
    }
   ],
   "source": [
    "# orderedDict \n",
    "\n",
    "from collections import OrderedDict\n",
    "\n",
    "od=OrderedDict()\n",
    "\n",
    "# add key-value \n",
    "\n",
    "od[1]='Python'\n",
    "od[4]='C'\n",
    "od[2]='Ruby'\n",
    "od[5]='R'\n",
    "od[3]='JavaScript'\n",
    "\n",
    "od # it maintains the order but after python 3.6 version , the regular dict also maintain the order "
   ]
  },
  {
   "cell_type": "code",
   "execution_count": 29,
   "metadata": {},
   "outputs": [
    {
     "data": {
      "text/plain": [
       "UserList([12, 56, 1000, 100])"
      ]
     },
     "execution_count": 29,
     "metadata": {},
     "output_type": "execute_result"
    }
   ],
   "source": [
    "# userlist \n",
    "\n",
    "from collections import UserList\n",
    "\n",
    "# create a userList \n",
    "\n",
    "l =UserList([12,56,1000,100])\n",
    "\n",
    "l"
   ]
  },
  {
   "cell_type": "code",
   "execution_count": 30,
   "metadata": {},
   "outputs": [],
   "source": [
    "l.append(101)"
   ]
  },
  {
   "cell_type": "code",
   "execution_count": 31,
   "metadata": {},
   "outputs": [
    {
     "data": {
      "text/plain": [
       "UserList([12, 56, 1000, 100, 101])"
      ]
     },
     "execution_count": 31,
     "metadata": {},
     "output_type": "execute_result"
    }
   ],
   "source": [
    "l"
   ]
  },
  {
   "cell_type": "code",
   "execution_count": 32,
   "metadata": {},
   "outputs": [
    {
     "data": {
      "text/plain": [
       "'y'"
      ]
     },
     "execution_count": 32,
     "metadata": {},
     "output_type": "execute_result"
    }
   ],
   "source": [
    "# userString \n",
    "\n",
    "from collections import UserString\n",
    "\n",
    "# create a userString\n",
    "\n",
    "s = UserString('Python')\n",
    "s[1]"
   ]
  },
  {
   "cell_type": "code",
   "execution_count": 34,
   "metadata": {},
   "outputs": [
    {
     "ename": "TypeError",
     "evalue": "'UserString' object does not support item assignment",
     "output_type": "error",
     "traceback": [
      "\u001b[0;31m---------------------------------------------------------------------------\u001b[0m",
      "\u001b[0;31mTypeError\u001b[0m                                 Traceback (most recent call last)",
      "Cell \u001b[0;32mIn[34], line 1\u001b[0m\n\u001b[0;32m----> 1\u001b[0m s[\u001b[39m0\u001b[39;49m]\u001b[39m=\u001b[39m\u001b[39m'\u001b[39m\u001b[39mJ\u001b[39m\u001b[39m'\u001b[39m\n\u001b[1;32m      3\u001b[0m s\n",
      "\u001b[0;31mTypeError\u001b[0m: 'UserString' object does not support item assignment"
     ]
    }
   ],
   "source": [
    "s[0]='J' # it doesn't support item assignment\n",
    "\n",
    "s"
   ]
  },
  {
   "cell_type": "code",
   "execution_count": 42,
   "metadata": {},
   "outputs": [
    {
     "data": {
      "text/plain": [
       "[(12, 45, 19),\n",
       " (12, 19, 45),\n",
       " (45, 12, 19),\n",
       " (45, 19, 12),\n",
       " (19, 12, 45),\n",
       " (19, 45, 12)]"
      ]
     },
     "execution_count": 42,
     "metadata": {},
     "output_type": "execute_result"
    }
   ],
   "source": [
    "# permutations \n",
    "\n",
    "import itertools\n",
    "\n",
    "numbers =[12,45,19]\n",
    "\n",
    "permutations = itertools.permutations(numbers)\n",
    "\n",
    "list(permutations)"
   ]
  },
  {
   "cell_type": "code",
   "execution_count": 43,
   "metadata": {},
   "outputs": [
    {
     "data": {
      "text/plain": [
       "'Python  is  interpreted  Programming  Language'"
      ]
     },
     "execution_count": 43,
     "metadata": {},
     "output_type": "execute_result"
    }
   ],
   "source": [
    "# optimising the String operations\n",
    "\n",
    "# with join\n",
    "str_ls = [\"Python \",\"is\",\" interpreted\", \" Programming\",\" Language\"]\n",
    "\n",
    "res = \" \".join(str_ls)\n",
    "\n",
    "res"
   ]
  },
  {
   "cell_type": "code",
   "execution_count": 45,
   "metadata": {},
   "outputs": [
    {
     "name": "stdout",
     "output_type": "stream",
     "text": [
      "Python\n",
      "Java\n",
      "C\n",
      "C++\n",
      "Mojo\n"
     ]
    }
   ],
   "source": [
    "# generators (yield from keyword to get data from sub-generator)\n",
    "\n",
    "def sub_generator():\n",
    "    yield \"Python\"\n",
    "    yield \"Java\"\n",
    "    yield \"C\"\n",
    "    yield \"C++\"\n",
    "\n",
    "def main_generator():\n",
    "    yield from sub_generator()\n",
    "    yield \"Mojo\"\n",
    "\n",
    "for item in main_generator():\n",
    "    print(item)"
   ]
  },
  {
   "cell_type": "code",
   "execution_count": 52,
   "metadata": {},
   "outputs": [
    {
     "name": "stdout",
     "output_type": "stream",
     "text": [
      "0\n",
      "1\n",
      "1\n",
      "2\n"
     ]
    }
   ],
   "source": [
    "# iterators \n",
    "\n",
    "class Fibonacci:\n",
    "\n",
    "    def __init__(self):\n",
    "        self.a,self.b=0,1\n",
    "    \n",
    "    def __iter__(self):\n",
    "        return self\n",
    "    \n",
    "    def __next__(self):\n",
    "        result =self.a\n",
    "        self.a ,self.b = self.b,self.a+self.b\n",
    "\n",
    "        return result \n",
    "\n",
    "Fib = Fibonacci()\n",
    "\n",
    "    \n",
    "print(Fib.__next__())\n",
    "print(Fib.__next__())\n",
    "print(Fib.__next__())\n",
    "print(Fib.__next__())"
   ]
  },
  {
   "cell_type": "code",
   "execution_count": 56,
   "metadata": {},
   "outputs": [
    {
     "data": {
      "text/plain": [
       "{'Alice': 5, 'John': 4, 'Kate': 4, 'Charlie': 7}"
      ]
     },
     "execution_count": 56,
     "metadata": {},
     "output_type": "execute_result"
    }
   ],
   "source": [
    "# dictionary comprehension\n",
    "\n",
    "names = [\"Alice\",\"John\",\"Kate\",\"Charlie\"]\n",
    "\n",
    "names_lengths = {name :len(name) for name in names}\n",
    "\n",
    "names_lengths"
   ]
  },
  {
   "cell_type": "code",
   "execution_count": 58,
   "metadata": {},
   "outputs": [
    {
     "data": {
      "text/plain": [
       "{1, 5, 12, 66, 90}"
      ]
     },
     "execution_count": 58,
     "metadata": {},
     "output_type": "execute_result"
    }
   ],
   "source": [
    "# set comprehension\n",
    "\n",
    "num_sets = {12,5,1,1,5,12,66,90}\n",
    "\n",
    "\n",
    "unique_sets = {num for num in num_sets}\n",
    "\n",
    "unique_sets"
   ]
  },
  {
   "cell_type": "code",
   "execution_count": 60,
   "metadata": {},
   "outputs": [
    {
     "name": "stdout",
     "output_type": "stream",
     "text": [
      "True\n",
      "False\n"
     ]
    }
   ],
   "source": [
    "# any and all functions\n",
    "\n",
    "numbers = [12,45,22,11,10]\n",
    "\n",
    "res1 = any( num%2==0 for num in numbers) # returns true if any one element is true in iterables otherwise false\n",
    "res2 = all(num%2 for num in numbers) # returns true if all the elements are true in iterables otherwise false\n",
    "\n",
    "print(res1)\n",
    "print(res2)"
   ]
  },
  {
   "cell_type": "code",
   "execution_count": 61,
   "metadata": {},
   "outputs": [
    {
     "data": {
      "text/plain": [
       "[10, 11, 12, 22, 45]"
      ]
     },
     "execution_count": 61,
     "metadata": {},
     "output_type": "execute_result"
    }
   ],
   "source": [
    "# sorted ()\n",
    "\n",
    "sorted_num =sorted(numbers)\n",
    "\n",
    "sorted_num"
   ]
  },
  {
   "cell_type": "code",
   "execution_count": 64,
   "metadata": {},
   "outputs": [
    {
     "data": {
      "text/plain": [
       "[45, 11]"
      ]
     },
     "execution_count": 64,
     "metadata": {},
     "output_type": "execute_result"
    }
   ],
   "source": [
    "# filter \n",
    "\n",
    "filtered_num = filter( lambda x:x%2!=0,numbers) # filter the odd values\n",
    "list(filtered_num)"
   ]
  },
  {
   "cell_type": "code",
   "execution_count": 66,
   "metadata": {},
   "outputs": [
    {
     "data": {
      "text/plain": [
       "[1728, 91125, 10648, 1331, 1000]"
      ]
     },
     "execution_count": 66,
     "metadata": {},
     "output_type": "execute_result"
    }
   ],
   "source": [
    "# map \n",
    "\n",
    "mapped_num = map(lambda x:x**3 , numbers) # find the cube of each element of iterable\n",
    "\n",
    "list(mapped_num)"
   ]
  },
  {
   "cell_type": "code",
   "execution_count": 67,
   "metadata": {},
   "outputs": [
    {
     "data": {
      "text/plain": [
       "100"
      ]
     },
     "execution_count": 67,
     "metadata": {},
     "output_type": "execute_result"
    }
   ],
   "source": [
    "# reduce \n",
    "from functools import reduce\n",
    "reduced_num = reduce(lambda x,y :x+y, numbers)\n",
    "\n",
    "reduced_num"
   ]
  },
  {
   "cell_type": "code",
   "execution_count": 70,
   "metadata": {},
   "outputs": [
    {
     "name": "stdout",
     "output_type": "stream",
     "text": [
      "0 :-> Python\n",
      "1 :-> C\n",
      "2 :-> Java\n",
      "3 :-> JavaScript\n"
     ]
    }
   ],
   "source": [
    "# enumerate \n",
    "\n",
    "prog_langs = [\"Python\",\"C\",\"Java\",\"JavaScript\"]\n",
    "\n",
    "for key,value in enumerate(prog_langs):\n",
    "    print(f\"{key} :-> {value}\")"
   ]
  },
  {
   "cell_type": "code",
   "execution_count": 71,
   "metadata": {},
   "outputs": [
    {
     "name": "stdout",
     "output_type": "stream",
     "text": [
      "Python -> 1\n",
      "C -> 2\n",
      "Java -> 3\n",
      "JavaScript -> 4\n"
     ]
    }
   ],
   "source": [
    "# zip \n",
    "\n",
    "rank =[1,2,3,4]\n",
    "\n",
    "\n",
    "for name,rank in zip(prog_langs,rank):\n",
    "    print(f\"{name} -> {rank}\")"
   ]
  },
  {
   "cell_type": "code",
   "execution_count": 74,
   "metadata": {},
   "outputs": [
    {
     "name": "stdout",
     "output_type": "stream",
     "text": [
      "1\n",
      "2\n",
      "3\n",
      "4\n",
      "5\n",
      "6\n",
      "7\n",
      "8\n",
      "9\n",
      "10\n"
     ]
    }
   ],
   "source": [
    "# itertools module \n",
    "\n",
    "from itertools import count\n",
    "\n",
    "for i in count(1):\n",
    "    print(i)\n",
    "    if i==10:\n",
    "        break\n"
   ]
  },
  {
   "cell_type": "code",
   "execution_count": 77,
   "metadata": {},
   "outputs": [
    {
     "name": "stdout",
     "output_type": "stream",
     "text": [
      "c ['cat']\n",
      "d ['dog']\n",
      "e ['elephant']\n",
      "l ['lion']\n",
      "t ['tiger']\n"
     ]
    }
   ],
   "source": [
    "# groupby()\n",
    "\n",
    "from itertools import groupby\n",
    "\n",
    "animals = ['cat','dog','elephant','lion','tiger']\n",
    "\n",
    "result = groupby(animals,lambda x:x[0])\n",
    "\n",
    "for key,group in result:\n",
    "    print(key,list(group))"
   ]
  },
  {
   "cell_type": "code",
   "execution_count": 78,
   "metadata": {},
   "outputs": [
    {
     "name": "stdout",
     "output_type": "stream",
     "text": [
      "(1, 'x')\n",
      "(2, 'y')\n",
      "(3, 'z')\n"
     ]
    }
   ],
   "source": [
    "# zip \n",
    "\n",
    "from itertools import zip_longest\n",
    "\n",
    "numbers =[1,2,3]\n",
    "letters = ['x','y','z']\n",
    "\n",
    "combined =zip(numbers,letters)\n",
    "\n",
    "for item in combined:\n",
    "    print(item)"
   ]
  },
  {
   "cell_type": "code",
   "execution_count": 86,
   "metadata": {},
   "outputs": [
    {
     "name": "stdout",
     "output_type": "stream",
     "text": [
      "red\n",
      "yellow\n",
      "blue\n"
     ]
    }
   ],
   "source": [
    "# cycle\n",
    "\n",
    "from itertools import cycle \n",
    "\n",
    "# cycling through iterables \n",
    "\n",
    "colors = [\"red\",\"yellow\",\"blue\"]\n",
    "\n",
    "for color in cycle(colors):\n",
    "    print(color)\n",
    "    if color == 'blue':\n",
    "        break "
   ]
  },
  {
   "cell_type": "code",
   "execution_count": 100,
   "metadata": {},
   "outputs": [
    {
     "data": {
      "text/plain": [
       "['C', 'C++', 'Java', 'C#', 1, 2, 3, 4]"
      ]
     },
     "execution_count": 100,
     "metadata": {},
     "output_type": "execute_result"
    }
   ],
   "source": [
    "# chain \n",
    "\n",
    "from itertools import chain\n",
    "\n",
    "prog_langs = [\"C\",\"C++\",\"Java\",\"C#\"]\n",
    "rank= [1,2,3,4]\n",
    "\n",
    "combined = chain(prog_langs,rank)\n",
    "\n",
    "list(combined)"
   ]
  },
  {
   "cell_type": "code",
   "execution_count": 99,
   "metadata": {},
   "outputs": [
    {
     "data": {
      "text/plain": [
       "[('C', 1),\n",
       " ('C', 2),\n",
       " ('C', 3),\n",
       " ('C', 4),\n",
       " ('C++', 1),\n",
       " ('C++', 2),\n",
       " ('C++', 3),\n",
       " ('C++', 4),\n",
       " ('Java', 1),\n",
       " ('Java', 2),\n",
       " ('Java', 3),\n",
       " ('Java', 4),\n",
       " ('C#', 1),\n",
       " ('C#', 2),\n",
       " ('C#', 3),\n",
       " ('C#', 4)]"
      ]
     },
     "execution_count": 99,
     "metadata": {},
     "output_type": "execute_result"
    }
   ],
   "source": [
    "# product\n",
    "\n",
    "from itertools import product\n",
    "\n",
    "product_items = product(prog_langs,rank)\n",
    "\n",
    "list(product_items)"
   ]
  },
  {
   "cell_type": "code",
   "execution_count": 97,
   "metadata": {},
   "outputs": [
    {
     "data": {
      "text/plain": [
       "[11, 33, 66, 110, 165]"
      ]
     },
     "execution_count": 97,
     "metadata": {},
     "output_type": "execute_result"
    }
   ],
   "source": [
    "# accumulate \n",
    "\n",
    "from itertools import accumulate\n",
    "\n",
    "numbers =[11,22,33,44,55]\n",
    "\n",
    "res = accumulate(numbers)\n",
    "\n",
    "list(res)"
   ]
  },
  {
   "cell_type": "code",
   "execution_count": 96,
   "metadata": {},
   "outputs": [
    {
     "data": {
      "text/plain": [
       "[12, 540, 54000, 4860000, 923400000]"
      ]
     },
     "execution_count": 96,
     "metadata": {},
     "output_type": "execute_result"
    }
   ],
   "source": [
    "# accumulate with product \n",
    "import operator\n",
    "\n",
    "res = accumulate(numbers,operator.mul)\n",
    "\n",
    "list(res)"
   ]
  },
  {
   "cell_type": "code",
   "execution_count": 95,
   "metadata": {},
   "outputs": [
    {
     "data": {
      "text/plain": [
       "[12, -33, -133, -223, -413]"
      ]
     },
     "execution_count": 95,
     "metadata": {},
     "output_type": "execute_result"
    }
   ],
   "source": [
    "# accumulate with subtract \n",
    "\n",
    "res= accumulate(numbers,operator.sub)\n",
    "\n",
    "list(res)"
   ]
  },
  {
   "cell_type": "code",
   "execution_count": 94,
   "metadata": {},
   "outputs": [
    {
     "data": {
      "text/plain": [
       "[45, 100]"
      ]
     },
     "execution_count": 94,
     "metadata": {},
     "output_type": "execute_result"
    }
   ],
   "source": [
    "# islice()\n",
    "from itertools import islice\n",
    "\n",
    "numbers = [12,45,100,90,190]\n",
    "\n",
    "selected = islice(numbers,1,3)\n",
    "\n",
    "list(selected)"
   ]
  },
  {
   "cell_type": "code",
   "execution_count": 102,
   "metadata": {},
   "outputs": [
    {
     "data": {
      "text/plain": [
       "[[1, 2, 3], [1, 2, 3], [1, 2, 3], [1, 2, 3]]"
      ]
     },
     "execution_count": 102,
     "metadata": {},
     "output_type": "execute_result"
    }
   ],
   "source": [
    "# nested list comprehension\n",
    "\n",
    "matrix = [[x for x in range(1,4)] for _ in range(4)]\n",
    "\n",
    "matrix"
   ]
  },
  {
   "cell_type": "code",
   "execution_count": 103,
   "metadata": {},
   "outputs": [
    {
     "name": "stdout",
     "output_type": "stream",
     "text": [
      "0\n",
      "1\n",
      "1\n",
      "2\n",
      "3\n",
      "5\n",
      "8\n",
      "13\n",
      "21\n",
      "34\n"
     ]
    }
   ],
   "source": [
    "# generators \n",
    "\n",
    "def fibonacci():\n",
    "    a,b=0,1\n",
    "    while True:\n",
    "        yield a \n",
    "        a,b = b,a+b\n",
    "\n",
    "fib_gen = fibonacci()\n",
    "\n",
    "for _ in range(10):\n",
    "    print(next(fib_gen))\n"
   ]
  },
  {
   "cell_type": "code",
   "execution_count": 105,
   "metadata": {},
   "outputs": [
    {
     "name": "stdout",
     "output_type": "stream",
     "text": [
      "100\n",
      "99\n",
      "98\n",
      "97\n",
      "96\n",
      "95\n",
      "94\n",
      "93\n",
      "92\n",
      "91\n",
      "90\n",
      "89\n",
      "88\n",
      "87\n",
      "86\n",
      "85\n",
      "84\n",
      "83\n",
      "82\n",
      "81\n",
      "80\n",
      "79\n",
      "78\n",
      "77\n",
      "76\n",
      "75\n",
      "74\n",
      "73\n",
      "72\n",
      "71\n",
      "70\n",
      "69\n",
      "68\n",
      "67\n",
      "66\n",
      "65\n",
      "64\n",
      "63\n",
      "62\n",
      "61\n",
      "60\n",
      "59\n",
      "58\n",
      "57\n",
      "56\n",
      "55\n",
      "54\n",
      "53\n",
      "52\n",
      "51\n",
      "50\n",
      "49\n",
      "48\n",
      "47\n",
      "46\n",
      "45\n",
      "44\n",
      "43\n",
      "42\n",
      "41\n",
      "40\n",
      "39\n",
      "38\n",
      "37\n",
      "36\n",
      "35\n",
      "34\n",
      "33\n",
      "32\n",
      "31\n",
      "30\n",
      "29\n",
      "28\n",
      "27\n",
      "26\n",
      "25\n",
      "24\n",
      "23\n",
      "22\n",
      "21\n",
      "20\n",
      "19\n",
      "18\n",
      "17\n",
      "16\n",
      "15\n",
      "14\n",
      "13\n",
      "12\n",
      "11\n",
      "10\n",
      "9\n",
      "8\n",
      "7\n",
      "6\n",
      "5\n",
      "4\n",
      "3\n",
      "2\n",
      "1\n"
     ]
    }
   ],
   "source": [
    "# countdown with generator \n",
    "\n",
    "def countdown(n):\n",
    "    while n>0:\n",
    "        yield n\n",
    "        n-=1\n",
    "for num in countdown(100):\n",
    "    print(num)"
   ]
  },
  {
   "cell_type": "code",
   "execution_count": null,
   "metadata": {},
   "outputs": [],
   "source": []
  }
 ],
 "metadata": {
  "kernelspec": {
   "display_name": "Python 3",
   "language": "python",
   "name": "python3"
  },
  "language_info": {
   "codemirror_mode": {
    "name": "ipython",
    "version": 3
   },
   "file_extension": ".py",
   "mimetype": "text/x-python",
   "name": "python",
   "nbconvert_exporter": "python",
   "pygments_lexer": "ipython3",
   "version": "3.8.10"
  },
  "orig_nbformat": 4
 },
 "nbformat": 4,
 "nbformat_minor": 2
}
