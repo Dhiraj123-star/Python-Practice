{
 "cells": [
  {
   "cell_type": "code",
   "execution_count": 5,
   "metadata": {},
   "outputs": [
    {
     "name": "stdout",
     "output_type": "stream",
     "text": [
      "[('Python', 'First'),\n",
      " ('Python', 'Second'),\n",
      " ('Python', 'Third'),\n",
      " ('Python', 'Fourth'),\n",
      " ('Python', 'Fifth'),\n",
      " ('Java', 'First'),\n",
      " ('Java', 'Second'),\n",
      " ('Java', 'Third'),\n",
      " ('Java', 'Fourth'),\n",
      " ('Java', 'Fifth'),\n",
      " ('JavaScript', 'First'),\n",
      " ('JavaScript', 'Second'),\n",
      " ('JavaScript', 'Third'),\n",
      " ('JavaScript', 'Fourth'),\n",
      " ('JavaScript', 'Fifth'),\n",
      " ('C', 'First'),\n",
      " ('C', 'Second'),\n",
      " ('C', 'Third'),\n",
      " ('C', 'Fourth'),\n",
      " ('C', 'Fifth'),\n",
      " ('C++', 'First'),\n",
      " ('C++', 'Second'),\n",
      " ('C++', 'Third'),\n",
      " ('C++', 'Fourth'),\n",
      " ('C++', 'Fifth')]\n"
     ]
    }
   ],
   "source": [
    "import itertools\n",
    "from pprint import pprint\n",
    "list1 = ['Python','Java','JavaScript','C','C++']\n",
    "list2 = ['First','Second','Third','Fourth','Fifth']\n",
    "\n",
    "pprint(list(itertools.product(list1,list2,repeat=1)))"
   ]
  },
  {
   "cell_type": "code",
   "execution_count": null,
   "metadata": {},
   "outputs": [],
   "source": []
  }
 ],
 "metadata": {
  "kernelspec": {
   "display_name": "Python 3",
   "language": "python",
   "name": "python3"
  },
  "language_info": {
   "codemirror_mode": {
    "name": "ipython",
    "version": 3
   },
   "file_extension": ".py",
   "mimetype": "text/x-python",
   "name": "python",
   "nbconvert_exporter": "python",
   "pygments_lexer": "ipython3",
   "version": "3.11.4"
  },
  "orig_nbformat": 4
 },
 "nbformat": 4,
 "nbformat_minor": 2
}
