{
 "cells": [
  {
   "cell_type": "code",
   "execution_count": 2,
   "metadata": {},
   "outputs": [
    {
     "data": {
      "text/plain": [
       "['H', 'e', 'l', 'l', 'o', ' ', 'P', 'y', 't', 'h', 'o', 'n']"
      ]
     },
     "execution_count": 2,
     "metadata": {},
     "output_type": "execute_result"
    }
   ],
   "source": [
    "# list comprehension \n",
    "\n",
    "str_ = [i for i in 'Hello Python']\n",
    "\n",
    "str_"
   ]
  },
  {
   "cell_type": "code",
   "execution_count": 3,
   "metadata": {},
   "outputs": [
    {
     "data": {
      "text/plain": [
       "81"
      ]
     },
     "execution_count": 3,
     "metadata": {},
     "output_type": "execute_result"
    }
   ],
   "source": [
    "# lambda function \n",
    "\n",
    "res = lambda x:x**2 \n",
    "\n",
    "res(9)"
   ]
  },
  {
   "cell_type": "code",
   "execution_count": 4,
   "metadata": {},
   "outputs": [
    {
     "name": "stdout",
     "output_type": "stream",
     "text": [
      "CSV file created successfully.\n"
     ]
    }
   ],
   "source": [
    "import csv\n",
    "\n",
    "header = ['Symbol', 'Price', 'Date']\n",
    "rows = [['AAPL', 146.92, '2022-07-12'],\n",
    "        ['GOOG', 2675.00, '2022-07-12'],\n",
    "        ['TSLA', 659.58, '2022-07-12']]\n",
    "\n",
    "filename = 'stocks.csv'\n",
    "\n",
    "with open(filename, 'w', newline='') as f:\n",
    "    writer = csv.writer(f)\n",
    "    writer.writerow(header)\n",
    "    writer.writerows(rows)\n",
    "\n",
    "print('CSV file created successfully.')\n"
   ]
  },
  {
   "cell_type": "code",
   "execution_count": 7,
   "metadata": {},
   "outputs": [
    {
     "data": {
      "text/html": [
       "<div>\n",
       "<style scoped>\n",
       "    .dataframe tbody tr th:only-of-type {\n",
       "        vertical-align: middle;\n",
       "    }\n",
       "\n",
       "    .dataframe tbody tr th {\n",
       "        vertical-align: top;\n",
       "    }\n",
       "\n",
       "    .dataframe thead th {\n",
       "        text-align: right;\n",
       "    }\n",
       "</style>\n",
       "<table border=\"1\" class=\"dataframe\">\n",
       "  <thead>\n",
       "    <tr style=\"text-align: right;\">\n",
       "      <th></th>\n",
       "      <th>Symbol</th>\n",
       "      <th>Price</th>\n",
       "      <th>Date</th>\n",
       "    </tr>\n",
       "  </thead>\n",
       "  <tbody>\n",
       "    <tr>\n",
       "      <th>0</th>\n",
       "      <td>AAPL</td>\n",
       "      <td>146.92</td>\n",
       "      <td>2022-07-12</td>\n",
       "    </tr>\n",
       "    <tr>\n",
       "      <th>1</th>\n",
       "      <td>GOOG</td>\n",
       "      <td>2675.00</td>\n",
       "      <td>2022-07-12</td>\n",
       "    </tr>\n",
       "    <tr>\n",
       "      <th>2</th>\n",
       "      <td>TSLA</td>\n",
       "      <td>659.58</td>\n",
       "      <td>2022-07-12</td>\n",
       "    </tr>\n",
       "  </tbody>\n",
       "</table>\n",
       "</div>"
      ],
      "text/plain": [
       "  Symbol    Price        Date\n",
       "0   AAPL   146.92  2022-07-12\n",
       "1   GOOG  2675.00  2022-07-12\n",
       "2   TSLA   659.58  2022-07-12"
      ]
     },
     "execution_count": 7,
     "metadata": {},
     "output_type": "execute_result"
    }
   ],
   "source": [
    "# apply function in pandas \n",
    "\n",
    "'''The apply() method allows you to apply a function along one of the axis of the DataFrame,\n",
    " default 0, which is the index (row) axis.'''\n",
    "\n",
    "import pandas as pd\n",
    "\n",
    "df =pd.read_csv(\"stocks.csv\")\n",
    "\n",
    "df\n"
   ]
  },
  {
   "cell_type": "code",
   "execution_count": 10,
   "metadata": {},
   "outputs": [
    {
     "data": {
      "text/plain": [
       "0     Low\n",
       "1    High\n",
       "2    High\n",
       "Name: Price, dtype: object"
      ]
     },
     "execution_count": 10,
     "metadata": {},
     "output_type": "execute_result"
    }
   ],
   "source": [
    "# defining function to apply \n",
    "\n",
    "def check (num):\n",
    "\n",
    "    if num <200:\n",
    "        return \"Low\"\n",
    "    elif num >=200 and num<400:\n",
    "        return \"Medium\"\n",
    "    else :\n",
    "        return \"High\"\n",
    "\n",
    "new_df = df['Price'].apply(check) # apply on Price column \n",
    "\n",
    "new_df"
   ]
  },
  {
   "cell_type": "code",
   "execution_count": 15,
   "metadata": {},
   "outputs": [
    {
     "data": {
      "text/plain": [
       "[('Python', 1), ('Java', 2), ('PHP', 3), ('JavaScript', 4)]"
      ]
     },
     "execution_count": 15,
     "metadata": {},
     "output_type": "execute_result"
    }
   ],
   "source": [
    "# zip function \n",
    "\n",
    "prog_langs = [\"Python\",\"Java\",\"PHP\",\"JavaScript\"]\n",
    "\n",
    "rank = [1,2,3,4]\n",
    "\n",
    "prog_rank = zip(prog_langs,rank)\n",
    "\n",
    "list(prog_rank)"
   ]
  },
  {
   "cell_type": "code",
   "execution_count": 16,
   "metadata": {},
   "outputs": [
    {
     "data": {
      "text/plain": [
       "{(1, 'John'), (2, 'Harry'), (3, 'Sam'), (4, 'Joe')}"
      ]
     },
     "execution_count": 16,
     "metadata": {},
     "output_type": "execute_result"
    }
   ],
   "source": [
    "# we can also convert in set \n",
    "\n",
    "name = [\"Harry\",\"John\",\"Joe\",\"Sam\"]\n",
    "\n",
    "roll = [2,1,4,3]\n",
    "\n",
    "zipped = zip(roll,name)\n",
    "\n",
    "set(zipped)"
   ]
  },
  {
   "cell_type": "code",
   "execution_count": 21,
   "metadata": {},
   "outputs": [
    {
     "data": {
      "text/plain": [
       "[10, 127, 218, 514, 1002]"
      ]
     },
     "execution_count": 21,
     "metadata": {},
     "output_type": "execute_result"
    }
   ],
   "source": [
    "# map function \n",
    "\n",
    "def calc(n):\n",
    "    return n**3 +2 # returns cube + 2 \n",
    "\n",
    "\n",
    "my_list = [2,5,6,8,10]\n",
    "\n",
    "res = map(calc,my_list)\n",
    "\n",
    "list(res)\n",
    "\n"
   ]
  },
  {
   "cell_type": "code",
   "execution_count": null,
   "metadata": {},
   "outputs": [],
   "source": []
  }
 ],
 "metadata": {
  "kernelspec": {
   "display_name": "Python 3",
   "language": "python",
   "name": "python3"
  },
  "language_info": {
   "codemirror_mode": {
    "name": "ipython",
    "version": 3
   },
   "file_extension": ".py",
   "mimetype": "text/x-python",
   "name": "python",
   "nbconvert_exporter": "python",
   "pygments_lexer": "ipython3",
   "version": "3.11.4"
  },
  "orig_nbformat": 4
 },
 "nbformat": 4,
 "nbformat_minor": 2
}
