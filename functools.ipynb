{
 "cells": [
  {
   "cell_type": "code",
   "execution_count": 6,
   "metadata": {},
   "outputs": [
    {
     "name": "stdout",
     "output_type": "stream",
     "text": [
      "Before the function call\n",
      "Hello Python\n",
      "After the function call\n"
     ]
    }
   ],
   "source": [
    "import functools\n",
    "# best solution\n",
    "def mydecorator(func):\n",
    "    @functools.wraps(func)\n",
    "    def wrapper(*args,**kwargs):\n",
    "        print('Before the function call')\n",
    "        result = func(*args,**kwargs)\n",
    "        print('After the function call')\n",
    "\n",
    "        return result \n",
    "    return wrapper\n",
    "\n",
    "@mydecorator\n",
    "def hello(name):\n",
    "    '''The function that says hello '''\n",
    "    print(f'Hello {name}')\n",
    "\n",
    "hello('Python')\n",
    "\n",
    "    "
   ]
  },
  {
   "cell_type": "code",
   "execution_count": 7,
   "metadata": {},
   "outputs": [
    {
     "name": "stdout",
     "output_type": "stream",
     "text": [
      "hello\n",
      "The function that says hello \n"
     ]
    }
   ],
   "source": [
    "print(hello.__name__)\n",
    "print(hello.__doc__)"
   ]
  },
  {
   "cell_type": "code",
   "execution_count": 9,
   "metadata": {},
   "outputs": [
    {
     "name": "stdout",
     "output_type": "stream",
     "text": [
      "Before the function call\n",
      "Hello Alice\n",
      "After function call\n"
     ]
    }
   ],
   "source": [
    "import functools\n",
    "# naive solution\n",
    "\n",
    "def my_generator(func):\n",
    "    def wrapper(*args,**kwargs):\n",
    "        print('Before the function call')\n",
    "        result = func(*args,**kwargs)\n",
    "        print('After function call')\n",
    "        return result\n",
    "    return wrapper\n",
    "\n",
    "@my_generator\n",
    "\n",
    "def my_hello(name):\n",
    "    '''This is function doctring'''\n",
    "    print(f'Hello {name}')\n",
    "\n",
    "my_hello('Alice')"
   ]
  },
  {
   "cell_type": "code",
   "execution_count": 10,
   "metadata": {},
   "outputs": [
    {
     "name": "stdout",
     "output_type": "stream",
     "text": [
      "wrapper\n",
      "None\n"
     ]
    }
   ],
   "source": [
    "print(my_hello.__name__)\n",
    "print(my_hello.__doc__)"
   ]
  },
  {
   "cell_type": "code",
   "execution_count": 1,
   "metadata": {},
   "outputs": [
    {
     "name": "stdout",
     "output_type": "stream",
     "text": [
      "89\n",
      "987\n"
     ]
    }
   ],
   "source": [
    "# memoization\n",
    "\n",
    "import functools \n",
    "\n",
    "@functools.lru_cache(maxsize=123)\n",
    "def fibonacci(n):\n",
    "    if n<=1:\n",
    "        return 1 \n",
    "    else :\n",
    "        return fibonacci(n-1)+fibonacci(n-2)\n",
    "\n",
    "\n",
    "print(fibonacci(10))\n",
    "print(fibonacci(15))"
   ]
  },
  {
   "cell_type": "code",
   "execution_count": 1,
   "metadata": {},
   "outputs": [
    {
     "name": "stdout",
     "output_type": "stream",
     "text": [
      "4\n",
      "81\n"
     ]
    }
   ],
   "source": [
    "import functools\n",
    "# partial function\n",
    "def power(base,exponent):\n",
    "    return base ** exponent \n",
    "\n",
    "# create a specifised version of Power\n",
    "\n",
    "square_fun = functools.partial(power,exponent=2)\n",
    "quad_fun = functools.partial(power,exponent=4)\n",
    "\n",
    "print(square_fun(2))\n",
    "print(quad_fun(3))"
   ]
  },
  {
   "cell_type": "code",
   "execution_count": 4,
   "metadata": {},
   "outputs": [
    {
     "name": "stdout",
     "output_type": "stream",
     "text": [
      "False\n",
      "True\n",
      "True\n"
     ]
    }
   ],
   "source": [
    "# ordering method \n",
    "\n",
    "@functools.total_ordering\n",
    "class Student :\n",
    "    def __init__(self,name,age):\n",
    "        self.name=name\n",
    "        self.age =age \n",
    "    \n",
    "    def __eq__(self,other):\n",
    "        return self.age ==other.age\n",
    "    \n",
    "    def __gt__(self,other):\n",
    "        return self.age > other.age \n",
    "    \n",
    "\n",
    "student1 = Student('Alice',23)\n",
    "student2 = Student('John',31)\n",
    "student3 = Student('Joe',23)\n",
    "\n",
    "print(student1.age == student2.age)\n",
    "print(student1.age<student2.age)\n",
    "print(student1.age==student3.age)"
   ]
  },
  {
   "cell_type": "code",
   "execution_count": 5,
   "metadata": {},
   "outputs": [
    {
     "name": "stdout",
     "output_type": "stream",
     "text": [
      "Generic processing  123\n",
      "Processing string data :  Python functools\n",
      "processing tuple data:  (12, 34, 100)\n"
     ]
    }
   ],
   "source": [
    "# single dispatched function\n",
    "\n",
    "import functools\n",
    "@functools.singledispatch\n",
    "def process_data(data):\n",
    "    print('Generic processing ',data)\n",
    "\n",
    "@process_data.register(str)\n",
    "def _(data):\n",
    "    print(\"Processing string data : \",data)\n",
    "\n",
    "@process_data.register(tuple)\n",
    "def _(data):\n",
    "    print('processing tuple data: ',data)\n",
    "\n",
    "process_data(123)\n",
    "process_data('Python functools')\n",
    "process_data((12,34,100))"
   ]
  },
  {
   "cell_type": "code",
   "execution_count": null,
   "metadata": {},
   "outputs": [],
   "source": []
  }
 ],
 "metadata": {
  "kernelspec": {
   "display_name": "Python 3",
   "language": "python",
   "name": "python3"
  },
  "language_info": {
   "codemirror_mode": {
    "name": "ipython",
    "version": 3
   },
   "file_extension": ".py",
   "mimetype": "text/x-python",
   "name": "python",
   "nbconvert_exporter": "python",
   "pygments_lexer": "ipython3",
   "version": "3.11.4"
  },
  "orig_nbformat": 4
 },
 "nbformat": 4,
 "nbformat_minor": 2
}
