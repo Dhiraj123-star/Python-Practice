{
 "cells": [
  {
   "cell_type": "code",
   "execution_count": 2,
   "metadata": {},
   "outputs": [
    {
     "data": {
      "text/plain": [
       "{'Python': 1, 'Java': 2, 'Javascript': 3, 'Julia': 4, 'C++': 5}"
      ]
     },
     "execution_count": 2,
     "metadata": {},
     "output_type": "execute_result"
    }
   ],
   "source": [
    "# Python Dictionary \n",
    "\n",
    "prog_dict = {\"Python\":1,\"Java\":2,\"Javascript\":3,\"Julia\":4,\"C++\":5}\n",
    "\n",
    "prog_dict\n"
   ]
  },
  {
   "cell_type": "code",
   "execution_count": 3,
   "metadata": {},
   "outputs": [
    {
     "data": {
      "text/plain": [
       "2"
      ]
     },
     "execution_count": 3,
     "metadata": {},
     "output_type": "execute_result"
    }
   ],
   "source": [
    "# accessing the value\n",
    "\n",
    "prog_dict[\"Java\"]"
   ]
  },
  {
   "cell_type": "code",
   "execution_count": 4,
   "metadata": {},
   "outputs": [
    {
     "ename": "KeyError",
     "evalue": "'C'",
     "output_type": "error",
     "traceback": [
      "\u001b[1;31m---------------------------------------------------------------------------\u001b[0m",
      "\u001b[1;31mKeyError\u001b[0m                                  Traceback (most recent call last)",
      "Cell \u001b[1;32mIn[4], line 3\u001b[0m\n\u001b[0;32m      1\u001b[0m \u001b[39m# if key is not exist then raises KeyError\u001b[39;00m\n\u001b[1;32m----> 3\u001b[0m prog_dict[\u001b[39m\"\u001b[39;49m\u001b[39mC\u001b[39;49m\u001b[39m\"\u001b[39;49m]\n",
      "\u001b[1;31mKeyError\u001b[0m: 'C'"
     ]
    }
   ],
   "source": [
    "# if key is not exist then raises KeyError\n",
    "\n",
    "prog_dict[\"C\"]"
   ]
  },
  {
   "cell_type": "code",
   "execution_count": 8,
   "metadata": {},
   "outputs": [
    {
     "data": {
      "text/plain": [
       "5"
      ]
     },
     "execution_count": 8,
     "metadata": {},
     "output_type": "execute_result"
    }
   ],
   "source": [
    "# to avoid get() is used \n",
    "\n",
    "res = prog_dict.get(\"C++\") # returns Value otherwise blank\n",
    "res"
   ]
  },
  {
   "cell_type": "code",
   "execution_count": 14,
   "metadata": {},
   "outputs": [],
   "source": [
    "res = prog_dict.get(\"C\")\n",
    "res"
   ]
  },
  {
   "cell_type": "code",
   "execution_count": 15,
   "metadata": {},
   "outputs": [
    {
     "data": {
      "text/plain": [
       "{'Python': 1, 'Java': 2, 'Javascript': 3, 'Julia': 4, 'C++': 5, 'Go': 6}"
      ]
     },
     "execution_count": 15,
     "metadata": {},
     "output_type": "execute_result"
    }
   ],
   "source": [
    "# updating and adding \n",
    "\n",
    "prog_dict[\"Go\"]=6 # newly added \n",
    "\n",
    "prog_dict"
   ]
  },
  {
   "cell_type": "code",
   "execution_count": 16,
   "metadata": {},
   "outputs": [
    {
     "data": {
      "text/plain": [
       "{'Python': 1, 'Java': 3, 'Javascript': 3, 'Julia': 4, 'C++': 5, 'Go': 6}"
      ]
     },
     "execution_count": 16,
     "metadata": {},
     "output_type": "execute_result"
    }
   ],
   "source": [
    "prog_dict[\"Java\"]=3\n",
    "\n",
    "prog_dict"
   ]
  },
  {
   "cell_type": "code",
   "execution_count": 20,
   "metadata": {},
   "outputs": [
    {
     "name": "stdout",
     "output_type": "stream",
     "text": [
      "Key (Python)-> value [1]\n",
      "Key (Java)-> value [3]\n",
      "Key (Javascript)-> value [3]\n",
      "Key (Julia)-> value [4]\n",
      "Key (C++)-> value [5]\n",
      "Key (Go)-> value [6]\n"
     ]
    }
   ],
   "source": [
    "# iterating through dict\n",
    "\n",
    "for i,j in prog_dict.items(): print(f\"Key ({i})-> value [{j}]\")"
   ]
  },
  {
   "cell_type": "code",
   "execution_count": 23,
   "metadata": {},
   "outputs": [
    {
     "name": "stdout",
     "output_type": "stream",
     "text": [
      "Exists\n"
     ]
    }
   ],
   "source": [
    "# checking the existence of Key \n",
    "\n",
    "if'Python' in prog_dict:\n",
    "    print(\"Exists\")\n",
    "else : print(\"Not Exist\")"
   ]
  },
  {
   "cell_type": "code",
   "execution_count": 24,
   "metadata": {},
   "outputs": [
    {
     "data": {
      "text/plain": [
       "{'Python': 1, 'Javascript': 3, 'Julia': 4, 'C++': 5, 'Go': 6}"
      ]
     },
     "execution_count": 24,
     "metadata": {},
     "output_type": "execute_result"
    }
   ],
   "source": [
    "# removing entry \n",
    "\n",
    "del prog_dict[\"Java\"] \n",
    "\n",
    "prog_dict"
   ]
  },
  {
   "cell_type": "code",
   "execution_count": 25,
   "metadata": {},
   "outputs": [
    {
     "data": {
      "text/plain": [
       "{'Python': 1, 'Javascript': 3, 'Julia': 4, 'C++': 5, 'Go': 6}"
      ]
     },
     "execution_count": 25,
     "metadata": {},
     "output_type": "execute_result"
    }
   ],
   "source": [
    "# dictionary operations\n",
    "\n",
    "copied_dict = prog_dict.copy() # copy the dictionary \n",
    "\n",
    "copied_dict"
   ]
  },
  {
   "cell_type": "code",
   "execution_count": 27,
   "metadata": {},
   "outputs": [
    {
     "data": {
      "text/plain": [
       "5"
      ]
     },
     "execution_count": 27,
     "metadata": {},
     "output_type": "execute_result"
    }
   ],
   "source": [
    "# check the length of the dictionary \n",
    "\n",
    "dict_length = len(prog_dict)\n",
    "\n",
    "dict_length"
   ]
  },
  {
   "cell_type": "code",
   "execution_count": 28,
   "metadata": {},
   "outputs": [
    {
     "data": {
      "text/plain": [
       "{}"
      ]
     },
     "execution_count": 28,
     "metadata": {},
     "output_type": "execute_result"
    }
   ],
   "source": [
    "# clearing the dictionary \n",
    "\n",
    "prog_dict.clear()\n",
    "\n",
    "prog_dict # returns blank dictionary"
   ]
  },
  {
   "cell_type": "code",
   "execution_count": 29,
   "metadata": {},
   "outputs": [
    {
     "data": {
      "text/plain": [
       "True"
      ]
     },
     "execution_count": 29,
     "metadata": {},
     "output_type": "execute_result"
    }
   ],
   "source": [
    "# checking the equality \n",
    "\n",
    "dict1 = {\"a\":1,\"b\":2}\n",
    "dict2 = {\"b\":2,\"a\":1}\n",
    "\n",
    "dict1==dict2"
   ]
  },
  {
   "cell_type": "code",
   "execution_count": 30,
   "metadata": {},
   "outputs": [
    {
     "data": {
      "text/plain": [
       "{'Nibe': {'age': 23, 'hobby': 'Python Programming'},\n",
       " 'Dita': {'age': 34, 'hobby': 'Java Programming'}}"
      ]
     },
     "execution_count": 30,
     "metadata": {},
     "output_type": "execute_result"
    }
   ],
   "source": [
    "# nested dictionaries \n",
    "\n",
    "student_details = {\n",
    "    'Nibe':{'age':23,'hobby':\"Python Programming\"},\n",
    "    'Dita':{\"age\":34,\"hobby\":\"Java Programming\"}\n",
    "}\n",
    "\n",
    "student_details"
   ]
  },
  {
   "cell_type": "code",
   "execution_count": 31,
   "metadata": {},
   "outputs": [
    {
     "data": {
      "text/plain": [
       "23"
      ]
     },
     "execution_count": 31,
     "metadata": {},
     "output_type": "execute_result"
    }
   ],
   "source": [
    "student_details['Nibe']['age']"
   ]
  },
  {
   "cell_type": "code",
   "execution_count": 32,
   "metadata": {},
   "outputs": [
    {
     "data": {
      "text/plain": [
       "{'P': 2,\n",
       " 'y': 1,\n",
       " 't': 1,\n",
       " 'h': 1,\n",
       " 'o': 2,\n",
       " 'n': 2,\n",
       " ' ': 1,\n",
       " 'r': 2,\n",
       " 'g': 2,\n",
       " 'a': 1,\n",
       " 'm': 2,\n",
       " 'i': 1}"
      ]
     },
     "execution_count": 32,
     "metadata": {},
     "output_type": "execute_result"
    }
   ],
   "source": [
    "# counting the occurence of char in string \n",
    "\n",
    "word = \"Python Programming\"\n",
    "count = {}\n",
    "\n",
    "for char in word:\n",
    "    count[char]= count.get(char,0)+1\n",
    "\n",
    "count"
   ]
  },
  {
   "cell_type": "code",
   "execution_count": 33,
   "metadata": {},
   "outputs": [
    {
     "name": "stdout",
     "output_type": "stream",
     "text": [
      "The Keys dict_keys(['Rahul', 'Rohit', 'Ram', 'Roshan'])\n",
      "The values dict_values([34, 44, 56, 44])\n",
      "The items dict_items([('Rahul', 34), ('Rohit', 44), ('Ram', 56), ('Roshan', 44)])\n",
      "Removed grade 44\n",
      "After updated {'Rahul': 34, 'Rohit': 44, 'Ram': 90}\n"
     ]
    }
   ],
   "source": [
    "# dictionary methods\n",
    "\n",
    "student_details = {\"Rahul\":34,\"Rohit\":44,\"Ram\":56,\"Roshan\":44}\n",
    "\n",
    "keys = student_details.keys()\n",
    "\n",
    "print(f\"The Keys {keys}\")\n",
    "\n",
    "values = student_details.values()\n",
    "\n",
    "print(f\"The values {values}\")\n",
    "\n",
    "items = student_details.items()\n",
    "\n",
    "print(f\"The items {items}\")\n",
    "\n",
    "# removing the key-value pairs \n",
    "\n",
    "grade = student_details.pop('Roshan')\n",
    "\n",
    "print(f\"Removed grade {grade}\")\n",
    "\n",
    "# updating the dictionary \n",
    "\n",
    "student_details.update({'Ram':90})\n",
    "\n",
    "print(f\"After updated {student_details}\")\n"
   ]
  },
  {
   "cell_type": "code",
   "execution_count": 50,
   "metadata": {},
   "outputs": [
    {
     "data": {
      "text/plain": [
       "{'Python': 1, 'JavaScript': 2, 'C': 3, 'C++': 4, 'Go': 5}"
      ]
     },
     "execution_count": 50,
     "metadata": {},
     "output_type": "execute_result"
    }
   ],
   "source": [
    "# dictionary comprehension \n",
    "\n",
    "prog_langs = [\"Python\",\"JavaScript\",\"C\",\"C++\",\"Go\",\"Julia\"]\n",
    "rank = [1,2,3,4,5]\n",
    "\n",
    "rank_dict = {x:y for x,y in zip(prog_langs,rank)}\n",
    "\n",
    "rank_dict"
   ]
  },
  {
   "cell_type": "code",
   "execution_count": 42,
   "metadata": {},
   "outputs": [
    {
     "data": {
      "text/plain": [
       "{'Ram': 44, 'Rohit': 33, 'Roshan': 11, 'Shyam': 23}"
      ]
     },
     "execution_count": 42,
     "metadata": {},
     "output_type": "execute_result"
    }
   ],
   "source": [
    "# dictionary sorting \n",
    "\n",
    "student_grades = {\"Ram\":44,\"Shyam\":23,\"Rohit\":33,\"Roshan\":11}\n",
    "\n",
    "sorted_dict = dict(sorted(student_grades.items())) # sort in descending order by key\n",
    "\n",
    "sorted_dict"
   ]
  },
  {
   "cell_type": "code",
   "execution_count": 44,
   "metadata": {},
   "outputs": [
    {
     "data": {
      "text/plain": [
       "{'Shyam': 23, 'Roshan': 11, 'Rohit': 33, 'Ram': 44}"
      ]
     },
     "execution_count": 44,
     "metadata": {},
     "output_type": "execute_result"
    }
   ],
   "source": [
    "sorted_dict = dict(sorted(student_grades.items(),reverse=True)) # sorted in ascending order by key\n",
    "\n",
    "sorted_dict"
   ]
  },
  {
   "cell_type": "code",
   "execution_count": 45,
   "metadata": {},
   "outputs": [
    {
     "data": {
      "text/plain": [
       "{'Roshan': 11, 'Shyam': 23, 'Rohit': 33, 'Ram': 44}"
      ]
     },
     "execution_count": 45,
     "metadata": {},
     "output_type": "execute_result"
    }
   ],
   "source": [
    "sorted_by_values = dict(sorted(student_grades.items(),key= lambda x :x[1]))  # sorted by value \n",
    "\n",
    "sorted_by_values"
   ]
  },
  {
   "cell_type": "code",
   "execution_count": 47,
   "metadata": {},
   "outputs": [
    {
     "name": "stdout",
     "output_type": "stream",
     "text": [
      "Tushar's grade:  89\n",
      "Nidisha's grade:  N/A\n"
     ]
    }
   ],
   "source": [
    "# handling missing value \n",
    "\n",
    "from collections import defaultdict\n",
    "\n",
    "student_grades = defaultdict(lambda: 'N/A')\n",
    "student_grades['Tushar'] = 89 # type: ignore\n",
    "\n",
    "print(\"Tushar's grade: \", student_grades['Tushar'])    # Output: Tushar's grade:  89\n",
    "print(\"Nidisha's grade: \", student_grades['Bidisha']) "
   ]
  },
  {
   "cell_type": "code",
   "execution_count": 49,
   "metadata": {},
   "outputs": [
    {
     "name": "stdout",
     "output_type": "stream",
     "text": [
      "Keys dict_keys(['India', 'Pakistan', 'Bangladesh', 'Nepal'])\n",
      "Values dict_values(['New Delhi', 'Islamabad', 'dhaka', 'Kathmandu'])\n",
      "Items dict_items([('India', 'New Delhi'), ('Pakistan', 'Islamabad'), ('Bangladesh', 'dhaka'), ('Nepal', 'Kathmandu')])\n"
     ]
    }
   ],
   "source": [
    "# dictionary views \n",
    "'''\n",
    "Dictionary views provide dynamic and live views of the keys, values, or key-value pairs in a dictionary. \n",
    "They reflect any changes made to the dictionary.\n",
    "\n",
    "'''\n",
    "prog_langs = {\"India\":\"New Delhi\",\"Pakistan\":\"Islamabad\",\"Bangladesh\":\"Dhaka\",\"Nepal\":\"Kathmandu\"}\n",
    "\n",
    "keys_views = prog_langs.keys()\n",
    "values_views = prog_langs.values()\n",
    "items_views = prog_langs.items()\n",
    "\n",
    "# modifying dictionary \n",
    "\n",
    "prog_langs[\"Bangladesh\"]= \"dhaka\"\n",
    "\n",
    "# the changes are  reflected \n",
    "\n",
    "print(f\"Keys {keys_views}\")\n",
    "print(f\"Values {values_views}\")\n",
    "print(f\"Items {items_views}\")\n"
   ]
  },
  {
   "cell_type": "code",
   "execution_count": null,
   "metadata": {},
   "outputs": [],
   "source": []
  }
 ],
 "metadata": {
  "kernelspec": {
   "display_name": "Python 3",
   "language": "python",
   "name": "python3"
  },
  "language_info": {
   "codemirror_mode": {
    "name": "ipython",
    "version": 3
   },
   "file_extension": ".py",
   "mimetype": "text/x-python",
   "name": "python",
   "nbconvert_exporter": "python",
   "pygments_lexer": "ipython3",
   "version": "3.11.4"
  },
  "orig_nbformat": 4
 },
 "nbformat": 4,
 "nbformat_minor": 2
}
