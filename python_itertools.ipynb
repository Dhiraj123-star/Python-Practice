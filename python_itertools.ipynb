{
 "cells": [
  {
   "cell_type": "code",
   "execution_count": 2,
   "metadata": {},
   "outputs": [
    {
     "name": "stdout",
     "output_type": "stream",
     "text": [
      "30\n",
      "33\n",
      "36\n",
      "39\n",
      "42\n",
      "45\n",
      "48\n",
      "51\n"
     ]
    }
   ],
   "source": [
    "# itertools \n",
    "# count \n",
    "import itertools\n",
    "\n",
    "for i in itertools.count(30,3):\n",
    "    print(i)\n",
    "    if i>50:\n",
    "        break"
   ]
  },
  {
   "cell_type": "code",
   "execution_count": 3,
   "metadata": {},
   "outputs": [
    {
     "name": "stdout",
     "output_type": "stream",
     "text": [
      "Learn Python\n",
      "Learn Java\n",
      "Learn C\n",
      "Learn C++\n",
      "Learn Julia\n",
      "Learn Python\n"
     ]
    }
   ],
   "source": [
    "# cycle()\n",
    "\n",
    "progs_lang = [\"Python\",\"Java\",\"C\",\"C++\",\"Julia\"]\n",
    "\n",
    "prog_cycle = itertools.cycle(progs_lang)\n",
    "\n",
    "for _ in range(6):\n",
    "    lang = next(prog_cycle)\n",
    "    print(f\"Learn {lang}\")"
   ]
  },
  {
   "cell_type": "code",
   "execution_count": 5,
   "metadata": {},
   "outputs": [
    {
     "name": "stdout",
     "output_type": "stream",
     "text": [
      "['Python is awesome programming language',\n",
      " 'Python is awesome programming language',\n",
      " 'Python is awesome programming language']\n"
     ]
    }
   ],
   "source": [
    "# repeat()\n",
    "from pprint import pprint\n",
    "pprint([i for i in itertools.repeat('Python is awesome programming language',3)]) # repeat three times "
   ]
  },
  {
   "cell_type": "code",
   "execution_count": 9,
   "metadata": {},
   "outputs": [
    {
     "data": {
      "text/plain": [
       "[12, 672, 12768, 1276800, 29366400]"
      ]
     },
     "execution_count": 9,
     "metadata": {},
     "output_type": "execute_result"
    }
   ],
   "source": [
    "# accumulate \n",
    "\n",
    "import operator\n",
    "\n",
    "\n",
    "data = [12,56,19,100,23]\n",
    "\n",
    "result = itertools.accumulate(data,operator.mul)\n",
    "list(result)"
   ]
  },
  {
   "cell_type": "code",
   "execution_count": 13,
   "metadata": {},
   "outputs": [
    {
     "name": "stdout",
     "output_type": "stream",
     "text": [
      "12\n",
      "56\n",
      "56\n",
      "100\n",
      "100\n"
     ]
    }
   ],
   "source": [
    "# accumulate with max and min\n",
    "\n",
    "max_num = itertools.accumulate(data,max)\n",
    "\n",
    "for each in max_num:\n",
    "    print(each)"
   ]
  },
  {
   "cell_type": "code",
   "execution_count": 14,
   "metadata": {},
   "outputs": [
    {
     "data": {
      "text/plain": [
       "100"
      ]
     },
     "execution_count": 14,
     "metadata": {},
     "output_type": "execute_result"
    }
   ],
   "source": [
    "max(100,4)"
   ]
  },
  {
   "cell_type": "code",
   "execution_count": 16,
   "metadata": {},
   "outputs": [
    {
     "data": {
      "text/plain": [
       "[12, 68, 168, 248, 338, 426]"
      ]
     },
     "execution_count": 16,
     "metadata": {},
     "output_type": "execute_result"
    }
   ],
   "source": [
    "# passing function is optional , sum is done by default\n",
    "\n",
    "data = [12,56,100,80,90,88]\n",
    "\n",
    "result = itertools.accumulate(data)\n",
    "\n",
    "list(result)"
   ]
  },
  {
   "cell_type": "code",
   "execution_count": 17,
   "metadata": {},
   "outputs": [
    {
     "data": {
      "text/plain": [
       "['Python', 'Java', 'JavaScript', 'C', 'C++', 'R']"
      ]
     },
     "execution_count": 17,
     "metadata": {},
     "output_type": "execute_result"
    }
   ],
   "source": [
    "# chain()\n",
    "\n",
    "progs_lang_1= [\"Python\",\"Java\",\"JavaScript\"]\n",
    "progs_lang_2 = [\"C\",\"C++\",\"R\"]\n",
    "\n",
    "res = itertools.chain(progs_lang_1,progs_lang_2)\n",
    "\n",
    "list(res)"
   ]
  },
  {
   "cell_type": "code",
   "execution_count": 19,
   "metadata": {},
   "outputs": [
    {
     "name": "stdout",
     "output_type": "stream",
     "text": [
      "The best programming language is C++\n",
      "The best programming language is Java\n",
      "The best programming language is JavaScript\n"
     ]
    }
   ],
   "source": [
    "# compress \n",
    "\n",
    "prog_langs = [\"C\",\"C++\",\"Java\",\"Python\",\"JavaScript\",\"Mojo\"]\n",
    "selectors = [False,True,True,False,True,False]\n",
    "\n",
    "result = itertools.compress(prog_langs,selectors) # only returns True values \n",
    "\n",
    "for best in result :\n",
    "    print(f\"The best programming language is {best}\")"
   ]
  },
  {
   "cell_type": "code",
   "execution_count": 22,
   "metadata": {},
   "outputs": [
    {
     "name": "stdout",
     "output_type": "stream",
     "text": [
      "91\n",
      "101\n"
     ]
    }
   ],
   "source": [
    "# dropwhile() \n",
    "\n",
    "data = [2,50,6,78,10,91,101]\n",
    "\n",
    "result = itertools.dropwhile(lambda x:x%2==0,data) # it returns the function argument when argument returns False first time\n",
    "\n",
    "for each in result:\n",
    "    print(each)"
   ]
  },
  {
   "cell_type": "code",
   "execution_count": 25,
   "metadata": {},
   "outputs": [
    {
     "name": "stdout",
     "output_type": "stream",
     "text": [
      "Even numbers in the list: \n"
     ]
    },
    {
     "data": {
      "text/plain": [
       "[13, 101]"
      ]
     },
     "execution_count": 25,
     "metadata": {},
     "output_type": "execute_result"
    }
   ],
   "source": [
    "# filterFalse \n",
    "\n",
    "li = [13,56,10,78,101]\n",
    "\n",
    "filter_false = itertools.filterfalse(lambda x:x%2==0,li)\n",
    "\n",
    "print(\"Even numbers in the list: \") # it filters out the odd number instead of even \n",
    "list(filter_false)"
   ]
  },
  {
   "cell_type": "code",
   "execution_count": 28,
   "metadata": {},
   "outputs": [
    {
     "name": "stdout",
     "output_type": "stream",
     "text": [
      "First key function: \n",
      "a : [('a', 1)]\n",
      "b : [('b', 2)]\n",
      "c : [('c', 3)]\n",
      "d : [('d', 4)]\n",
      "e : [('e', 5)]\n"
     ]
    }
   ],
   "source": [
    "# groupby\n",
    "\n",
    "li = [(\"a\",1),(\"b\",2),(\"c\",3),(\"d\",4),(\"e\",5)]\n",
    "\n",
    "key_func_1 = lambda x :x[0]\n",
    "\n",
    "print(\"First key function: \")\n",
    "\n",
    "for key,group in itertools.groupby(li,key_func_1): # groupby key\n",
    "    print(str(key)+ \" :\",list(group))"
   ]
  },
  {
   "cell_type": "code",
   "execution_count": 29,
   "metadata": {},
   "outputs": [
    {
     "name": "stdout",
     "output_type": "stream",
     "text": [
      "Second Key Function: \n",
      "1 : [('a', 1)]\n",
      "2 : [('b', 2)]\n",
      "3 : [('c', 3)]\n",
      "4 : [('d', 4)]\n",
      "5 : [('e', 5)]\n"
     ]
    }
   ],
   "source": [
    "# second key function\n",
    "\n",
    "key_func_2 = lambda x:x[1]\n",
    "\n",
    "print(\"Second Key Function: \")\n",
    "\n",
    "for key,group in itertools.groupby(li,key_func_2):\n",
    "    print(str(key) + \" :\",list(group))"
   ]
  },
  {
   "cell_type": "code",
   "execution_count": 31,
   "metadata": {},
   "outputs": [
    {
     "data": {
      "text/plain": [
       "['New York', 'London', 'Istanbul']"
      ]
     },
     "execution_count": 31,
     "metadata": {},
     "output_type": "execute_result"
    }
   ],
   "source": [
    "# islice()\n",
    "\n",
    "cities = [\"New York\",\"London\",\"Istanbul\",\"Moscow\",\"Paris\"]\n",
    "\n",
    "few_cities = itertools.islice(cities,3) # islice() acts as slice () in the list\n",
    "\n",
    "list(few_cities)"
   ]
  },
  {
   "cell_type": "code",
   "execution_count": 32,
   "metadata": {},
   "outputs": [
    {
     "data": {
      "text/plain": [
       "[12, 8100, 343, 4096]"
      ]
     },
     "execution_count": 32,
     "metadata": {},
     "output_type": "execute_result"
    }
   ],
   "source": [
    "# starmap \n",
    "\n",
    "from itertools import starmap\n",
    "\n",
    "li=[(12,1),(90,2),(7,3),(8,4)]\n",
    "\n",
    "new_li = list(starmap(operator.pow,li))\n",
    "\n",
    "list(new_li)"
   ]
  },
  {
   "cell_type": "code",
   "execution_count": 34,
   "metadata": {},
   "outputs": [
    {
     "data": {
      "text/plain": [
       "[12, 56]"
      ]
     },
     "execution_count": 34,
     "metadata": {},
     "output_type": "execute_result"
    }
   ],
   "source": [
    "# takewhile() opposite of dropwhile()\n",
    "\n",
    "data = [12,56,11,90,23,45]\n",
    "\n",
    "result= itertools.takewhile(lambda x:x%2==0,data)\n",
    "\n",
    "list(result)"
   ]
  },
  {
   "cell_type": "code",
   "execution_count": 35,
   "metadata": {},
   "outputs": [
    {
     "data": {
      "text/plain": [
       "[1, 2, 3, 4, 5, 6]"
      ]
     },
     "execution_count": 35,
     "metadata": {},
     "output_type": "execute_result"
    }
   ],
   "source": [
    "# tee \n",
    "\n",
    "iterator1,iterator2,iterator3 = itertools.tee([1,2,3,4,5,6],3)\n",
    "\n",
    "list(iterator1)"
   ]
  },
  {
   "cell_type": "code",
   "execution_count": 36,
   "metadata": {},
   "outputs": [
    {
     "data": {
      "text/plain": [
       "[]"
      ]
     },
     "execution_count": 36,
     "metadata": {},
     "output_type": "execute_result"
    }
   ],
   "source": [
    "list(iterator1) # if we try to print the same list again, we get an empty list"
   ]
  },
  {
   "cell_type": "code",
   "execution_count": 37,
   "metadata": {},
   "outputs": [
    {
     "data": {
      "text/plain": [
       "[1, 2, 3, 4, 5, 6]"
      ]
     },
     "execution_count": 37,
     "metadata": {},
     "output_type": "execute_result"
    }
   ],
   "source": [
    "list(iterator2)"
   ]
  },
  {
   "cell_type": "code",
   "execution_count": 38,
   "metadata": {},
   "outputs": [
    {
     "data": {
      "text/plain": [
       "[1, 2, 3, 4, 5, 6]"
      ]
     },
     "execution_count": 38,
     "metadata": {},
     "output_type": "execute_result"
    }
   ],
   "source": [
    "list(iterator3)"
   ]
  },
  {
   "cell_type": "code",
   "execution_count": 39,
   "metadata": {},
   "outputs": [
    {
     "name": "stdout",
     "output_type": "stream",
     "text": [
      "('Python', 1)\n",
      "('Java', 2)\n",
      "('JavaScript', 3)\n",
      "('C', 4)\n",
      "('C++', 5)\n",
      "('anything', 6)\n",
      "('anything', 7)\n",
      "('anything', 8)\n"
     ]
    }
   ],
   "source": [
    "# zip_longest()\n",
    "\n",
    "prog_langs = [\"Python\",\"Java\",\"JavaScript\",\"C\",\"C++\"]\n",
    "\n",
    "rank = [1,2,3,4,5,6,7,8] \n",
    "\n",
    "''''\n",
    "\n",
    "This function makes an iterator that aggregates elements from each of the iterables. If the iterables are of uneven length, \n",
    "missing values are filled-in with fillvalue. Iteration continues until the longest iterable is exhausted.\n",
    "\n",
    "'''\n",
    "\n",
    "for each in itertools.zip_longest(prog_langs,rank,fillvalue=\"anything\"):\n",
    "    print(each)\n",
    "\n"
   ]
  },
  {
   "cell_type": "code",
   "execution_count": 40,
   "metadata": {},
   "outputs": [
    {
     "data": {
      "text/plain": [
       "[(12, 'a'),\n",
       " (12, 'c'),\n",
       " (12, 'k'),\n",
       " (12, 'l'),\n",
       " (56, 'a'),\n",
       " (56, 'c'),\n",
       " (56, 'k'),\n",
       " (56, 'l'),\n",
       " (19, 'a'),\n",
       " (19, 'c'),\n",
       " (19, 'k'),\n",
       " (19, 'l'),\n",
       " (10, 'a'),\n",
       " (10, 'c'),\n",
       " (10, 'k'),\n",
       " (10, 'l')]"
      ]
     },
     "execution_count": 40,
     "metadata": {},
     "output_type": "execute_result"
    }
   ],
   "source": [
    "# product()\n",
    "\n",
    "num_data =[12,56,19,10]\n",
    "\n",
    "alpha_data =['a','c','k','l']\n",
    "\n",
    "result = itertools.product(num_data,alpha_data)\n",
    "\n",
    "list(result)"
   ]
  },
  {
   "cell_type": "code",
   "execution_count": 41,
   "metadata": {},
   "outputs": [
    {
     "data": {
      "text/plain": [
       "[(12, 'a', 12, 'a'),\n",
       " (12, 'a', 12, 'c'),\n",
       " (12, 'a', 12, 'k'),\n",
       " (12, 'a', 12, 'l'),\n",
       " (12, 'a', 56, 'a'),\n",
       " (12, 'a', 56, 'c'),\n",
       " (12, 'a', 56, 'k'),\n",
       " (12, 'a', 56, 'l'),\n",
       " (12, 'a', 19, 'a'),\n",
       " (12, 'a', 19, 'c'),\n",
       " (12, 'a', 19, 'k'),\n",
       " (12, 'a', 19, 'l'),\n",
       " (12, 'a', 10, 'a'),\n",
       " (12, 'a', 10, 'c'),\n",
       " (12, 'a', 10, 'k'),\n",
       " (12, 'a', 10, 'l'),\n",
       " (12, 'c', 12, 'a'),\n",
       " (12, 'c', 12, 'c'),\n",
       " (12, 'c', 12, 'k'),\n",
       " (12, 'c', 12, 'l'),\n",
       " (12, 'c', 56, 'a'),\n",
       " (12, 'c', 56, 'c'),\n",
       " (12, 'c', 56, 'k'),\n",
       " (12, 'c', 56, 'l'),\n",
       " (12, 'c', 19, 'a'),\n",
       " (12, 'c', 19, 'c'),\n",
       " (12, 'c', 19, 'k'),\n",
       " (12, 'c', 19, 'l'),\n",
       " (12, 'c', 10, 'a'),\n",
       " (12, 'c', 10, 'c'),\n",
       " (12, 'c', 10, 'k'),\n",
       " (12, 'c', 10, 'l'),\n",
       " (12, 'k', 12, 'a'),\n",
       " (12, 'k', 12, 'c'),\n",
       " (12, 'k', 12, 'k'),\n",
       " (12, 'k', 12, 'l'),\n",
       " (12, 'k', 56, 'a'),\n",
       " (12, 'k', 56, 'c'),\n",
       " (12, 'k', 56, 'k'),\n",
       " (12, 'k', 56, 'l'),\n",
       " (12, 'k', 19, 'a'),\n",
       " (12, 'k', 19, 'c'),\n",
       " (12, 'k', 19, 'k'),\n",
       " (12, 'k', 19, 'l'),\n",
       " (12, 'k', 10, 'a'),\n",
       " (12, 'k', 10, 'c'),\n",
       " (12, 'k', 10, 'k'),\n",
       " (12, 'k', 10, 'l'),\n",
       " (12, 'l', 12, 'a'),\n",
       " (12, 'l', 12, 'c'),\n",
       " (12, 'l', 12, 'k'),\n",
       " (12, 'l', 12, 'l'),\n",
       " (12, 'l', 56, 'a'),\n",
       " (12, 'l', 56, 'c'),\n",
       " (12, 'l', 56, 'k'),\n",
       " (12, 'l', 56, 'l'),\n",
       " (12, 'l', 19, 'a'),\n",
       " (12, 'l', 19, 'c'),\n",
       " (12, 'l', 19, 'k'),\n",
       " (12, 'l', 19, 'l'),\n",
       " (12, 'l', 10, 'a'),\n",
       " (12, 'l', 10, 'c'),\n",
       " (12, 'l', 10, 'k'),\n",
       " (12, 'l', 10, 'l'),\n",
       " (56, 'a', 12, 'a'),\n",
       " (56, 'a', 12, 'c'),\n",
       " (56, 'a', 12, 'k'),\n",
       " (56, 'a', 12, 'l'),\n",
       " (56, 'a', 56, 'a'),\n",
       " (56, 'a', 56, 'c'),\n",
       " (56, 'a', 56, 'k'),\n",
       " (56, 'a', 56, 'l'),\n",
       " (56, 'a', 19, 'a'),\n",
       " (56, 'a', 19, 'c'),\n",
       " (56, 'a', 19, 'k'),\n",
       " (56, 'a', 19, 'l'),\n",
       " (56, 'a', 10, 'a'),\n",
       " (56, 'a', 10, 'c'),\n",
       " (56, 'a', 10, 'k'),\n",
       " (56, 'a', 10, 'l'),\n",
       " (56, 'c', 12, 'a'),\n",
       " (56, 'c', 12, 'c'),\n",
       " (56, 'c', 12, 'k'),\n",
       " (56, 'c', 12, 'l'),\n",
       " (56, 'c', 56, 'a'),\n",
       " (56, 'c', 56, 'c'),\n",
       " (56, 'c', 56, 'k'),\n",
       " (56, 'c', 56, 'l'),\n",
       " (56, 'c', 19, 'a'),\n",
       " (56, 'c', 19, 'c'),\n",
       " (56, 'c', 19, 'k'),\n",
       " (56, 'c', 19, 'l'),\n",
       " (56, 'c', 10, 'a'),\n",
       " (56, 'c', 10, 'c'),\n",
       " (56, 'c', 10, 'k'),\n",
       " (56, 'c', 10, 'l'),\n",
       " (56, 'k', 12, 'a'),\n",
       " (56, 'k', 12, 'c'),\n",
       " (56, 'k', 12, 'k'),\n",
       " (56, 'k', 12, 'l'),\n",
       " (56, 'k', 56, 'a'),\n",
       " (56, 'k', 56, 'c'),\n",
       " (56, 'k', 56, 'k'),\n",
       " (56, 'k', 56, 'l'),\n",
       " (56, 'k', 19, 'a'),\n",
       " (56, 'k', 19, 'c'),\n",
       " (56, 'k', 19, 'k'),\n",
       " (56, 'k', 19, 'l'),\n",
       " (56, 'k', 10, 'a'),\n",
       " (56, 'k', 10, 'c'),\n",
       " (56, 'k', 10, 'k'),\n",
       " (56, 'k', 10, 'l'),\n",
       " (56, 'l', 12, 'a'),\n",
       " (56, 'l', 12, 'c'),\n",
       " (56, 'l', 12, 'k'),\n",
       " (56, 'l', 12, 'l'),\n",
       " (56, 'l', 56, 'a'),\n",
       " (56, 'l', 56, 'c'),\n",
       " (56, 'l', 56, 'k'),\n",
       " (56, 'l', 56, 'l'),\n",
       " (56, 'l', 19, 'a'),\n",
       " (56, 'l', 19, 'c'),\n",
       " (56, 'l', 19, 'k'),\n",
       " (56, 'l', 19, 'l'),\n",
       " (56, 'l', 10, 'a'),\n",
       " (56, 'l', 10, 'c'),\n",
       " (56, 'l', 10, 'k'),\n",
       " (56, 'l', 10, 'l'),\n",
       " (19, 'a', 12, 'a'),\n",
       " (19, 'a', 12, 'c'),\n",
       " (19, 'a', 12, 'k'),\n",
       " (19, 'a', 12, 'l'),\n",
       " (19, 'a', 56, 'a'),\n",
       " (19, 'a', 56, 'c'),\n",
       " (19, 'a', 56, 'k'),\n",
       " (19, 'a', 56, 'l'),\n",
       " (19, 'a', 19, 'a'),\n",
       " (19, 'a', 19, 'c'),\n",
       " (19, 'a', 19, 'k'),\n",
       " (19, 'a', 19, 'l'),\n",
       " (19, 'a', 10, 'a'),\n",
       " (19, 'a', 10, 'c'),\n",
       " (19, 'a', 10, 'k'),\n",
       " (19, 'a', 10, 'l'),\n",
       " (19, 'c', 12, 'a'),\n",
       " (19, 'c', 12, 'c'),\n",
       " (19, 'c', 12, 'k'),\n",
       " (19, 'c', 12, 'l'),\n",
       " (19, 'c', 56, 'a'),\n",
       " (19, 'c', 56, 'c'),\n",
       " (19, 'c', 56, 'k'),\n",
       " (19, 'c', 56, 'l'),\n",
       " (19, 'c', 19, 'a'),\n",
       " (19, 'c', 19, 'c'),\n",
       " (19, 'c', 19, 'k'),\n",
       " (19, 'c', 19, 'l'),\n",
       " (19, 'c', 10, 'a'),\n",
       " (19, 'c', 10, 'c'),\n",
       " (19, 'c', 10, 'k'),\n",
       " (19, 'c', 10, 'l'),\n",
       " (19, 'k', 12, 'a'),\n",
       " (19, 'k', 12, 'c'),\n",
       " (19, 'k', 12, 'k'),\n",
       " (19, 'k', 12, 'l'),\n",
       " (19, 'k', 56, 'a'),\n",
       " (19, 'k', 56, 'c'),\n",
       " (19, 'k', 56, 'k'),\n",
       " (19, 'k', 56, 'l'),\n",
       " (19, 'k', 19, 'a'),\n",
       " (19, 'k', 19, 'c'),\n",
       " (19, 'k', 19, 'k'),\n",
       " (19, 'k', 19, 'l'),\n",
       " (19, 'k', 10, 'a'),\n",
       " (19, 'k', 10, 'c'),\n",
       " (19, 'k', 10, 'k'),\n",
       " (19, 'k', 10, 'l'),\n",
       " (19, 'l', 12, 'a'),\n",
       " (19, 'l', 12, 'c'),\n",
       " (19, 'l', 12, 'k'),\n",
       " (19, 'l', 12, 'l'),\n",
       " (19, 'l', 56, 'a'),\n",
       " (19, 'l', 56, 'c'),\n",
       " (19, 'l', 56, 'k'),\n",
       " (19, 'l', 56, 'l'),\n",
       " (19, 'l', 19, 'a'),\n",
       " (19, 'l', 19, 'c'),\n",
       " (19, 'l', 19, 'k'),\n",
       " (19, 'l', 19, 'l'),\n",
       " (19, 'l', 10, 'a'),\n",
       " (19, 'l', 10, 'c'),\n",
       " (19, 'l', 10, 'k'),\n",
       " (19, 'l', 10, 'l'),\n",
       " (10, 'a', 12, 'a'),\n",
       " (10, 'a', 12, 'c'),\n",
       " (10, 'a', 12, 'k'),\n",
       " (10, 'a', 12, 'l'),\n",
       " (10, 'a', 56, 'a'),\n",
       " (10, 'a', 56, 'c'),\n",
       " (10, 'a', 56, 'k'),\n",
       " (10, 'a', 56, 'l'),\n",
       " (10, 'a', 19, 'a'),\n",
       " (10, 'a', 19, 'c'),\n",
       " (10, 'a', 19, 'k'),\n",
       " (10, 'a', 19, 'l'),\n",
       " (10, 'a', 10, 'a'),\n",
       " (10, 'a', 10, 'c'),\n",
       " (10, 'a', 10, 'k'),\n",
       " (10, 'a', 10, 'l'),\n",
       " (10, 'c', 12, 'a'),\n",
       " (10, 'c', 12, 'c'),\n",
       " (10, 'c', 12, 'k'),\n",
       " (10, 'c', 12, 'l'),\n",
       " (10, 'c', 56, 'a'),\n",
       " (10, 'c', 56, 'c'),\n",
       " (10, 'c', 56, 'k'),\n",
       " (10, 'c', 56, 'l'),\n",
       " (10, 'c', 19, 'a'),\n",
       " (10, 'c', 19, 'c'),\n",
       " (10, 'c', 19, 'k'),\n",
       " (10, 'c', 19, 'l'),\n",
       " (10, 'c', 10, 'a'),\n",
       " (10, 'c', 10, 'c'),\n",
       " (10, 'c', 10, 'k'),\n",
       " (10, 'c', 10, 'l'),\n",
       " (10, 'k', 12, 'a'),\n",
       " (10, 'k', 12, 'c'),\n",
       " (10, 'k', 12, 'k'),\n",
       " (10, 'k', 12, 'l'),\n",
       " (10, 'k', 56, 'a'),\n",
       " (10, 'k', 56, 'c'),\n",
       " (10, 'k', 56, 'k'),\n",
       " (10, 'k', 56, 'l'),\n",
       " (10, 'k', 19, 'a'),\n",
       " (10, 'k', 19, 'c'),\n",
       " (10, 'k', 19, 'k'),\n",
       " (10, 'k', 19, 'l'),\n",
       " (10, 'k', 10, 'a'),\n",
       " (10, 'k', 10, 'c'),\n",
       " (10, 'k', 10, 'k'),\n",
       " (10, 'k', 10, 'l'),\n",
       " (10, 'l', 12, 'a'),\n",
       " (10, 'l', 12, 'c'),\n",
       " (10, 'l', 12, 'k'),\n",
       " (10, 'l', 12, 'l'),\n",
       " (10, 'l', 56, 'a'),\n",
       " (10, 'l', 56, 'c'),\n",
       " (10, 'l', 56, 'k'),\n",
       " (10, 'l', 56, 'l'),\n",
       " (10, 'l', 19, 'a'),\n",
       " (10, 'l', 19, 'c'),\n",
       " (10, 'l', 19, 'k'),\n",
       " (10, 'l', 19, 'l'),\n",
       " (10, 'l', 10, 'a'),\n",
       " (10, 'l', 10, 'c'),\n",
       " (10, 'l', 10, 'k'),\n",
       " (10, 'l', 10, 'l')]"
      ]
     },
     "execution_count": 41,
     "metadata": {},
     "output_type": "execute_result"
    }
   ],
   "source": [
    "# add repeat section\n",
    "\n",
    "result = itertools.product(num_data,alpha_data,repeat=2)\n",
    "\n",
    "list(result)"
   ]
  },
  {
   "cell_type": "code",
   "execution_count": 43,
   "metadata": {},
   "outputs": [
    {
     "data": {
      "text/plain": [
       "[('1', '2', '3'),\n",
       " ('1', '3', '2'),\n",
       " ('2', '1', '3'),\n",
       " ('2', '3', '1'),\n",
       " ('3', '1', '2'),\n",
       " ('3', '2', '1')]"
      ]
     },
     "execution_count": 43,
     "metadata": {},
     "output_type": "execute_result"
    }
   ],
   "source": [
    "# permutations\n",
    "\n",
    "data = ['1','2','3']\n",
    "result = itertools.permutations(data)\n",
    "\n",
    "list(result)"
   ]
  },
  {
   "cell_type": "code",
   "execution_count": 44,
   "metadata": {},
   "outputs": [
    {
     "data": {
      "text/plain": [
       "[('1', '2'), ('1', '3'), ('2', '1'), ('2', '3'), ('3', '1'), ('3', '2')]"
      ]
     },
     "execution_count": 44,
     "metadata": {},
     "output_type": "execute_result"
    }
   ],
   "source": [
    "# if r is specified then Return successive r length permutations of elements in the iterable.\n",
    "\n",
    "result2 = itertools.permutations(data,r=2)\n",
    "\n",
    "list(result2)"
   ]
  },
  {
   "cell_type": "code",
   "execution_count": 47,
   "metadata": {},
   "outputs": [
    {
     "data": {
      "text/plain": [
       "[('circle', 'square'), ('circle', 'rectangle'), ('square', 'rectangle')]"
      ]
     },
     "execution_count": 47,
     "metadata": {},
     "output_type": "execute_result"
    }
   ],
   "source": [
    "# combinations\n",
    "\n",
    "shapes= ['circle','square','rectangle']\n",
    "\n",
    "result = itertools.combinations(shapes,r=2)\n",
    "\n",
    "list(result)\n"
   ]
  },
  {
   "cell_type": "code",
   "execution_count": 49,
   "metadata": {},
   "outputs": [
    {
     "data": {
      "text/plain": [
       "[('circle', 'square', 'rectangle')]"
      ]
     },
     "execution_count": 49,
     "metadata": {},
     "output_type": "execute_result"
    }
   ],
   "source": [
    "result2 = itertools.combinations(shapes,r=3)\n",
    "\n",
    "list(result2)"
   ]
  },
  {
   "cell_type": "code",
   "execution_count": 50,
   "metadata": {},
   "outputs": [
    {
     "data": {
      "text/plain": [
       "[('Alice', 'Alice', 'Alice'),\n",
       " ('Alice', 'Alice', 'John'),\n",
       " ('Alice', 'Alice', 'Joe'),\n",
       " ('Alice', 'Alice', 'Robert'),\n",
       " ('Alice', 'John', 'John'),\n",
       " ('Alice', 'John', 'Joe'),\n",
       " ('Alice', 'John', 'Robert'),\n",
       " ('Alice', 'Joe', 'Joe'),\n",
       " ('Alice', 'Joe', 'Robert'),\n",
       " ('Alice', 'Robert', 'Robert'),\n",
       " ('John', 'John', 'John'),\n",
       " ('John', 'John', 'Joe'),\n",
       " ('John', 'John', 'Robert'),\n",
       " ('John', 'Joe', 'Joe'),\n",
       " ('John', 'Joe', 'Robert'),\n",
       " ('John', 'Robert', 'Robert'),\n",
       " ('Joe', 'Joe', 'Joe'),\n",
       " ('Joe', 'Joe', 'Robert'),\n",
       " ('Joe', 'Robert', 'Robert'),\n",
       " ('Robert', 'Robert', 'Robert')]"
      ]
     },
     "execution_count": 50,
     "metadata": {},
     "output_type": "execute_result"
    }
   ],
   "source": [
    "# combinatons_with_replacement \n",
    "\n",
    "''' \n",
    "    This one is just like the combinations() function, \n",
    "    but this one allows individual elements to be repeated more than once.\n",
    "\n",
    "'''\n",
    "\n",
    "names = [\"Alice\",\"John\",\"Joe\",\"Robert\"]\n",
    "\n",
    "result = itertools.combinations_with_replacement(names,3)\n",
    "\n",
    "list(result)\n"
   ]
  },
  {
   "cell_type": "code",
   "execution_count": null,
   "metadata": {},
   "outputs": [],
   "source": []
  }
 ],
 "metadata": {
  "kernelspec": {
   "display_name": "Python 3",
   "language": "python",
   "name": "python3"
  },
  "language_info": {
   "codemirror_mode": {
    "name": "ipython",
    "version": 3
   },
   "file_extension": ".py",
   "mimetype": "text/x-python",
   "name": "python",
   "nbconvert_exporter": "python",
   "pygments_lexer": "ipython3",
   "version": "3.8.10"
  },
  "orig_nbformat": 4
 },
 "nbformat": 4,
 "nbformat_minor": 2
}
