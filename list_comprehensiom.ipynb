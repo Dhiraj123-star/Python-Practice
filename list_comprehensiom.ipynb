{
 "cells": [
  {
   "cell_type": "code",
   "execution_count": 2,
   "metadata": {},
   "outputs": [
    {
     "data": {
      "text/plain": [
       "['H', 'E', 'L', 'L', 'O', ' ', 'W', 'O', 'R', 'L', 'D']"
      ]
     },
     "execution_count": 2,
     "metadata": {},
     "output_type": "execute_result"
    }
   ],
   "source": [
    "# list comprehension \n",
    "\n",
    "str = \"hello world\"\n",
    "\n",
    "str_upper = [mystr.upper() for mystr in str]\n",
    "\n",
    "str_upper"
   ]
  },
  {
   "cell_type": "code",
   "execution_count": 3,
   "metadata": {},
   "outputs": [
    {
     "data": {
      "text/plain": [
       "['apple']"
      ]
     },
     "execution_count": 3,
     "metadata": {},
     "output_type": "execute_result"
    }
   ],
   "source": [
    "# create a list with specific condition\n",
    "\n",
    "fruits = [\"apple\",\"banana\",\"orange\",\"grape\",\"mango\"]\n",
    "\n",
    "selected_fruit = [fruit for fruit in fruits if len(fruit)>=5 and fruit.startswith(\"a\") ]\n",
    "\n",
    "selected_fruit"
   ]
  },
  {
   "cell_type": "code",
   "execution_count": null,
   "metadata": {},
   "outputs": [
    {
     "data": {
      "text/plain": [
       "[1, 2, 5, 67, 89, 100, 102, 45, 77]"
      ]
     },
     "execution_count": 4,
     "metadata": {},
     "output_type": "execute_result"
    }
   ],
   "source": [
    "# flattening a 2-D array\n",
    "\n",
    "matrix = [[1,2,5],[67,89,100],[102,45,77]]\n",
    "\n",
    "flat_row = [num for row in matrix for num in row ]\n",
    "\n",
    "flat_row"
   ]
  },
  {
   "cell_type": "code",
   "execution_count": 1,
   "metadata": {},
   "outputs": [
    {
     "data": {
      "text/plain": [
       "[('red', 'small'),\n",
       " ('red', 'medium'),\n",
       " ('red', 'big'),\n",
       " ('blue', 'small'),\n",
       " ('blue', 'medium'),\n",
       " ('blue', 'big'),\n",
       " ('green', 'small'),\n",
       " ('green', 'medium'),\n",
       " ('green', 'big')]"
      ]
     },
     "execution_count": 1,
     "metadata": {},
     "output_type": "execute_result"
    }
   ],
   "source": [
    "# creating a list of tuples for cartesian product \n",
    "colors = [\"red\",\"blue\",\"green\"]\n",
    "sizes =[\"small\",\"medium\",\"big\"]\n",
    "\n",
    "combinations= [(color,size) for color in colors for size in sizes]\n",
    "\n",
    "combinations"
   ]
  },
  {
   "cell_type": "code",
   "execution_count": null,
   "metadata": {},
   "outputs": [],
   "source": []
  }
 ],
 "metadata": {
  "kernelspec": {
   "display_name": "Python 3",
   "language": "python",
   "name": "python3"
  },
  "language_info": {
   "codemirror_mode": {
    "name": "ipython",
    "version": 3
   },
   "file_extension": ".py",
   "mimetype": "text/x-python",
   "name": "python",
   "nbconvert_exporter": "python",
   "pygments_lexer": "ipython3",
   "version": "3.11.4"
  },
  "orig_nbformat": 4
 },
 "nbformat": 4,
 "nbformat_minor": 2
}
