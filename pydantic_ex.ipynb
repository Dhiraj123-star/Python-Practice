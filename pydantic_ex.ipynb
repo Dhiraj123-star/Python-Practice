{
 "cells": [
  {
   "cell_type": "code",
   "execution_count": 7,
   "metadata": {},
   "outputs": [
    {
     "name": "stdout",
     "output_type": "stream",
     "text": [
      "john_doe\n",
      "25\n",
      "john@example.com\n"
     ]
    }
   ],
   "source": [
    "from pydantic import BaseModel\n",
    "\n",
    "class User(BaseModel):\n",
    "    username: str\n",
    "    age: int\n",
    "    email: str\n",
    "\n",
    "# Create an instance of the User model\n",
    "user_data = {\n",
    "    \"username\": \"john_doe\",\n",
    "    \"age\": 25,\n",
    "    \"email\": \"john@example.com\"\n",
    "}\n",
    "user = User(**user_data)\n",
    "\n",
    "# Access the validated data\n",
    "print(user.username)  # john_doe\n",
    "print(user.age)  # 25\n",
    "print(user.email)  # john@example.com\n"
   ]
  },
  {
   "cell_type": "code",
   "execution_count": 6,
   "metadata": {},
   "outputs": [
    {
     "data": {
      "text/plain": [
       "24"
      ]
     },
     "execution_count": 6,
     "metadata": {},
     "output_type": "execute_result"
    }
   ],
   "source": [
    "user_data = {\n",
    "    \"username\":\"John\",\n",
    "    \"age\" : \"24\",\n",
    "    \"email\": \"john12@yahoo.com\"\n",
    "\n",
    "}\n",
    "\n",
    "user = User(**user_data) # throws validation error since age is int type but we pass it str type \n",
    "\n",
    "user.age"
   ]
  },
  {
   "cell_type": "code",
   "execution_count": 8,
   "metadata": {},
   "outputs": [
    {
     "name": "stdout",
     "output_type": "stream",
     "text": [
      "18\n"
     ]
    }
   ],
   "source": [
    "# using default value \n",
    "\n",
    "from pydantic import BaseModel\n",
    "\n",
    "class User(BaseModel):\n",
    "    username: str\n",
    "    age: int = 18\n",
    "    email: str\n",
    "\n",
    "user_data = {\n",
    "    \"username\": \"john_doe\",\n",
    "    \"email\": \"john@example.com\"\n",
    "}\n",
    "user = User(**user_data)\n",
    "\n",
    "print(user.age)  # 18 (default value)\n"
   ]
  },
  {
   "cell_type": "code",
   "execution_count": 9,
   "metadata": {},
   "outputs": [
    {
     "ename": "ValidationError",
     "evalue": "1 validation error for User\npassword\n  Password must be at least 8 characters long (type=value_error)",
     "output_type": "error",
     "traceback": [
      "\u001b[1;31m---------------------------------------------------------------------------\u001b[0m",
      "\u001b[1;31mValidationError\u001b[0m                           Traceback (most recent call last)",
      "Cell \u001b[1;32mIn[9], line 18\u001b[0m\n\u001b[0;32m     12\u001b[0m         \u001b[39mreturn\u001b[39;00m password\n\u001b[0;32m     14\u001b[0m user_data \u001b[39m=\u001b[39m {\n\u001b[0;32m     15\u001b[0m     \u001b[39m\"\u001b[39m\u001b[39musername\u001b[39m\u001b[39m\"\u001b[39m: \u001b[39m\"\u001b[39m\u001b[39mjohn_doe\u001b[39m\u001b[39m\"\u001b[39m,\n\u001b[0;32m     16\u001b[0m     \u001b[39m\"\u001b[39m\u001b[39mpassword\u001b[39m\u001b[39m\"\u001b[39m: \u001b[39m\"\u001b[39m\u001b[39mpass123\u001b[39m\u001b[39m\"\u001b[39m\n\u001b[0;32m     17\u001b[0m }\n\u001b[1;32m---> 18\u001b[0m user \u001b[39m=\u001b[39m User(\u001b[39m*\u001b[39;49m\u001b[39m*\u001b[39;49muser_data)  \u001b[39m# Raises a ValueError since password length is less than 8 characters\u001b[39;00m\n",
      "File \u001b[1;32mc:\\Users\\Dhiraj kumar\\AppData\\Local\\Programs\\Python\\Python311\\Lib\\site-packages\\pydantic\\main.py:341\u001b[0m, in \u001b[0;36mpydantic.main.BaseModel.__init__\u001b[1;34m()\u001b[0m\n",
      "\u001b[1;31mValidationError\u001b[0m: 1 validation error for User\npassword\n  Password must be at least 8 characters long (type=value_error)"
     ]
    }
   ],
   "source": [
    "\n",
    "# field validation \n",
    "from pydantic import BaseModel, validator\n",
    "\n",
    "class User(BaseModel):\n",
    "    username: str\n",
    "    password: str\n",
    "\n",
    "    @validator('password')\n",
    "    def check_password_length(cls, password):\n",
    "        if len(password) < 8:\n",
    "            raise ValueError(\"Password must be at least 8 characters long\")\n",
    "        return password\n",
    "\n",
    "user_data = {\n",
    "    \"username\": \"john_doe\",\n",
    "    \"password\": \"pass123\"\n",
    "}\n",
    "user = User(**user_data)  # Raises a ValueError since password length is less than 8 characters\n"
   ]
  },
  {
   "cell_type": "code",
   "execution_count": 10,
   "metadata": {},
   "outputs": [
    {
     "name": "stdout",
     "output_type": "stream",
     "text": [
      "123 GT\n",
      "New Delhi\n",
      "109301\n"
     ]
    }
   ],
   "source": [
    "# nested models\n",
    "from pydantic import BaseModel\n",
    "\n",
    "class Address(BaseModel):\n",
    "    street: str\n",
    "    city: str\n",
    "    zip_code: str\n",
    "\n",
    "class User(BaseModel):\n",
    "    username: str\n",
    "    age: int\n",
    "    address: Address\n",
    "\n",
    "user_data = {\n",
    "    \"username\": \"Rohit\",\n",
    "    \"age\": 23,\n",
    "    \"address\": {\n",
    "        \"street\": \"123 GT\",\n",
    "        \"city\": \"New Delhi\",\n",
    "        \"zip_code\": \"109301\"\n",
    "    }\n",
    "}\n",
    "user = User(**user_data)\n",
    "\n",
    "print(user.address.street)  # 123 GT\n",
    "print(user.address.city)  # New Delhi\n",
    "print(user.address.zip_code)  # 109301\n"
   ]
  },
  {
   "cell_type": "code",
   "execution_count": null,
   "metadata": {},
   "outputs": [],
   "source": []
  }
 ],
 "metadata": {
  "kernelspec": {
   "display_name": "Python 3",
   "language": "python",
   "name": "python3"
  },
  "language_info": {
   "codemirror_mode": {
    "name": "ipython",
    "version": 3
   },
   "file_extension": ".py",
   "mimetype": "text/x-python",
   "name": "python",
   "nbconvert_exporter": "python",
   "pygments_lexer": "ipython3",
   "version": "3.11.4"
  },
  "orig_nbformat": 4
 },
 "nbformat": 4,
 "nbformat_minor": 2
}
