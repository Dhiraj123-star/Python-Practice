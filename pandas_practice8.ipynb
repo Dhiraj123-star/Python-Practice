{
 "cells": [
  {
   "cell_type": "code",
   "execution_count": 3,
   "metadata": {},
   "outputs": [
    {
     "data": {
      "text/html": [
       "<div>\n",
       "<style scoped>\n",
       "    .dataframe tbody tr th:only-of-type {\n",
       "        vertical-align: middle;\n",
       "    }\n",
       "\n",
       "    .dataframe tbody tr th {\n",
       "        vertical-align: top;\n",
       "    }\n",
       "\n",
       "    .dataframe thead th {\n",
       "        text-align: right;\n",
       "    }\n",
       "</style>\n",
       "<table border=\"1\" class=\"dataframe\">\n",
       "  <thead>\n",
       "    <tr style=\"text-align: right;\">\n",
       "      <th></th>\n",
       "      <th>date</th>\n",
       "      <th>date_short</th>\n",
       "    </tr>\n",
       "  </thead>\n",
       "  <tbody>\n",
       "    <tr>\n",
       "      <th>0</th>\n",
       "      <td>28-01-2022  5:25:00 PM</td>\n",
       "      <td>Jan-2023</td>\n",
       "    </tr>\n",
       "    <tr>\n",
       "      <th>1</th>\n",
       "      <td>27-02-2023  6:25:00 PM</td>\n",
       "      <td>Feb-2023</td>\n",
       "    </tr>\n",
       "    <tr>\n",
       "      <th>2</th>\n",
       "      <td>30-03-2023  7:25:00 PM</td>\n",
       "      <td>Mar-2023</td>\n",
       "    </tr>\n",
       "    <tr>\n",
       "      <th>3</th>\n",
       "      <td>29-04-2023  8:25:00 PM</td>\n",
       "      <td>Apr-2023</td>\n",
       "    </tr>\n",
       "    <tr>\n",
       "      <th>4</th>\n",
       "      <td>31-05-2023  9:25:00 PM</td>\n",
       "      <td>May-2023</td>\n",
       "    </tr>\n",
       "  </tbody>\n",
       "</table>\n",
       "</div>"
      ],
      "text/plain": [
       "                     date date_short\n",
       "0  28-01-2022  5:25:00 PM   Jan-2023\n",
       "1  27-02-2023  6:25:00 PM   Feb-2023\n",
       "2  30-03-2023  7:25:00 PM   Mar-2023\n",
       "3  29-04-2023  8:25:00 PM   Apr-2023\n",
       "4  31-05-2023  9:25:00 PM   May-2023"
      ]
     },
     "execution_count": 3,
     "metadata": {},
     "output_type": "execute_result"
    }
   ],
   "source": [
    "import pandas as pd\n",
    "\n",
    "dict = {'date': {0: '28-01-2022  5:25:00 PM',\n",
    "  1: '27-02-2023  6:25:00 PM',\n",
    "  2: '30-03-2023  7:25:00 PM',\n",
    "  3: '29-04-2023  8:25:00 PM',\n",
    "  4: '31-05-2023  9:25:00 PM'},\n",
    " 'date_short': {0: 'Jan-2023', 1: 'Feb-2023', 2: 'Mar-2023', 3: 'Apr-2023', 4: 'May-2023'}}\n",
    "\n",
    "df = pd.DataFrame(dict)\n",
    "\n",
    "df"
   ]
  },
  {
   "cell_type": "code",
   "execution_count": 5,
   "metadata": {},
   "outputs": [
    {
     "data": {
      "text/plain": [
       "0   2022-01-28 17:25:00\n",
       "1   2023-02-27 18:25:00\n",
       "2   2023-03-30 19:25:00\n",
       "3   2023-04-29 20:25:00\n",
       "4   2023-05-31 21:25:00\n",
       "Name: date, dtype: datetime64[ns]"
      ]
     },
     "execution_count": 5,
     "metadata": {},
     "output_type": "execute_result"
    }
   ],
   "source": [
    "# convert string into datetime by pd.to_datetime()\n",
    "\n",
    "pd.to_datetime(df['date'])"
   ]
  },
  {
   "cell_type": "code",
   "execution_count": 6,
   "metadata": {},
   "outputs": [
    {
     "data": {
      "text/plain": [
       "Timestamp('2023-05-29 00:00:00')"
      ]
     },
     "execution_count": 6,
     "metadata": {},
     "output_type": "execute_result"
    }
   ],
   "source": [
    "pd.to_datetime('20230529',format='%Y%m%d',errors='ignore')"
   ]
  },
  {
   "cell_type": "code",
   "execution_count": 9,
   "metadata": {},
   "outputs": [
    {
     "data": {
      "text/plain": [
       "0    28-01-2022  5:25:00 PM\n",
       "1    27-02-2023  6:25:00 PM\n",
       "2    30-03-2023  7:25:00 PM\n",
       "3    29-04-2023  8:25:00 PM\n",
       "4    31-05-2023  9:25:00 PM\n",
       "Name: date, dtype: object"
      ]
     },
     "execution_count": 9,
     "metadata": {},
     "output_type": "execute_result"
    }
   ],
   "source": [
    "pd.to_datetime(df['date'],format='%Y%m%d HH:MM:SS',errors='ignore')"
   ]
  },
  {
   "cell_type": "code",
   "execution_count": 10,
   "metadata": {},
   "outputs": [],
   "source": [
    "# check if string is a date \n",
    "\n",
    "from dateutil.parser import parse\n",
    "\n",
    "def is_date(string,fuzzy=False):\n",
    "    try:\n",
    "        parse(string,fuzzy=fuzzy)\n",
    "\n",
    "        return True \n",
    "    except ValueError:\n",
    "        return False"
   ]
  },
  {
   "cell_type": "code",
   "execution_count": 11,
   "metadata": {},
   "outputs": [
    {
     "data": {
      "text/plain": [
       "0    True\n",
       "1    True\n",
       "2    True\n",
       "3    True\n",
       "4    True\n",
       "Name: date, dtype: bool"
      ]
     },
     "execution_count": 11,
     "metadata": {},
     "output_type": "execute_result"
    }
   ],
   "source": [
    "df['date'].apply(is_date)"
   ]
  },
  {
   "cell_type": "code",
   "execution_count": 12,
   "metadata": {},
   "outputs": [
    {
     "data": {
      "text/plain": [
       "0    True\n",
       "1    True\n",
       "2    True\n",
       "3    True\n",
       "4    True\n",
       "Name: date_short, dtype: bool"
      ]
     },
     "execution_count": 12,
     "metadata": {},
     "output_type": "execute_result"
    }
   ],
   "source": [
    "df['date_short'].apply(is_date,fuzzy=True)"
   ]
  },
  {
   "cell_type": "code",
   "execution_count": 13,
   "metadata": {},
   "outputs": [
    {
     "data": {
      "text/plain": [
       "'%Y-%m-%dT%H:%M:%S.%f'"
      ]
     },
     "execution_count": 13,
     "metadata": {},
     "output_type": "execute_result"
    }
   ],
   "source": [
    "# infer date format from string \n",
    "import numpy as np\n",
    "\n",
    "from pandas.core.tools.datetimes import _guess_datetime_format_for_array\n",
    "\n",
    "array =np.array(['2023-05-01T00:10:45.300000'])\n",
    "\n",
    "_guess_datetime_format_for_array(array)"
   ]
  },
  {
   "cell_type": "code",
   "execution_count": null,
   "metadata": {},
   "outputs": [],
   "source": []
  }
 ],
 "metadata": {
  "kernelspec": {
   "display_name": "Python 3",
   "language": "python",
   "name": "python3"
  },
  "language_info": {
   "codemirror_mode": {
    "name": "ipython",
    "version": 3
   },
   "file_extension": ".py",
   "mimetype": "text/x-python",
   "name": "python",
   "nbconvert_exporter": "python",
   "pygments_lexer": "ipython3",
   "version": "3.8.10"
  },
  "orig_nbformat": 4
 },
 "nbformat": 4,
 "nbformat_minor": 2
}
