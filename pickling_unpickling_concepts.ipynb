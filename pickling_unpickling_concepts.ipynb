{
 "cells": [
  {
   "cell_type": "code",
   "execution_count": 2,
   "metadata": {},
   "outputs": [
    {
     "data": {
      "text/plain": [
       "{'name': 'John', 'age': 23, 'hobby': 'Python Programming'}"
      ]
     },
     "execution_count": 2,
     "metadata": {},
     "output_type": "execute_result"
    }
   ],
   "source": [
    "# pickling and unpickling a Dictionary \n",
    "\n",
    "import pickle\n",
    "\n",
    "'''\n",
    "The dump() and load() are used for serializing and deserializing objects directly to/from file-like objects, \n",
    "while dumps() and loads() are used to obtain the serialized data in memory and \n",
    "perform serialization and deserialization operations\n",
    "\n",
    "'''\n",
    "data = {\n",
    "    \"name\":\"John\",\n",
    "    \"age\": 23,\n",
    "    \"hobby\":\"Python Programming\"\n",
    "}\n",
    "\n",
    "with open(\"data.pkl\",\"wb\") as file:\n",
    "    pickle.dump(data,file)\n",
    "\n",
    "# unpickling \n",
    "\n",
    "with open(\"data.pkl\",\"rb\") as file:\n",
    "    loaded_data =pickle.load(file)\n",
    "\n",
    "loaded_data"
   ]
  },
  {
   "cell_type": "code",
   "execution_count": 4,
   "metadata": {},
   "outputs": [
    {
     "name": "stdout",
     "output_type": "stream",
     "text": [
      "data is stored successfully!!\n"
     ]
    }
   ],
   "source": [
    "# another example\n",
    "\n",
    "data= { 'name':'Python','rank':1,'type':'interpreted'}\n",
    "\n",
    "# serialise the object into a byte stream\n",
    "\n",
    "serialised_data = pickle.dumps(data)\n",
    "\n",
    "# store the serialised data into the file \n",
    "\n",
    "with open(\"data.pickle\",\"wb\") as f:\n",
    "    f.write(serialised_data)\n",
    "\n",
    "print(\"data is stored successfully!!\")"
   ]
  },
  {
   "cell_type": "code",
   "execution_count": 5,
   "metadata": {},
   "outputs": [
    {
     "data": {
      "text/plain": [
       "{'name': 'Python', 'rank': 1, 'type': 'interpreted'}"
      ]
     },
     "execution_count": 5,
     "metadata": {},
     "output_type": "execute_result"
    }
   ],
   "source": [
    "# deserialise the data from file\n",
    "\n",
    "# load the serialized data from a file \n",
    "\n",
    "with open('data.pickle','rb') as f:\n",
    "    serialised_data = f.read()\n",
    "\n",
    "# deserialise the byte stream back into an object \n",
    "\n",
    "data = pickle.loads(serialised_data)\n",
    "\n",
    "data\n",
    "\n"
   ]
  },
  {
   "cell_type": "code",
   "execution_count": 7,
   "metadata": {},
   "outputs": [
    {
     "name": "stdout",
     "output_type": "stream",
     "text": [
      "file saved successfully!!\n"
     ]
    }
   ],
   "source": [
    "# pickling and unpickling of list \n",
    "\n",
    "numbers = [12,45,100,56,130]\n",
    "\n",
    "with open('numbers.pkl','wb') as f:\n",
    "    pickle.dump(numbers,f)\n",
    "\n",
    "print(\"file saved successfully!!\")"
   ]
  },
  {
   "cell_type": "code",
   "execution_count": 9,
   "metadata": {},
   "outputs": [
    {
     "data": {
      "text/plain": [
       "[12, 45, 100, 56, 130]"
      ]
     },
     "execution_count": 9,
     "metadata": {},
     "output_type": "execute_result"
    }
   ],
   "source": [
    "# unpickling\n",
    "\n",
    "with open(\"numbers.pkl\",\"rb\") as f:\n",
    "    serialised_data = pickle.load(f)\n",
    "\n",
    "serialised_data"
   ]
  },
  {
   "cell_type": "code",
   "execution_count": 10,
   "metadata": {},
   "outputs": [
    {
     "name": "stdout",
     "output_type": "stream",
     "text": [
      "file created successfully!!\n"
     ]
    }
   ],
   "source": [
    "# pickling and unpickling with class\n",
    "\n",
    "class Person:\n",
    "    def __init__(self,name,age):\n",
    "        self.name = name\n",
    "        self.age =age \n",
    "\n",
    "person = Person('Alice',24) # create object \n",
    "\n",
    "# pickling \n",
    "with open('personn.pkl','wb') as f:\n",
    "    pickle.dump(person,f)\n",
    "\n",
    "print(\"file created successfully!!\")"
   ]
  },
  {
   "cell_type": "code",
   "execution_count": 12,
   "metadata": {},
   "outputs": [
    {
     "data": {
      "text/plain": [
       "<__main__.Person at 0x1437cdbb750>"
      ]
     },
     "execution_count": 12,
     "metadata": {},
     "output_type": "execute_result"
    }
   ],
   "source": [
    "# unpickling \n",
    "\n",
    "with open('personn.pkl','rb') as f:\n",
    "    data = pickle.load(f)\n",
    "\n",
    "data"
   ]
  },
  {
   "cell_type": "code",
   "execution_count": 13,
   "metadata": {},
   "outputs": [
    {
     "data": {
      "text/plain": [
       "b'\\x80\\x04\\x95B\\x00\\x00\\x00\\x00\\x00\\x00\\x00}\\x94(\\x8c\\tLanguages\\x94]\\x94(\\x8c\\x06Python\\x94\\x8c\\x04Java\\x94\\x8c\\x03C++\\x94\\x8c\\x01C\\x94e\\x8c\\x04Rank\\x94]\\x94(K\\x01K\\x02K\\x03K\\x04eu.'"
      ]
     },
     "execution_count": 13,
     "metadata": {},
     "output_type": "execute_result"
    }
   ],
   "source": [
    "# dumps () \n",
    "\n",
    "data = {\n",
    "    \"Languages\":[\"Python\",\"Java\",\"C++\",\"C\"],\n",
    "    \"Rank\":[1,2,3,4]\n",
    "}\n",
    "\n",
    "serialised_data = pickle.dumps(data)\n",
    "\n",
    "serialised_data"
   ]
  },
  {
   "cell_type": "code",
   "execution_count": 14,
   "metadata": {},
   "outputs": [
    {
     "data": {
      "text/plain": [
       "{'Languages': ['Python', 'Java', 'C++', 'C'], 'Rank': [1, 2, 3, 4]}"
      ]
     },
     "execution_count": 14,
     "metadata": {},
     "output_type": "execute_result"
    }
   ],
   "source": [
    "# unpickling \n",
    "\n",
    "unserialised_data = pickle.loads(serialised_data)\n",
    "\n",
    "unserialised_data"
   ]
  },
  {
   "cell_type": "code",
   "execution_count": null,
   "metadata": {},
   "outputs": [],
   "source": []
  }
 ],
 "metadata": {
  "kernelspec": {
   "display_name": "Python 3",
   "language": "python",
   "name": "python3"
  },
  "language_info": {
   "codemirror_mode": {
    "name": "ipython",
    "version": 3
   },
   "file_extension": ".py",
   "mimetype": "text/x-python",
   "name": "python",
   "nbconvert_exporter": "python",
   "pygments_lexer": "ipython3",
   "version": "3.11.4"
  },
  "orig_nbformat": 4
 },
 "nbformat": 4,
 "nbformat_minor": 2
}
