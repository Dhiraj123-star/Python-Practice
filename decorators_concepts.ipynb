{
 "cells": [
  {
   "cell_type": "code",
   "execution_count": 6,
   "metadata": {},
   "outputs": [
    {
     "data": {
      "text/plain": [
       "32"
      ]
     },
     "execution_count": 6,
     "metadata": {},
     "output_type": "execute_result"
    }
   ],
   "source": [
    "def add_two_decorator(func):\n",
    "    def add_two(*args,**kwargs):\n",
    "        value = func(*args,**kwargs)\n",
    "        return value+2\n",
    "    return add_two\n",
    "\n",
    "@add_two_decorator\n",
    "def add(a,b):\n",
    "    return a+b\n",
    "\n",
    "result = add(12,18)\n",
    "\n",
    "result"
   ]
  },
  {
   "cell_type": "code",
   "execution_count": 3,
   "metadata": {},
   "outputs": [
    {
     "name": "stdout",
     "output_type": "stream",
     "text": [
      "15\n"
     ]
    }
   ],
   "source": [
    "# logging using decorator \n",
    "\n",
    "import logging \n",
    "\n",
    "def function_logger(func):\n",
    "    logging.basicConfig(level=logging.INFO,filename=\"main.log\")\n",
    "    def wrapper(*args,**kwargs):\n",
    "        result = func(*args,**kwargs)\n",
    "        logging.info(f\"{func.__name__} ran with positional arguments :{args} and keywords arguments: {kwargs}. Return value: {result} \")\n",
    "\n",
    "        return result\n",
    "    return wrapper\n",
    "\n",
    "@function_logger\n",
    "def add_two(value):\n",
    "    return value+2\n",
    "\n",
    "print(add_two(13))"
   ]
  },
  {
   "cell_type": "code",
   "execution_count": 4,
   "metadata": {},
   "outputs": [],
   "source": [
    "# caching \n",
    "\n",
    "'''\n",
    "In Python, this can be implemented by using the \n",
    "@lru_cache decorator from the functools module which comes installed with Python.\n",
    "\n",
    "\n",
    "LRU refers to Least Recently Used, meaning that whenever the function has been called, the arguments used \n",
    "and returned value will be stored. But once the number of such entries \n",
    "has reached the maximum size, which by default is 128, the least recently used entry will be removed.\n",
    "'''\n",
    "\n",
    "from functools import lru_cache\n",
    "\n",
    "@lru_cache\n",
    "def fibonacci(n):\n",
    "    if n<=1:\n",
    "        return n\n",
    "    return fibonacci(n-1)+fibonacci(n-2)\n",
    "\n",
    "    "
   ]
  },
  {
   "cell_type": "code",
   "execution_count": 5,
   "metadata": {},
   "outputs": [
    {
     "data": {
      "text/plain": [
       "55"
      ]
     },
     "execution_count": 5,
     "metadata": {},
     "output_type": "execute_result"
    }
   ],
   "source": [
    "fibonacci(10)"
   ]
  },
  {
   "cell_type": "code",
   "execution_count": 7,
   "metadata": {},
   "outputs": [
    {
     "data": {
      "text/plain": [
       "12586269025"
      ]
     },
     "execution_count": 7,
     "metadata": {},
     "output_type": "execute_result"
    }
   ],
   "source": [
    "fibonacci(50)\n"
   ]
  },
  {
   "cell_type": "code",
   "execution_count": 8,
   "metadata": {},
   "outputs": [
    {
     "data": {
      "text/plain": [
       "354224848179261915075"
      ]
     },
     "execution_count": 8,
     "metadata": {},
     "output_type": "execute_result"
    }
   ],
   "source": [
    "fibonacci(100)"
   ]
  },
  {
   "cell_type": "code",
   "execution_count": null,
   "metadata": {},
   "outputs": [],
   "source": []
  }
 ],
 "metadata": {
  "kernelspec": {
   "display_name": "Python 3",
   "language": "python",
   "name": "python3"
  },
  "language_info": {
   "codemirror_mode": {
    "name": "ipython",
    "version": 3
   },
   "file_extension": ".py",
   "mimetype": "text/x-python",
   "name": "python",
   "nbconvert_exporter": "python",
   "pygments_lexer": "ipython3",
   "version": "3.11.4"
  },
  "orig_nbformat": 4
 },
 "nbformat": 4,
 "nbformat_minor": 2
}
