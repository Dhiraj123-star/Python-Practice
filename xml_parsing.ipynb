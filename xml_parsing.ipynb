{
 "cells": [
  {
   "cell_type": "code",
   "execution_count": 1,
   "metadata": {},
   "outputs": [
    {
     "name": "stdout",
     "output_type": "stream",
     "text": [
      "Hello\n"
     ]
    }
   ],
   "source": [
    "print(\"Hello\")"
   ]
  },
  {
   "cell_type": "code",
   "execution_count": 2,
   "metadata": {},
   "outputs": [
    {
     "data": {
      "text/plain": [
       "[<child name=\"Frank\" test=\"0\">\n",
       " Frank learns Python \n",
       " \n",
       " </child>]"
      ]
     },
     "execution_count": 2,
     "metadata": {},
     "output_type": "execute_result"
    }
   ],
   "source": [
    "import lxml\n",
    "from bs4 import BeautifulSoup\n",
    "with open(\"dict.xml\",\"r\") as f:\n",
    "\n",
    "    data = f.read()\n",
    "\n",
    "\n",
    "bs_data = BeautifulSoup(data,\"xml\")\n",
    "\n",
    "\n",
    "b_child = bs_data.find_all('child')\n",
    "\n",
    "b_child"
   ]
  },
  {
   "cell_type": "code",
   "execution_count": 3,
   "metadata": {},
   "outputs": [
    {
     "data": {
      "text/plain": [
       "<child name=\"Frank\" test=\"0\">\n",
       "Frank learns Python \n",
       "\n",
       "</child>"
      ]
     },
     "execution_count": 3,
     "metadata": {},
     "output_type": "execute_result"
    }
   ],
   "source": [
    "b_name = bs_data.find('child',{'name':'Frank'})\n",
    "\n",
    "b_name"
   ]
  },
  {
   "cell_type": "code",
   "execution_count": 4,
   "metadata": {},
   "outputs": [
    {
     "data": {
      "text/plain": [
       "'0'"
      ]
     },
     "execution_count": 4,
     "metadata": {},
     "output_type": "execute_result"
    }
   ],
   "source": [
    "b_name.get('test')"
   ]
  },
  {
   "cell_type": "code",
   "execution_count": 11,
   "metadata": {},
   "outputs": [
    {
     "ename": "AttributeError",
     "evalue": "'NoneType' object has no attribute 'text'",
     "output_type": "error",
     "traceback": [
      "\u001b[1;31m---------------------------------------------------------------------------\u001b[0m",
      "\u001b[1;31mAttributeError\u001b[0m                            Traceback (most recent call last)",
      "Cell \u001b[1;32mIn[11], line 9\u001b[0m\n\u001b[0;32m      5\u001b[0m bs_data \u001b[39m=\u001b[39m BeautifulSoup(data,\u001b[39m'\u001b[39m\u001b[39mxml\u001b[39m\u001b[39m'\u001b[39m)\n\u001b[0;32m      7\u001b[0m b_duration \u001b[39m=\u001b[39m bs_data\u001b[39m.\u001b[39mfind(\u001b[39m'\u001b[39m\u001b[39mns0:interval\u001b[39m\u001b[39m'\u001b[39m, {\u001b[39m'\u001b[39m\u001b[39mns0:duration\u001b[39m\u001b[39m'\u001b[39m})\n\u001b[1;32m----> 9\u001b[0m b_duration\u001b[39m.\u001b[39;49mtext\n",
      "\u001b[1;31mAttributeError\u001b[0m: 'NoneType' object has no attribute 'text'"
     ]
    }
   ],
   "source": [
    "with open(\"mydict.xml\",\"r\") as f:\n",
    "    data = f.read()\n",
    "\n",
    "\n",
    "bs_data = BeautifulSoup(data,'xml')\n",
    "\n",
    "b_duration = bs_data.find('ns0:interval', {'ns0:duration'})\n",
    "\n",
    "b_duration.text"
   ]
  },
  {
   "cell_type": "code",
   "execution_count": 1,
   "metadata": {},
   "outputs": [
    {
     "data": {
      "text/plain": [
       "True"
      ]
     },
     "execution_count": 1,
     "metadata": {},
     "output_type": "execute_result"
    }
   ],
   "source": [
    "numbers = [1,2,3,4,5]\n",
    "\n",
    "check = all(numbers)\n",
    "\n",
    "check"
   ]
  },
  {
   "cell_type": "code",
   "execution_count": 2,
   "metadata": {},
   "outputs": [
    {
     "data": {
      "text/plain": [
       "True"
      ]
     },
     "execution_count": 2,
     "metadata": {},
     "output_type": "execute_result"
    }
   ],
   "source": [
    "check = any(numbers)\n",
    "check"
   ]
  },
  {
   "cell_type": "code",
   "execution_count": 3,
   "metadata": {},
   "outputs": [
    {
     "data": {
      "text/plain": [
       "True"
      ]
     },
     "execution_count": 3,
     "metadata": {},
     "output_type": "execute_result"
    }
   ],
   "source": [
    "numbers = [9]\n",
    "check = any(numbers)\n",
    "check"
   ]
  },
  {
   "cell_type": "code",
   "execution_count": null,
   "metadata": {},
   "outputs": [],
   "source": []
  }
 ],
 "metadata": {
  "kernelspec": {
   "display_name": "Python 3",
   "language": "python",
   "name": "python3"
  },
  "language_info": {
   "codemirror_mode": {
    "name": "ipython",
    "version": 3
   },
   "file_extension": ".py",
   "mimetype": "text/x-python",
   "name": "python",
   "nbconvert_exporter": "python",
   "pygments_lexer": "ipython3",
   "version": "3.11.4"
  },
  "orig_nbformat": 4
 },
 "nbformat": 4,
 "nbformat_minor": 2
}
