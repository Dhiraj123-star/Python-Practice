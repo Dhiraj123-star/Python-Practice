{
 "cells": [
  {
   "cell_type": "code",
   "execution_count": 2,
   "metadata": {},
   "outputs": [
    {
     "data": {
      "text/plain": [
       "[12, 56, 100, 34]"
      ]
     },
     "execution_count": 2,
     "metadata": {},
     "output_type": "execute_result"
    }
   ],
   "source": [
    "# Python Lists\n",
    "\n",
    "list_of_objects = [12,56,100,34] # first way to create list\n",
    "\n",
    "list_of_objects"
   ]
  },
  {
   "cell_type": "code",
   "execution_count": 3,
   "metadata": {},
   "outputs": [
    {
     "data": {
      "text/plain": [
       "[12, 56, 100, 6, 7]"
      ]
     },
     "execution_count": 3,
     "metadata": {},
     "output_type": "execute_result"
    }
   ],
   "source": [
    "list_of_objects = list([12,56,100,6,7]) # second way \n",
    "\n",
    "list_of_objects"
   ]
  },
  {
   "cell_type": "code",
   "execution_count": 5,
   "metadata": {},
   "outputs": [
    {
     "data": {
      "text/plain": [
       "[12, 22, 32, 42, 52]"
      ]
     },
     "execution_count": 5,
     "metadata": {},
     "output_type": "execute_result"
    }
   ],
   "source": [
    "list_of_objects = [x for x in range(12,56,10)] # third way \n",
    "\n",
    "list_of_objects"
   ]
  },
  {
   "cell_type": "code",
   "execution_count": 6,
   "metadata": {},
   "outputs": [
    {
     "data": {
      "text/plain": [
       "['Hello!!,', 'This', 'is', 'Python', 'List']"
      ]
     },
     "execution_count": 6,
     "metadata": {},
     "output_type": "execute_result"
    }
   ],
   "source": [
    "# split the list \n",
    "\n",
    "prog_lang = \"Hello!!, This is Python List\"\n",
    "\n",
    "prog_lang.split()"
   ]
  },
  {
   "cell_type": "code",
   "execution_count": 7,
   "metadata": {},
   "outputs": [
    {
     "data": {
      "text/plain": [
       "[45, 6.7, True, (45, 78, 100), ['Python', 'List']]"
      ]
     },
     "execution_count": 7,
     "metadata": {},
     "output_type": "execute_result"
    }
   ],
   "source": [
    "# mixed data types\n",
    "\n",
    "mixed_list = [45,6.7,True,(45,78,100),[\"Python\",\"List\"]]\n",
    "\n",
    "mixed_list"
   ]
  },
  {
   "cell_type": "code",
   "execution_count": 8,
   "metadata": {},
   "outputs": [
    {
     "data": {
      "text/plain": [
       "[45, 6.7, True, {'Python': 'Popular Programming Language'}, ['Python', 'List']]"
      ]
     },
     "execution_count": 8,
     "metadata": {},
     "output_type": "execute_result"
    }
   ],
   "source": [
    "# updating the list \n",
    "\n",
    "mixed_list[3] = {\"Python\":\"Popular Programming Language\"}\n",
    "\n",
    "mixed_list"
   ]
  },
  {
   "cell_type": "code",
   "execution_count": 9,
   "metadata": {},
   "outputs": [
    {
     "data": {
      "text/plain": [
       "[45,\n",
       " 6.7,\n",
       " True,\n",
       " {'Python': 'Popular Programming Language'},\n",
       " ['Python', 'List'],\n",
       " [(45+9j)]]"
      ]
     },
     "execution_count": 9,
     "metadata": {},
     "output_type": "execute_result"
    }
   ],
   "source": [
    "# appending\n",
    "\n",
    "mixed_list.append([45+9j])\n",
    "\n",
    "mixed_list"
   ]
  },
  {
   "cell_type": "code",
   "execution_count": 10,
   "metadata": {},
   "outputs": [
    {
     "data": {
      "text/plain": [
       "[45,\n",
       " False,\n",
       " 6.7,\n",
       " True,\n",
       " {'Python': 'Popular Programming Language'},\n",
       " ['Python', 'List'],\n",
       " [(45+9j)]]"
      ]
     },
     "execution_count": 10,
     "metadata": {},
     "output_type": "execute_result"
    }
   ],
   "source": [
    "# insert at the specified index \n",
    "\n",
    "mixed_list.insert(1,False)\n",
    "\n",
    "mixed_list"
   ]
  },
  {
   "cell_type": "code",
   "execution_count": 11,
   "metadata": {},
   "outputs": [
    {
     "data": {
      "text/plain": [
       "[45,\n",
       " False,\n",
       " 6.7,\n",
       " True,\n",
       " {'Python': 'Popular Programming Language'},\n",
       " ['Python', 'List'],\n",
       " [(45+9j)],\n",
       " 'Pandas',\n",
       " 'Numpy']"
      ]
     },
     "execution_count": 11,
     "metadata": {},
     "output_type": "execute_result"
    }
   ],
   "source": [
    "# extend the list \n",
    "mixed_list.extend([\"Pandas\",\"Numpy\"])\n",
    "\n",
    "mixed_list"
   ]
  },
  {
   "cell_type": "code",
   "execution_count": 16,
   "metadata": {},
   "outputs": [
    {
     "data": {
      "text/plain": [
       "[45, 1000, 200, 3000, 100, 123]"
      ]
     },
     "execution_count": 16,
     "metadata": {},
     "output_type": "execute_result"
    }
   ],
   "source": [
    "# slicing and assigning\n",
    "\n",
    "mylist = [45,78,100,123]\n",
    "\n",
    "mylist[1:2]=[1000,200,3000] # add elements at index 1 \n",
    "\n",
    "mylist"
   ]
  },
  {
   "cell_type": "code",
   "execution_count": 18,
   "metadata": {},
   "outputs": [
    {
     "data": {
      "text/plain": [
       "[90.67, 50, 67.7]"
      ]
     },
     "execution_count": 18,
     "metadata": {},
     "output_type": "execute_result"
    }
   ],
   "source": [
    "# deletion and removal\n",
    "mylist= [90.67,50,100,67.7]\n",
    "mylist.remove(100)\n",
    "\n",
    "mylist"
   ]
  },
  {
   "cell_type": "code",
   "execution_count": 20,
   "metadata": {},
   "outputs": [
    {
     "data": {
      "text/plain": [
       "['Python', 'is', 'Popular']"
      ]
     },
     "execution_count": 20,
     "metadata": {},
     "output_type": "execute_result"
    }
   ],
   "source": [
    "# deleting by index \n",
    "\n",
    "mylist = [\"Python\",\"is\",\"Popular\",\"Programming\",\"Language\"]\n",
    "\n",
    "del mylist[3:5]\n",
    "\n",
    "mylist"
   ]
  },
  {
   "cell_type": "code",
   "execution_count": 23,
   "metadata": {},
   "outputs": [
    {
     "data": {
      "text/plain": [
       "[]"
      ]
     },
     "execution_count": 23,
     "metadata": {},
     "output_type": "execute_result"
    }
   ],
   "source": [
    "# clearing the entire list \n",
    "\n",
    "mylist = [45,6,12,67,1000]\n",
    "\n",
    "mylist.clear()\n",
    "\n",
    "mylist # returns empty list "
   ]
  },
  {
   "cell_type": "code",
   "execution_count": 25,
   "metadata": {},
   "outputs": [
    {
     "data": {
      "text/plain": [
       "100"
      ]
     },
     "execution_count": 25,
     "metadata": {},
     "output_type": "execute_result"
    }
   ],
   "source": [
    "# ordered Sequence \n",
    "\n",
    "my_list = [67,89,100,456,677]\n",
    "\n",
    "my_list[2]"
   ]
  },
  {
   "cell_type": "code",
   "execution_count": 26,
   "metadata": {},
   "outputs": [
    {
     "name": "stdout",
     "output_type": "stream",
     "text": [
      "67\n",
      "89\n",
      "100\n",
      "456\n",
      "677\n"
     ]
    }
   ],
   "source": [
    "for i in my_list: print(i)"
   ]
  },
  {
   "cell_type": "code",
   "execution_count": 27,
   "metadata": {},
   "outputs": [
    {
     "data": {
      "text/plain": [
       "89"
      ]
     },
     "execution_count": 27,
     "metadata": {},
     "output_type": "execute_result"
    }
   ],
   "source": [
    "my_list[-4] # negative indexing"
   ]
  },
  {
   "cell_type": "code",
   "execution_count": 28,
   "metadata": {},
   "outputs": [
    {
     "data": {
      "text/plain": [
       "[1, 6, 8, 33, 78, 90]"
      ]
     },
     "execution_count": 28,
     "metadata": {},
     "output_type": "execute_result"
    }
   ],
   "source": [
    "# data manipulation \n",
    "# sort \n",
    "\n",
    "my_list = [78,8,1,6,90,33]\n",
    "\n",
    "my_list.sort()\n",
    "\n",
    "my_list"
   ]
  },
  {
   "cell_type": "code",
   "execution_count": 29,
   "metadata": {},
   "outputs": [
    {
     "data": {
      "text/plain": [
       "[90, 78, 33, 8, 6, 1]"
      ]
     },
     "execution_count": 29,
     "metadata": {},
     "output_type": "execute_result"
    }
   ],
   "source": [
    "# reverse sorting \n",
    "\n",
    "my_list.sort(reverse=True)\n",
    "\n",
    "my_list"
   ]
  },
  {
   "cell_type": "code",
   "execution_count": 31,
   "metadata": {},
   "outputs": [
    {
     "data": {
      "text/plain": [
       "[67, 11, 33, 19]"
      ]
     },
     "execution_count": 31,
     "metadata": {},
     "output_type": "execute_result"
    }
   ],
   "source": [
    "# filtering elements \n",
    "\n",
    "my_list = [67,56,11,33,100,19]\n",
    "\n",
    "odd_list = [x  for x in my_list if x%2!=0]\n",
    "\n",
    "odd_list"
   ]
  },
  {
   "cell_type": "code",
   "execution_count": 33,
   "metadata": {},
   "outputs": [
    {
     "data": {
      "text/plain": [
       "[67, 11, 33, 19]"
      ]
     },
     "execution_count": 33,
     "metadata": {},
     "output_type": "execute_result"
    }
   ],
   "source": [
    "# in exapnded form \n",
    "\n",
    "odd_list =[]\n",
    "\n",
    "for i in my_list: \n",
    "    if i%2!=0 : odd_list.append(i)\n",
    "\n",
    "odd_list"
   ]
  },
  {
   "cell_type": "code",
   "execution_count": 34,
   "metadata": {},
   "outputs": [
    {
     "data": {
      "text/plain": [
       "[125, 216, 343, 512, 1000, 1728, 85184]"
      ]
     },
     "execution_count": 34,
     "metadata": {},
     "output_type": "execute_result"
    }
   ],
   "source": [
    "# mapping the elements \n",
    "\n",
    "my_list = [5,6,7,8,10,12,44]\n",
    "\n",
    "cubed_list = [x**3 for x in my_list]\n",
    "\n",
    "cubed_list"
   ]
  },
  {
   "cell_type": "code",
   "execution_count": 35,
   "metadata": {},
   "outputs": [
    {
     "data": {
      "text/plain": [
       "['Python', 'Java', 'C++', 'JavaScript', 'Julia', 'Ruby']"
      ]
     },
     "execution_count": 35,
     "metadata": {},
     "output_type": "execute_result"
    }
   ],
   "source": [
    "# concatenated Lists \n",
    "\n",
    "prog_lang_1= [\"Python\",\"Java\",\"C++\"]\n",
    "prog_lang_2 = [\"JavaScript\",\"Julia\",\"Ruby\"]\n",
    "\n",
    "prog_lang_1+ prog_lang_2\n"
   ]
  },
  {
   "cell_type": "code",
   "execution_count": 38,
   "metadata": {},
   "outputs": [
    {
     "name": "stdout",
     "output_type": "stream",
     "text": [
      "The maximum element 100\n",
      "The minimum element 10\n",
      "The unique elements {34, 100, 10, 44, 23, 56}\n",
      "After reverse [10, 34, 44, 100, 23, 10, 56, 34]\n",
      "34 occurs in the list 2 times\n"
     ]
    }
   ],
   "source": [
    "# other methods \n",
    "\n",
    "my_list = [34,56,10,23,100,44,34,10]\n",
    "\n",
    "print(f\"The maximum element {max(my_list)}\")\n",
    "print(f\"The minimum element {min(my_list)}\")\n",
    "print(f\"The unique elements {set(my_list)}\")\n",
    "\n",
    "my_list.reverse()\n",
    "\n",
    "print(f\"After reverse {my_list}\")\n",
    "\n",
    "print(f\"34 occurs in the list {my_list.count(34)} times\")"
   ]
  },
  {
   "cell_type": "code",
   "execution_count": 40,
   "metadata": {},
   "outputs": [
    {
     "data": {
      "text/html": [
       "<div>\n",
       "<style scoped>\n",
       "    .dataframe tbody tr th:only-of-type {\n",
       "        vertical-align: middle;\n",
       "    }\n",
       "\n",
       "    .dataframe tbody tr th {\n",
       "        vertical-align: top;\n",
       "    }\n",
       "\n",
       "    .dataframe thead th {\n",
       "        text-align: right;\n",
       "    }\n",
       "</style>\n",
       "<table border=\"1\" class=\"dataframe\">\n",
       "  <thead>\n",
       "    <tr style=\"text-align: right;\">\n",
       "      <th></th>\n",
       "      <th>Name</th>\n",
       "      <th>Age</th>\n",
       "      <th>Hobby</th>\n",
       "    </tr>\n",
       "  </thead>\n",
       "  <tbody>\n",
       "    <tr>\n",
       "      <th>0</th>\n",
       "      <td>John</td>\n",
       "      <td>23</td>\n",
       "      <td>Playing</td>\n",
       "    </tr>\n",
       "    <tr>\n",
       "      <th>1</th>\n",
       "      <td>Alice</td>\n",
       "      <td>45</td>\n",
       "      <td>Coding</td>\n",
       "    </tr>\n",
       "    <tr>\n",
       "      <th>2</th>\n",
       "      <td>Joe</td>\n",
       "      <td>67</td>\n",
       "      <td>Programming</td>\n",
       "    </tr>\n",
       "    <tr>\n",
       "      <th>3</th>\n",
       "      <td>Kim</td>\n",
       "      <td>26</td>\n",
       "      <td>Gaming</td>\n",
       "    </tr>\n",
       "  </tbody>\n",
       "</table>\n",
       "</div>"
      ],
      "text/plain": [
       "    Name  Age        Hobby\n",
       "0   John   23      Playing\n",
       "1  Alice   45       Coding\n",
       "2    Joe   67  Programming\n",
       "3    Kim   26       Gaming"
      ]
     },
     "execution_count": 40,
     "metadata": {},
     "output_type": "execute_result"
    }
   ],
   "source": [
    "# pandas with Lists \n",
    "\n",
    "import pandas as pd\n",
    "\n",
    "names = [\"John\",\"Alice\",\"Joe\",\"Kim\"]\n",
    "ages = [23,45,67,26]\n",
    "hobbies = [\"Playing\",\"Coding\",\"Programming\",\"Gaming\"]\n",
    "\n",
    "df = pd.DataFrame({\"Name\":names,\"Age\":ages,\"Hobby\":hobbies}) # type: ignore\n",
    "\n",
    "df"
   ]
  },
  {
   "cell_type": "code",
   "execution_count": null,
   "metadata": {},
   "outputs": [],
   "source": []
  }
 ],
 "metadata": {
  "kernelspec": {
   "display_name": "Python 3",
   "language": "python",
   "name": "python3"
  },
  "language_info": {
   "codemirror_mode": {
    "name": "ipython",
    "version": 3
   },
   "file_extension": ".py",
   "mimetype": "text/x-python",
   "name": "python",
   "nbconvert_exporter": "python",
   "pygments_lexer": "ipython3",
   "version": "3.11.4"
  },
  "orig_nbformat": 4
 },
 "nbformat": 4,
 "nbformat_minor": 2
}
