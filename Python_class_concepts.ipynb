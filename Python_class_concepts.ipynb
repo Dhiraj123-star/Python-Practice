{
 "cells": [
  {
   "cell_type": "code",
   "execution_count": 5,
   "metadata": {},
   "outputs": [
    {
     "name": "stdout",
     "output_type": "stream",
     "text": [
      " Name : John, age: 23\n",
      " Name : Tim, age: 24\n",
      " Name : Alice, age: 25\n",
      " Name : Anna, age: 27\n"
     ]
    }
   ],
   "source": [
    "# stattc method \n",
    "\n",
    "class Student:\n",
    "    def __init__(self,name,age):\n",
    "        self.name =name\n",
    "        self.age =age \n",
    "    \n",
    "    @staticmethod\n",
    "    def give_info(student):\n",
    "        print(f\" Name : {student.name}, age: {student.age}\")\n",
    "\n",
    "# defining data\n",
    "\n",
    "john = Student(\"John\",23)\n",
    "tim = Student(\"Tim\",24)\n",
    "alice = Student(\"Alice\",25)\n",
    "anna = Student(\"Anna\",27)\n",
    "\n",
    "# accessing methods\n",
    "\n",
    "Student.give_info(john)\n",
    "Student.give_info(tim)\n",
    "Student.give_info(alice)\n",
    "Student.give_info(anna)"
   ]
  },
  {
   "cell_type": "code",
   "execution_count": 6,
   "metadata": {},
   "outputs": [
    {
     "name": "stdout",
     "output_type": "stream",
     "text": [
      "Tim 23\n"
     ]
    }
   ],
   "source": [
    "# class method \n",
    "\n",
    "class Person:\n",
    "    total_persons =0\n",
    "\n",
    "    def __init__(self,name,age):\n",
    "        self.name =name\n",
    "        self.age =age\n",
    "        Person.total_persons+=1\n",
    "\n",
    "    @staticmethod\n",
    "    def give_info(person):\n",
    "        print(person.name,person.age)\n",
    "\n",
    "    @classmethod\n",
    "    def from_birth_year(cls,name,birth_year):\n",
    "        age = cls.calculate_age(birth_year)\n",
    "        return cls(name,age)\n",
    "\n",
    "    @staticmethod\n",
    "    def calculate_age(birth_year):\n",
    "        current_year =2023\n",
    "        return current_year-birth_year\n",
    "\n",
    "\n",
    "# creating objects \n",
    "\n",
    "tim = Person(\"Tim\",23)\n",
    "\n",
    "Person.give_info(tim)"
   ]
  },
  {
   "cell_type": "code",
   "execution_count": 7,
   "metadata": {},
   "outputs": [
    {
     "data": {
      "text/plain": [
       "<__main__.Person at 0x7fc30012da00>"
      ]
     },
     "execution_count": 7,
     "metadata": {},
     "output_type": "execute_result"
    }
   ],
   "source": [
    "Person.from_birth_year(\"tim\",2000)"
   ]
  },
  {
   "cell_type": "code",
   "execution_count": 8,
   "metadata": {},
   "outputs": [
    {
     "data": {
      "text/plain": [
       "23"
      ]
     },
     "execution_count": 8,
     "metadata": {},
     "output_type": "execute_result"
    }
   ],
   "source": [
    "Person.calculate_age(2000)"
   ]
  }
 ],
 "metadata": {
  "kernelspec": {
   "display_name": "Python 3",
   "language": "python",
   "name": "python3"
  },
  "language_info": {
   "codemirror_mode": {
    "name": "ipython",
    "version": 3
   },
   "file_extension": ".py",
   "mimetype": "text/x-python",
   "name": "python",
   "nbconvert_exporter": "python",
   "pygments_lexer": "ipython3",
   "version": "3.8.10"
  },
  "orig_nbformat": 4
 },
 "nbformat": 4,
 "nbformat_minor": 2
}
