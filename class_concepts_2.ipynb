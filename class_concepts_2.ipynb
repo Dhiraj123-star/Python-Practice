{
 "cells": [
  {
   "cell_type": "code",
   "execution_count": 3,
   "metadata": {},
   "outputs": [
    {
     "ename": "AttributeError",
     "evalue": "'MyClass' object has no attribute '__variable'",
     "output_type": "error",
     "traceback": [
      "\u001b[1;31m---------------------------------------------------------------------------\u001b[0m",
      "\u001b[1;31mAttributeError\u001b[0m                            Traceback (most recent call last)",
      "Cell \u001b[1;32mIn[3], line 11\u001b[0m\n\u001b[0;32m      7\u001b[0m \u001b[39m# create object \u001b[39;00m\n\u001b[0;32m      9\u001b[0m obj \u001b[39m=\u001b[39m MyClass()\n\u001b[1;32m---> 11\u001b[0m obj\u001b[39m.\u001b[39;49m__variable\n",
      "\u001b[1;31mAttributeError\u001b[0m: 'MyClass' object has no attribute '__variable'"
     ]
    }
   ],
   "source": [
    "# name mangling\n",
    "\n",
    "class MyClass :\n",
    "    def __init__(self):\n",
    "        self.__variable =100\n",
    "\n",
    "# create object \n",
    "\n",
    "obj = MyClass()\n",
    "\n",
    "obj.__variable # Name mangling changes the name of the variable __variable to _MyClass__variable."
   ]
  },
  {
   "cell_type": "code",
   "execution_count": 5,
   "metadata": {},
   "outputs": [
    {
     "data": {
      "text/plain": [
       "100"
      ]
     },
     "execution_count": 5,
     "metadata": {},
     "output_type": "execute_result"
    }
   ],
   "source": [
    "obj._MyClass__variable # access the __variable by MyClass "
   ]
  },
  {
   "cell_type": "code",
   "execution_count": 8,
   "metadata": {},
   "outputs": [
    {
     "name": "stdout",
     "output_type": "stream",
     "text": [
      "90\n"
     ]
    }
   ],
   "source": [
    "# inheritance \n",
    "\n",
    "class A:\n",
    "    def __init__(self):\n",
    "        self.__variable = 90\n",
    "\n",
    "    def display(self):\n",
    "        print(self.__variable)\n",
    "\n",
    "class B(A):\n",
    "    def __init__(self):\n",
    "        super().__init__()\n",
    "        self.__variable =100\n",
    "\n",
    "# creating object \n",
    "b = B()\n",
    "b.display() # 90 because display() is defined in class A. so,  __variable is modified to _A__variable"
   ]
  },
  {
   "cell_type": "code",
   "execution_count": 9,
   "metadata": {},
   "outputs": [
    {
     "name": "stdout",
     "output_type": "stream",
     "text": [
      "Total Count 2\n",
      "Total Count 2\n"
     ]
    }
   ],
   "source": [
    "# class Variable \n",
    "\n",
    "class Count :\n",
    "    count =0\n",
    "    def __init__(self):\n",
    "        Count.count+=1\n",
    "    @classmethod\n",
    "    def get_count(cls):\n",
    "        return cls.count\n",
    "\n",
    "obj_1 = Count()\n",
    "obj_2 = Count()\n",
    "\n",
    "# count is class variable is shared among all the instances\n",
    "print(f\"Total Count {obj_1.get_count()}\")\n",
    "print(f\"Total Count {obj_2.get_count()}\")\n"
   ]
  },
  {
   "cell_type": "code",
   "execution_count": 11,
   "metadata": {},
   "outputs": [
    {
     "name": "stdout",
     "output_type": "stream",
     "text": [
      "Total Count 0\n",
      "Total Count 0\n"
     ]
    }
   ],
   "source": [
    "# other method\n",
    "\n",
    "class Demo :\n",
    "    count =0 \n",
    "    def __init__(self) :\n",
    "       self.count +=1 # count is the class variable , self keyword attempts the increment of class variable\n",
    "\n",
    "    \n",
    "    @classmethod\n",
    "    def get_count(cls):\n",
    "        return cls.count\n",
    "\n",
    "# create objects\n",
    "obj1 = Demo()\n",
    "obj2 = Demo()\n",
    "\n",
    "print(f\"Total Count {obj1.get_count()}\")\n",
    "print(f\"Total Count {obj2.get_count()}\")\n",
    "\n"
   ]
  },
  {
   "cell_type": "code",
   "execution_count": 12,
   "metadata": {},
   "outputs": [
    {
     "name": "stdout",
     "output_type": "stream",
     "text": [
      "Count of A 1\n",
      "Count B 2\n"
     ]
    }
   ],
   "source": [
    "class A:\n",
    "    count =0\n",
    "    def __init__(self):\n",
    "        A.count +=1\n",
    "    \n",
    "    @classmethod \n",
    "    def get_count(cls):\n",
    "        return cls.count\n",
    "class B(A):\n",
    "    pass\n",
    "\n",
    "    def __init__(self):\n",
    "        B.count+=1\n",
    "\n",
    "a = A()\n",
    "b= B()\n",
    "\n",
    "print(f'Count of A {A.get_count()}')\n",
    "print(f'Count B {b.get_count()}')\n",
    "\n",
    "'''it creates a new instance variable specific to class B, \n",
    "leaving the class variable count of class A unaffected.'''"
   ]
  },
  {
   "cell_type": "code",
   "execution_count": 14,
   "metadata": {},
   "outputs": [
    {
     "data": {
      "text/plain": [
       "[__main__.D, __main__.B, __main__.C, __main__.A, object]"
      ]
     },
     "execution_count": 14,
     "metadata": {},
     "output_type": "execute_result"
    }
   ],
   "source": [
    "# MRO(Method Resolution Order)\n",
    "class A:\n",
    "    pass\n",
    "class B(A):\n",
    "    ...\n",
    "class C(A):\n",
    "    pass \n",
    "class D(B,C):\n",
    "    ...\n",
    "\n",
    "D.mro()\n",
    "'''This order ensures that when a method or attribute is called on an instance of class D, \n",
    "Python will first search in class D, \n",
    "then in class B, followed by class C, then class A, and finally in the built-in object class.'''\n"
   ]
  },
  {
   "cell_type": "code",
   "execution_count": 15,
   "metadata": {},
   "outputs": [
    {
     "name": "stdout",
     "output_type": "stream",
     "text": [
      "Inside C's Method\n"
     ]
    }
   ],
   "source": [
    "class A:\n",
    "    def message(self):\n",
    "        print(\"This is A's Method\")\n",
    "class B(A): pass \n",
    "\n",
    "class C(A):\n",
    "    def message(self):\n",
    "        print(\"Inside C's Method\")\n",
    "\n",
    "class D(B,C):\n",
    "    ...\n",
    "\n",
    "d = D()\n",
    "\n",
    "d.message()\n",
    "\n",
    "'''Python first checks if greet() exists in class D, then in class B, but finds it in class C. \n",
    "As a result, the output of d.greet() is \"Hello from C\", \n",
    "as the greet() method from class C takes precedence in the MRO over the method in class A.'''"
   ]
  },
  {
   "cell_type": "code",
   "execution_count": 16,
   "metadata": {},
   "outputs": [
    {
     "data": {
      "text/plain": [
       "'Hello from A'"
      ]
     },
     "execution_count": 16,
     "metadata": {},
     "output_type": "execute_result"
    }
   ],
   "source": [
    "class A:\n",
    "    def greet(self):\n",
    "        return \"Hello from A\"\n",
    "class B:\n",
    "    def greet(self):\n",
    "        return \"Hello From B\"\n",
    "class C(A,B):\n",
    "    ...\n",
    "class D(C,B):\n",
    "    ...\n",
    "\n",
    "# create Object \n",
    "\n",
    "d= D()\n",
    "\n",
    "d.greet()\n",
    "\n",
    "'''Python first checks if greet() exists in class D, then in class C, and \n",
    "  eventually finds it in class A. Thus, the output of d.greet() is \"Hello from A\", \n",
    "as the greet() method from class A takes precedence in the MRO over the method in class B.'''"
   ]
  },
  {
   "cell_type": "code",
   "execution_count": 18,
   "metadata": {},
   "outputs": [
    {
     "data": {
      "text/plain": [
       "[__main__.D, __main__.C, __main__.A, __main__.B, object]"
      ]
     },
     "execution_count": 18,
     "metadata": {},
     "output_type": "execute_result"
    }
   ],
   "source": [
    "D.mro()"
   ]
  },
  {
   "cell_type": "code",
   "execution_count": null,
   "metadata": {},
   "outputs": [],
   "source": []
  }
 ],
 "metadata": {
  "kernelspec": {
   "display_name": "Python 3",
   "language": "python",
   "name": "python3"
  },
  "language_info": {
   "codemirror_mode": {
    "name": "ipython",
    "version": 3
   },
   "file_extension": ".py",
   "mimetype": "text/x-python",
   "name": "python",
   "nbconvert_exporter": "python",
   "pygments_lexer": "ipython3",
   "version": "3.11.4"
  },
  "orig_nbformat": 4
 },
 "nbformat": 4,
 "nbformat_minor": 2
}
