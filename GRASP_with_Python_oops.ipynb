{
 "cells": [
  {
   "cell_type": "code",
   "execution_count": 6,
   "metadata": {},
   "outputs": [
    {
     "name": "stdout",
     "output_type": "stream",
     "text": [
      "withdrew 300 from account 12097777\n",
      "Left Balance : 1700\n"
     ]
    }
   ],
   "source": [
    "'''\n",
    "GRASP provides guidelines for assigning responsibilities to classes and objects, \n",
    "which helps developers create well-structured and loosely coupled systems.'''\n",
    "\n",
    "# banking system\n",
    "\n",
    "class Account:\n",
    "    def __init__(self,account_number,balance):\n",
    "        self.account_number = account_number\n",
    "        self.balance = balance\n",
    "    \n",
    "    def withdraw(self,amount):\n",
    "        if self.balance >=amount:\n",
    "            self.balance-=amount\n",
    "            print(f\"withdrew {amount} from account {self.account_number}\")\n",
    "            print(f\"Left Balance : {self.balance}\")\n",
    "        else:\n",
    "            print(\"insufficient balance\")\n",
    "\n",
    "account = Account(12097777,2000)\n",
    "account.withdraw(300)\n",
    "\n"
   ]
  },
  {
   "cell_type": "code",
   "execution_count": 10,
   "metadata": {},
   "outputs": [
    {
     "name": "stdout",
     "output_type": "stream",
     "text": [
      "post created\n"
     ]
    }
   ],
   "source": [
    "# blogging platform \n",
    "from datetime import datetime\n",
    "class Post :\n",
    "    def __init__(self,author,content):\n",
    "        self.author =author\n",
    "        self.content =content\n",
    "        self.created_at =datetime.now() # type: ignore\n",
    "\n",
    "class Blog:\n",
    "    def __init__(self,author):\n",
    "        self.author=author\n",
    "        self.posts =[]\n",
    "    def create_post(self,content):\n",
    "        post = Post(self.author,content)\n",
    "        self.posts.append(post)\n",
    "        print(\"post created\")\n",
    "\n",
    "blog = Blog(\"Mike Dravid\")\n",
    "\n",
    "blog.create_post(\"Hello , Python!!\")\n",
    "        "
   ]
  },
  {
   "cell_type": "code",
   "execution_count": 15,
   "metadata": {},
   "outputs": [
    {
     "name": "stdout",
     "output_type": "stream",
     "text": [
      "Added Mobile Phone to the cart\n"
     ]
    }
   ],
   "source": [
    "# An Online Store \n",
    "\n",
    "class CartContoller:\n",
    "    def __init__(self,cart):\n",
    "        self.cart =cart\n",
    "    \n",
    "    def add_product(self,product):\n",
    "        self.cart.add_product(product)\n",
    "        print(f\"Added {product} to the cart\")\n",
    "    \n",
    "class ShoppingCart:\n",
    "    def __init__(self):\n",
    "        self.products =[]\n",
    "    \n",
    "    def add_product(self,product):\n",
    "        self.products.append(product)\n",
    "\n",
    "cart = ShoppingCart()\n",
    "controller= CartContoller(cart)\n",
    "controller.add_product(\"Mobile Phone\")"
   ]
  },
  {
   "cell_type": "code",
   "execution_count": null,
   "metadata": {},
   "outputs": [],
   "source": []
  }
 ],
 "metadata": {
  "kernelspec": {
   "display_name": "Python 3",
   "language": "python",
   "name": "python3"
  },
  "language_info": {
   "codemirror_mode": {
    "name": "ipython",
    "version": 3
   },
   "file_extension": ".py",
   "mimetype": "text/x-python",
   "name": "python",
   "nbconvert_exporter": "python",
   "pygments_lexer": "ipython3",
   "version": "3.11.4"
  },
  "orig_nbformat": 4
 },
 "nbformat": 4,
 "nbformat_minor": 2
}
