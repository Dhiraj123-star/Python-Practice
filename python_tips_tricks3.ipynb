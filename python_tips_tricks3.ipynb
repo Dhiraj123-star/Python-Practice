{
 "cells": [
  {
   "cell_type": "code",
   "execution_count": 2,
   "metadata": {},
   "outputs": [
    {
     "data": {
      "text/plain": [
       "[12, 56, 100, 1000]"
      ]
     },
     "execution_count": 2,
     "metadata": {},
     "output_type": "execute_result"
    }
   ],
   "source": [
    "# list clear method \n",
    "\n",
    "lis = [12,56,100,1000]\n",
    "\n",
    "lis"
   ]
  },
  {
   "cell_type": "code",
   "execution_count": 4,
   "metadata": {},
   "outputs": [],
   "source": [
    "res= lis.clear() # clear the entire list contents\n",
    "\n",
    "res"
   ]
  },
  {
   "cell_type": "code",
   "execution_count": 8,
   "metadata": {},
   "outputs": [
    {
     "name": "stdout",
     "output_type": "stream",
     "text": [
      "Python Java C++ C\n"
     ]
    }
   ],
   "source": [
    "# unpack \n",
    "mylist = [\"Python\",\"Java\",\"C++\",\"C\"]\n",
    "\n",
    "print(*mylist)"
   ]
  },
  {
   "cell_type": "code",
   "execution_count": 9,
   "metadata": {},
   "outputs": [
    {
     "data": {
      "text/plain": [
       "5"
      ]
     },
     "execution_count": 9,
     "metadata": {},
     "output_type": "execute_result"
    }
   ],
   "source": [
    "# count words \n",
    "\n",
    "text = 'Python is easy to learn. Python is also fun to code in. Python, Python, Python!'\n",
    "\n",
    "word = \"Python\"\n",
    "\n",
    "res = text.count(word)\n",
    "\n",
    "res"
   ]
  },
  {
   "cell_type": "code",
   "execution_count": 10,
   "metadata": {},
   "outputs": [
    {
     "data": {
      "text/plain": [
       "4"
      ]
     },
     "execution_count": 10,
     "metadata": {},
     "output_type": "execute_result"
    }
   ],
   "source": [
    "# navigating with next() \n",
    "\n",
    "nums = [1,4,5,19,10]\n",
    "\n",
    "first_even = next((num for num in nums if num%2==0),None)\n",
    "\n",
    "first_even"
   ]
  },
  {
   "cell_type": "code",
   "execution_count": 11,
   "metadata": {},
   "outputs": [
    {
     "data": {
      "text/plain": [
       "['odd', 'even', 'odd', 'odd', 'even']"
      ]
     },
     "execution_count": 11,
     "metadata": {},
     "output_type": "execute_result"
    }
   ],
   "source": [
    "# conditions in list comprehension\n",
    "\n",
    "res_nums = [\"even\" if num%2==0 else \"odd\" for num in nums]\n",
    "\n",
    "res_nums"
   ]
  },
  {
   "cell_type": "code",
   "execution_count": 13,
   "metadata": {},
   "outputs": [
    {
     "data": {
      "text/plain": [
       "['/home/dayteam/Desktop/automation_Py/credentials.json',\n",
       " '/home/dayteam/Desktop/automation_Py/sample_data.json',\n",
       " '/home/dayteam/Desktop/automation_Py/programming.json',\n",
       " '/home/dayteam/Desktop/automation_Py/docs_secrets.json',\n",
       " '/home/dayteam/Desktop/automation_Py/person.json',\n",
       " '/home/dayteam/Desktop/automation_Py/programming1.json',\n",
       " '/home/dayteam/Desktop/automation_Py/cookies.json']"
      ]
     },
     "execution_count": 13,
     "metadata": {},
     "output_type": "execute_result"
    }
   ],
   "source": [
    "import glob\n",
    "\n",
    "folder_path = \"/home/dayteam/Desktop/automation_Py/\"\n",
    "\n",
    "json_files = glob.glob(folder_path+\"/*.json\")\n",
    "\n",
    "\n",
    "json_files"
   ]
  },
  {
   "cell_type": "code",
   "execution_count": 14,
   "metadata": {},
   "outputs": [
    {
     "data": {
      "text/plain": [
       "['credentials.json',\n",
       " 'sample_data.json',\n",
       " 'programming.json',\n",
       " 'docs_secrets.json',\n",
       " 'person.json',\n",
       " 'programming1.json',\n",
       " 'cookies.json']"
      ]
     },
     "execution_count": 14,
     "metadata": {},
     "output_type": "execute_result"
    }
   ],
   "source": [
    "# traditional for-loop approach \n",
    "\n",
    "import os\n",
    "\n",
    "json_files=[]\n",
    "\n",
    "for file in os.listdir(folder_path):\n",
    "    if file.endswith(\".json\"):\n",
    "        json_files.append(file)\n",
    "\n",
    "json_files"
   ]
  },
  {
   "cell_type": "code",
   "execution_count": 19,
   "metadata": {},
   "outputs": [
    {
     "name": "stdout",
     "output_type": "stream",
     "text": [
      "Date found:  01-06-2023\n"
     ]
    }
   ],
   "source": [
    "# regular Expressions\n",
    "\n",
    "import re\n",
    "\n",
    "pattern =  r\"\\d{2}-\\d{2}-\\d{4}\" # match date pattern \n",
    "text = \"Today's date is 01-06-2023\"\n",
    "\n",
    "match = re.search(pattern,text)\n",
    "\n",
    "\n",
    "if match:\n",
    "    print(\"Date found: \",match.group())"
   ]
  },
  {
   "cell_type": "code",
   "execution_count": 23,
   "metadata": {},
   "outputs": [
    {
     "name": "stdout",
     "output_type": "stream",
     "text": [
      "Email Found:  example122@gmail.com\n"
     ]
    }
   ],
   "source": [
    "# extracting Email-Address\n",
    "\n",
    "pattern =  r\"\\b[A-Za-z0-9._%+-]+@[A-Za-z0-9.-]+\\.[A-Za-z]{2,}\\b\"\n",
    "text = \"Please contact me on example122@gmail.com for more info\"\n",
    "\n",
    "match = re.search(pattern,text)\n",
    "\n",
    "if match:\n",
    "    print(\"Email Found: \",match.group())"
   ]
  },
  {
   "cell_type": "code",
   "execution_count": 32,
   "metadata": {},
   "outputs": [
    {
     "name": "stdout",
     "output_type": "stream",
     "text": [
      "Protocol:  https\n",
      "Domain:  www.google.com\n",
      "Port:  None\n",
      "Path:  /about\n"
     ]
    }
   ],
   "source": [
    "# grouping and capturing\n",
    "\n",
    "pattern = r\"(https?)://([A-Za-z_0-9.-]+)(:\\d+)?(/.*)?\"\n",
    "url = \"Visit https://www.google.com/about\"\n",
    "\n",
    "match = re.search(pattern,url)\n",
    "\n",
    "if match:\n",
    "    protocol,domain,port,path = match.groups()\n",
    "\n",
    "    print(\"Protocol: \",protocol)\n",
    "    print(\"Domain: \",domain)\n",
    "    print(\"Port: \",port)\n",
    "    print(\"Path: \",path)\n",
    "\n",
    "\n"
   ]
  },
  {
   "cell_type": "code",
   "execution_count": 35,
   "metadata": {},
   "outputs": [
    {
     "name": "stdout",
     "output_type": "stream",
     "text": [
      "Invalid Password!!\n"
     ]
    }
   ],
   "source": [
    "# password validation\n",
    "\n",
    "pattern = r\"(?=.*[A-Z])(?=.*[a-z])(?=.*\\d).{8,}\"\n",
    "password = \"Password\"\n",
    "\n",
    "if re.match(pattern,password):\n",
    "    print(\"valid password!!\")\n",
    "else:\n",
    "    print(\"Invalid Password!!\")"
   ]
  },
  {
   "cell_type": "code",
   "execution_count": 36,
   "metadata": {},
   "outputs": [
    {
     "name": "stdout",
     "output_type": "stream",
     "text": [
      "valid password!!\n"
     ]
    }
   ],
   "source": [
    "password = \"Password_13^w\"\n",
    "\n",
    "if re.match(pattern,password):\n",
    "    print(\"valid password!!\")\n",
    "else:\n",
    "    print(\"Invalid Password!!\")"
   ]
  },
  {
   "cell_type": "code",
   "execution_count": 37,
   "metadata": {},
   "outputs": [
    {
     "data": {
      "text/plain": [
       "('https', 'www.google.com', None, '/about')"
      ]
     },
     "execution_count": 37,
     "metadata": {},
     "output_type": "execute_result"
    }
   ],
   "source": [
    "match.groups()"
   ]
  },
  {
   "cell_type": "code",
   "execution_count": 38,
   "metadata": {},
   "outputs": [
    {
     "data": {
      "text/plain": [
       "'https://www.google.com/about'"
      ]
     },
     "execution_count": 38,
     "metadata": {},
     "output_type": "execute_result"
    }
   ],
   "source": [
    "match.group()"
   ]
  },
  {
   "cell_type": "code",
   "execution_count": 39,
   "metadata": {},
   "outputs": [
    {
     "data": {
      "text/html": [
       "<div>\n",
       "<style scoped>\n",
       "    .dataframe tbody tr th:only-of-type {\n",
       "        vertical-align: middle;\n",
       "    }\n",
       "\n",
       "    .dataframe tbody tr th {\n",
       "        vertical-align: top;\n",
       "    }\n",
       "\n",
       "    .dataframe thead th {\n",
       "        text-align: right;\n",
       "    }\n",
       "</style>\n",
       "<table border=\"1\" class=\"dataframe\">\n",
       "  <thead>\n",
       "    <tr style=\"text-align: right;\">\n",
       "      <th></th>\n",
       "      <th>sales_person</th>\n",
       "      <th>sale_amount</th>\n",
       "      <th>above_threshold</th>\n",
       "    </tr>\n",
       "  </thead>\n",
       "  <tbody>\n",
       "    <tr>\n",
       "      <th>0</th>\n",
       "      <td>Alice</td>\n",
       "      <td>100</td>\n",
       "      <td>False</td>\n",
       "    </tr>\n",
       "    <tr>\n",
       "      <th>1</th>\n",
       "      <td>Bob</td>\n",
       "      <td>200</td>\n",
       "      <td>False</td>\n",
       "    </tr>\n",
       "    <tr>\n",
       "      <th>2</th>\n",
       "      <td>Charlie</td>\n",
       "      <td>300</td>\n",
       "      <td>True</td>\n",
       "    </tr>\n",
       "    <tr>\n",
       "      <th>3</th>\n",
       "      <td>David</td>\n",
       "      <td>400</td>\n",
       "      <td>True</td>\n",
       "    </tr>\n",
       "  </tbody>\n",
       "</table>\n",
       "</div>"
      ],
      "text/plain": [
       "  sales_person  sale_amount  above_threshold\n",
       "0        Alice          100            False\n",
       "1          Bob          200            False\n",
       "2      Charlie          300             True\n",
       "3        David          400             True"
      ]
     },
     "execution_count": 39,
     "metadata": {},
     "output_type": "execute_result"
    }
   ],
   "source": [
    "import pandas as pd\n",
    "\n",
    "data = {\n",
    "    \"sales_person\":[\"Alice\",\"Bob\",\"Charlie\",\"David\"],\n",
    "    \"sale_amount\":[100,200,300,400]\n",
    "}\n",
    "df = pd.DataFrame(data)\n",
    "\n",
    "threshold =250\n",
    "\n",
    "df[\"above_threshold\"]= df[\"sale_amount\"].apply(\n",
    "\n",
    "    lambda x:True if x>=threshold else False\n",
    ")\n",
    "\n",
    "df"
   ]
  },
  {
   "cell_type": "code",
   "execution_count": 41,
   "metadata": {},
   "outputs": [
    {
     "data": {
      "text/plain": [
       "0.8419966483845038"
      ]
     },
     "execution_count": 41,
     "metadata": {},
     "output_type": "execute_result"
    }
   ],
   "source": [
    "# next() method\n",
    "\n",
    "import random\n",
    "\n",
    "def random_numbers():\n",
    "    while True :\n",
    "        yield random.random()\n",
    "\n",
    "# use next() to find the first number greater than 0.5 \n",
    "num = next(x for x in random_numbers() if x >0.5) \n",
    "\n",
    "num"
   ]
  },
  {
   "cell_type": "code",
   "execution_count": 42,
   "metadata": {},
   "outputs": [
    {
     "name": "stdout",
     "output_type": "stream",
     "text": [
      "The original string is : Helloworld\n",
      "The reversed string(using loops) is : dlrowolleH\n"
     ]
    }
   ],
   "source": [
    "def reverse(s):\n",
    "    str = \"\"\n",
    "    for i in s:\n",
    "        str = i + str\n",
    "    return str\n",
    " \n",
    "s = \"Helloworld\"\n",
    " \n",
    "print(\"The original string is : \", end=\"\")\n",
    "print(s)\n",
    " \n",
    "print(\"The reversed string(using loops) is : \", end=\"\")\n",
    "print(reverse(s))"
   ]
  },
  {
   "cell_type": "code",
   "execution_count": null,
   "metadata": {},
   "outputs": [],
   "source": []
  }
 ],
 "metadata": {
  "kernelspec": {
   "display_name": "Python 3",
   "language": "python",
   "name": "python3"
  },
  "language_info": {
   "codemirror_mode": {
    "name": "ipython",
    "version": 3
   },
   "file_extension": ".py",
   "mimetype": "text/x-python",
   "name": "python",
   "nbconvert_exporter": "python",
   "pygments_lexer": "ipython3",
   "version": "3.8.10"
  },
  "orig_nbformat": 4
 },
 "nbformat": 4,
 "nbformat_minor": 2
}
