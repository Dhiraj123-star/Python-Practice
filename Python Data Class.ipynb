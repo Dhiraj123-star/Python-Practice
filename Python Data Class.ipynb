{
 "cells": [
  {
   "cell_type": "code",
   "execution_count": 2,
   "metadata": {},
   "outputs": [
    {
     "data": {
      "text/plain": [
       "Student(name='Dhiraj', age=24, height=1.56, email='dhiraj67@gmail.com')"
      ]
     },
     "execution_count": 2,
     "metadata": {},
     "output_type": "execute_result"
    }
   ],
   "source": [
    "# data classes in Python \n",
    "\n",
    "from dataclasses import dataclass\n",
    "\n",
    "@dataclass\n",
    "\n",
    "class Student:\n",
    "    name :str = 'Dhiraj'\n",
    "    age :int =24\n",
    "    height : float = 1.56\n",
    "    email:str = 'dhiraj67@gmail.com'\n",
    "\n",
    "Student() \n"
   ]
  },
  {
   "cell_type": "code",
   "execution_count": 3,
   "metadata": {},
   "outputs": [
    {
     "ename": "TypeError",
     "evalue": "non-default argument 'height' follows default argument",
     "output_type": "error",
     "traceback": [
      "\u001b[1;31m---------------------------------------------------------------------------\u001b[0m",
      "\u001b[1;31mTypeError\u001b[0m                                 Traceback (most recent call last)",
      "Cell \u001b[1;32mIn[3], line 4\u001b[0m\n\u001b[0;32m      1\u001b[0m \u001b[39m'''Python doesn't accept a non-default attribute after default in both \u001b[39;00m\n\u001b[0;32m      2\u001b[0m \u001b[39mclass and functions, so this would throw an error'''\u001b[39;00m\n\u001b[1;32m----> 4\u001b[0m \u001b[39m@dataclass\u001b[39;49m\n\u001b[0;32m      5\u001b[0m \n\u001b[0;32m      6\u001b[0m \u001b[39mclass\u001b[39;49;00m \u001b[39mPerson\u001b[39;49;00m:\n\u001b[0;32m      7\u001b[0m     name :\u001b[39mstr\u001b[39;49m \u001b[39m=\u001b[39;49m \u001b[39m'\u001b[39;49m\u001b[39mHimanshu\u001b[39;49m\u001b[39m'\u001b[39;49m\n\u001b[0;32m      8\u001b[0m     age:\u001b[39mint\u001b[39;49m \u001b[39m=\u001b[39;49m\u001b[39m34\u001b[39;49m\n",
      "File \u001b[1;32mc:\\Users\\Dhiraj kumar\\AppData\\Local\\Programs\\Python\\Python311\\Lib\\dataclasses.py:1230\u001b[0m, in \u001b[0;36mdataclass\u001b[1;34m(cls, init, repr, eq, order, unsafe_hash, frozen, match_args, kw_only, slots, weakref_slot)\u001b[0m\n\u001b[0;32m   1227\u001b[0m     \u001b[39mreturn\u001b[39;00m wrap\n\u001b[0;32m   1229\u001b[0m \u001b[39m# We're called as @dataclass without parens.\u001b[39;00m\n\u001b[1;32m-> 1230\u001b[0m \u001b[39mreturn\u001b[39;00m wrap(\u001b[39mcls\u001b[39;49m)\n",
      "File \u001b[1;32mc:\\Users\\Dhiraj kumar\\AppData\\Local\\Programs\\Python\\Python311\\Lib\\dataclasses.py:1220\u001b[0m, in \u001b[0;36mdataclass.<locals>.wrap\u001b[1;34m(cls)\u001b[0m\n\u001b[0;32m   1219\u001b[0m \u001b[39mdef\u001b[39;00m \u001b[39mwrap\u001b[39m(\u001b[39mcls\u001b[39m):\n\u001b[1;32m-> 1220\u001b[0m     \u001b[39mreturn\u001b[39;00m _process_class(\u001b[39mcls\u001b[39;49m, init, \u001b[39mrepr\u001b[39;49m, eq, order, unsafe_hash,\n\u001b[0;32m   1221\u001b[0m                           frozen, match_args, kw_only, slots,\n\u001b[0;32m   1222\u001b[0m                           weakref_slot)\n",
      "File \u001b[1;32mc:\\Users\\Dhiraj kumar\\AppData\\Local\\Programs\\Python\\Python311\\Lib\\dataclasses.py:1027\u001b[0m, in \u001b[0;36m_process_class\u001b[1;34m(cls, init, repr, eq, order, unsafe_hash, frozen, match_args, kw_only, slots, weakref_slot)\u001b[0m\n\u001b[0;32m   1022\u001b[0m \u001b[39mif\u001b[39;00m init:\n\u001b[0;32m   1023\u001b[0m     \u001b[39m# Does this class have a post-init function?\u001b[39;00m\n\u001b[0;32m   1024\u001b[0m     has_post_init \u001b[39m=\u001b[39m \u001b[39mhasattr\u001b[39m(\u001b[39mcls\u001b[39m, _POST_INIT_NAME)\n\u001b[0;32m   1026\u001b[0m     _set_new_attribute(\u001b[39mcls\u001b[39m, \u001b[39m'\u001b[39m\u001b[39m__init__\u001b[39m\u001b[39m'\u001b[39m,\n\u001b[1;32m-> 1027\u001b[0m                        _init_fn(all_init_fields,\n\u001b[0;32m   1028\u001b[0m                                 std_init_fields,\n\u001b[0;32m   1029\u001b[0m                                 kw_only_init_fields,\n\u001b[0;32m   1030\u001b[0m                                 frozen,\n\u001b[0;32m   1031\u001b[0m                                 has_post_init,\n\u001b[0;32m   1032\u001b[0m                                 \u001b[39m# The name to use for the \"self\"\u001b[39;49;00m\n\u001b[0;32m   1033\u001b[0m                                 \u001b[39m# param in __init__.  Use \"self\"\u001b[39;49;00m\n\u001b[0;32m   1034\u001b[0m                                 \u001b[39m# if possible.\u001b[39;49;00m\n\u001b[0;32m   1035\u001b[0m                                 \u001b[39m'\u001b[39;49m\u001b[39m__dataclass_self__\u001b[39;49m\u001b[39m'\u001b[39;49m \u001b[39mif\u001b[39;49;00m \u001b[39m'\u001b[39;49m\u001b[39mself\u001b[39;49m\u001b[39m'\u001b[39;49m \u001b[39min\u001b[39;49;00m fields\n\u001b[0;32m   1036\u001b[0m                                         \u001b[39melse\u001b[39;49;00m \u001b[39m'\u001b[39;49m\u001b[39mself\u001b[39;49m\u001b[39m'\u001b[39;49m,\n\u001b[0;32m   1037\u001b[0m                                 \u001b[39mglobals\u001b[39;49m,\n\u001b[0;32m   1038\u001b[0m                                 slots,\n\u001b[0;32m   1039\u001b[0m                       ))\n\u001b[0;32m   1041\u001b[0m \u001b[39m# Get the fields as a list, and include only real fields.  This is\u001b[39;00m\n\u001b[0;32m   1042\u001b[0m \u001b[39m# used in all of the following methods.\u001b[39;00m\n\u001b[0;32m   1043\u001b[0m field_list \u001b[39m=\u001b[39m [f \u001b[39mfor\u001b[39;00m f \u001b[39min\u001b[39;00m fields\u001b[39m.\u001b[39mvalues() \u001b[39mif\u001b[39;00m f\u001b[39m.\u001b[39m_field_type \u001b[39mis\u001b[39;00m _FIELD]\n",
      "File \u001b[1;32mc:\\Users\\Dhiraj kumar\\AppData\\Local\\Programs\\Python\\Python311\\Lib\\dataclasses.py:545\u001b[0m, in \u001b[0;36m_init_fn\u001b[1;34m(fields, std_fields, kw_only_fields, frozen, has_post_init, self_name, globals, slots)\u001b[0m\n\u001b[0;32m    543\u001b[0m             seen_default \u001b[39m=\u001b[39m \u001b[39mTrue\u001b[39;00m\n\u001b[0;32m    544\u001b[0m         \u001b[39melif\u001b[39;00m seen_default:\n\u001b[1;32m--> 545\u001b[0m             \u001b[39mraise\u001b[39;00m \u001b[39mTypeError\u001b[39;00m(\u001b[39mf\u001b[39m\u001b[39m'\u001b[39m\u001b[39mnon-default argument \u001b[39m\u001b[39m{\u001b[39;00mf\u001b[39m.\u001b[39mname\u001b[39m!r}\u001b[39;00m\u001b[39m \u001b[39m\u001b[39m'\u001b[39m\n\u001b[0;32m    546\u001b[0m                             \u001b[39m'\u001b[39m\u001b[39mfollows default argument\u001b[39m\u001b[39m'\u001b[39m)\n\u001b[0;32m    548\u001b[0m \u001b[39mlocals\u001b[39m \u001b[39m=\u001b[39m {\u001b[39mf\u001b[39m\u001b[39m'\u001b[39m\u001b[39m_type_\u001b[39m\u001b[39m{\u001b[39;00mf\u001b[39m.\u001b[39mname\u001b[39m}\u001b[39;00m\u001b[39m'\u001b[39m: f\u001b[39m.\u001b[39mtype \u001b[39mfor\u001b[39;00m f \u001b[39min\u001b[39;00m fields}\n\u001b[0;32m    549\u001b[0m \u001b[39mlocals\u001b[39m\u001b[39m.\u001b[39mupdate({\n\u001b[0;32m    550\u001b[0m     \u001b[39m'\u001b[39m\u001b[39mMISSING\u001b[39m\u001b[39m'\u001b[39m: MISSING,\n\u001b[0;32m    551\u001b[0m     \u001b[39m'\u001b[39m\u001b[39m_HAS_DEFAULT_FACTORY\u001b[39m\u001b[39m'\u001b[39m: _HAS_DEFAULT_FACTORY,\n\u001b[0;32m    552\u001b[0m     \u001b[39m'\u001b[39m\u001b[39m__dataclass_builtins_object__\u001b[39m\u001b[39m'\u001b[39m: \u001b[39mobject\u001b[39m,\n\u001b[0;32m    553\u001b[0m })\n",
      "\u001b[1;31mTypeError\u001b[0m: non-default argument 'height' follows default argument"
     ]
    }
   ],
   "source": [
    "'''Python doesn't accept a non-default attribute after default in both \n",
    "class and functions, so this would throw an error'''\n",
    "\n",
    "@dataclass\n",
    "\n",
    "class Person:\n",
    "    name :str = 'Himanshu'\n",
    "    age:int =34\n",
    "    height :float \n",
    "    email :str = 'himanshuu@demo.com'\n"
   ]
  },
  {
   "cell_type": "code",
   "execution_count": 7,
   "metadata": {},
   "outputs": [
    {
     "data": {
      "text/plain": [
       "Person(name='Hitesh', age=34, height=1.67, email='hitesh@demo.com', house_coordinates=(56.78888, 90.56777))"
      ]
     },
     "execution_count": 7,
     "metadata": {},
     "output_type": "execute_result"
    }
   ],
   "source": [
    "from typing import Tuple \n",
    "@dataclass\n",
    "\n",
    "class Person():\n",
    "    name :str \n",
    "    age:int \n",
    "    height :float \n",
    "    email :str \n",
    "    house_coordinates :Tuple \n",
    "\n",
    "Person('Hitesh',34,1.67,'hitesh@demo.com',(56.78888,90.56777))\n",
    "\n"
   ]
  },
  {
   "cell_type": "code",
   "execution_count": 8,
   "metadata": {},
   "outputs": [],
   "source": [
    "'''we can create a data class to \n",
    "hold multiple instannces of the Person class '''\"Pandas Counting Rows methods.py\"\n",
    "\n",
    "from typing import List\n",
    "\n",
    "@dataclass\n",
    "class People():\n",
    "    people :List[Person]\n",
    "\n",
    "    "
   ]
  },
  {
   "cell_type": "code",
   "execution_count": 11,
   "metadata": {},
   "outputs": [
    {
     "name": "stdout",
     "output_type": "stream",
     "text": [
      "People(people=[Person(name='joe',\n",
      "                      age=34,\n",
      "                      height=1.56,\n",
      "                      email='joe@demo.com',\n",
      "                      house_coordinates=(67.7777, 45.7899)),\n",
      "               Person(name='mary',\n",
      "                      age=33,\n",
      "                      height=1.45,\n",
      "                      email='mary@demo.com',\n",
      "                      house_coordinates=(90.4566, 55.6787))])\n"
     ]
    }
   ],
   "source": [
    "from pprint import pprint\n",
    "joe = Person('joe',34,1.56,'joe@demo.com',(67.7777,45.78990))\n",
    "\n",
    "mary = Person('mary',33,1.45,'mary@demo.com',(90.4566,55.6787))\n",
    "\n",
    "pprint(People([joe,mary]))"
   ]
  },
  {
   "cell_type": "code",
   "execution_count": 12,
   "metadata": {},
   "outputs": [
    {
     "data": {
      "text/plain": [
       "Person(name = John,age= 45,45.6,email=john45@demo.com)"
      ]
     },
     "execution_count": 12,
     "metadata": {},
     "output_type": "execute_result"
    }
   ],
   "source": [
    "# data representation \n",
    "\n",
    "class Person:\n",
    "    def __init__(self,name,age,height,email):\n",
    "        self.name =name\n",
    "        self.age =age \n",
    "        self.height =height \n",
    "        self.email =email \n",
    "    \n",
    "    def __repr__(self):\n",
    "        return (f'{self.__class__.__name__}(name = {self.name},age= {self.age},{self.height},email={self.email})')\n",
    "\n",
    "\n",
    "person = Person('John',45,45.6,'john45@demo.com') \n",
    "person\n",
    "\n"
   ]
  },
  {
   "cell_type": "code",
   "execution_count": 13,
   "metadata": {},
   "outputs": [
    {
     "data": {
      "text/plain": [
       "Person(name='Kim', age=67, height=1.56, email='kim45@yahoo.com')"
      ]
     },
     "execution_count": 13,
     "metadata": {},
     "output_type": "execute_result"
    }
   ],
   "source": [
    "# using dataclass there is no need to write __repr__ \n",
    "\n",
    "\n",
    "@dataclass\n",
    "class Person():\n",
    "    name :str \n",
    "    age :int \n",
    "    height :float \n",
    "    email :str \n",
    "\n",
    "person = Person('Kim',67,1.56,'kim45@yahoo.com')\n",
    "\n",
    "person"
   ]
  },
  {
   "cell_type": "code",
   "execution_count": 15,
   "metadata": {},
   "outputs": [
    {
     "name": "stdout",
     "output_type": "stream",
     "text": [
      "False\n"
     ]
    }
   ],
   "source": [
    "# data class parameters \n",
    "\n",
    "'''order: enables sorting of the class as \n",
    "we'll see in the next section. The default is False. '''\n",
    "\n",
    "@dataclass(order=True)\n",
    "class Student():\n",
    "    name:str \n",
    "    age :int \n",
    "    height :float \n",
    "    email:str \n",
    "\n",
    "john = Student('john',23,1.45,'john45@gmail.com')\n",
    "joe = Student('joe',44,1.78,'joe34@demo.com')\n",
    "\n",
    "print(joe > john) # based on letter since john is greater than joe"
   ]
  },
  {
   "cell_type": "code",
   "execution_count": 16,
   "metadata": {},
   "outputs": [
    {
     "data": {
      "text/plain": [
       "Person(name='joe', age=33, height=1.78, email='joe@demo.com')"
      ]
     },
     "execution_count": 16,
     "metadata": {},
     "output_type": "execute_result"
    }
   ],
   "source": [
    "# working with immutable data classes \n",
    "\n",
    "@dataclass\n",
    "class Person():\n",
    "    name :str \n",
    "    age :int \n",
    "    height :float\n",
    "    email :str \n",
    "\n",
    "joe = Person('joe',24,1.78,'joe@demo.com')\n",
    "\n",
    "joe.age = 33 # here we can update/modify \n",
    "\n",
    "joe"
   ]
  },
  {
   "cell_type": "code",
   "execution_count": 17,
   "metadata": {},
   "outputs": [
    {
     "ename": "FrozenInstanceError",
     "evalue": "cannot assign to field 'name'",
     "output_type": "error",
     "traceback": [
      "\u001b[1;31m---------------------------------------------------------------------------\u001b[0m",
      "\u001b[1;31mFrozenInstanceError\u001b[0m                       Traceback (most recent call last)",
      "Cell \u001b[1;32mIn[17], line 10\u001b[0m\n\u001b[0;32m      6\u001b[0m     email:\u001b[39mstr\u001b[39m \n\u001b[0;32m      8\u001b[0m jack \u001b[39m=\u001b[39m Person(\u001b[39m'\u001b[39m\u001b[39mjack\u001b[39m\u001b[39m'\u001b[39m,\u001b[39m34\u001b[39m,\u001b[39m5.13\u001b[39m,\u001b[39m'\u001b[39m\u001b[39mjack@demo.com\u001b[39m\u001b[39m'\u001b[39m)\n\u001b[1;32m---> 10\u001b[0m jack\u001b[39m.\u001b[39;49mname \u001b[39m=\u001b[39m \u001b[39m'\u001b[39m\u001b[39mKarry\u001b[39m\u001b[39m'\u001b[39m\n\u001b[0;32m     12\u001b[0m jack\n",
      "File \u001b[1;32m<string>:4\u001b[0m, in \u001b[0;36m__setattr__\u001b[1;34m(self, name, value)\u001b[0m\n",
      "\u001b[1;31mFrozenInstanceError\u001b[0m: cannot assign to field 'name'"
     ]
    }
   ],
   "source": [
    "@dataclass(frozen=True)\n",
    "class Person():\n",
    "    name :str \n",
    "    age :int \n",
    "    height :float \n",
    "    email:str \n",
    "\n",
    "jack = Person('jack',34,5.13,'jack@demo.com')\n",
    "\n",
    "jack.name = 'Karry' # we can't update since it's frozen\n",
    "\n",
    "jack"
   ]
  },
  {
   "cell_type": "code",
   "execution_count": null,
   "metadata": {},
   "outputs": [],
   "source": []
  }
 ],
 "metadata": {
  "kernelspec": {
   "display_name": "Python 3",
   "language": "python",
   "name": "python3"
  },
  "language_info": {
   "codemirror_mode": {
    "name": "ipython",
    "version": 3
   },
   "file_extension": ".py",
   "mimetype": "text/x-python",
   "name": "python",
   "nbconvert_exporter": "python",
   "pygments_lexer": "ipython3",
   "version": "3.11.4"
  },
  "orig_nbformat": 4
 },
 "nbformat": 4,
 "nbformat_minor": 2
}
