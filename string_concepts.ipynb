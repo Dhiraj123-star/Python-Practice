{
 "cells": [
  {
   "cell_type": "code",
   "execution_count": 1,
   "metadata": {},
   "outputs": [
    {
     "name": "stdout",
     "output_type": "stream",
     "text": [
      "P\n",
      "th\n"
     ]
    }
   ],
   "source": [
    "# Python String Concepts \n",
    "\n",
    "# indexing and slicing \n",
    "\n",
    "sentence = \"Python is programming language\"\n",
    "first_character = sentence[0]\n",
    "extracted_word = sentence[2:4]\n",
    "\n",
    "print(first_character)\n",
    "print(extracted_word)"
   ]
  },
  {
   "cell_type": "code",
   "execution_count": 2,
   "metadata": {},
   "outputs": [
    {
     "data": {
      "text/plain": [
       "'lo,'"
      ]
     },
     "execution_count": 2,
     "metadata": {},
     "output_type": "execute_result"
    }
   ],
   "source": [
    "# string slicing \n",
    "\n",
    "text = \"Hello , Python!!\"\n",
    "\n",
    "substring = text[2:7:2]\n",
    "\n",
    "substring"
   ]
  },
  {
   "cell_type": "code",
   "execution_count": 4,
   "metadata": {},
   "outputs": [
    {
     "data": {
      "text/plain": [
       "'Ph oai'"
      ]
     },
     "execution_count": 4,
     "metadata": {},
     "output_type": "execute_result"
    }
   ],
   "source": [
    "pr_lang= \"Python Programming\"\n",
    "substring = pr_lang[0:16:3]\n",
    "\n",
    "substring"
   ]
  },
  {
   "cell_type": "code",
   "execution_count": 5,
   "metadata": {},
   "outputs": [
    {
     "data": {
      "text/plain": [
       "'ogrammin'"
      ]
     },
     "execution_count": 5,
     "metadata": {},
     "output_type": "execute_result"
    }
   ],
   "source": [
    "# negative indexing\n",
    "\n",
    "substring = pr_lang[-9:-1]\n",
    "\n",
    "substring"
   ]
  },
  {
   "cell_type": "code",
   "execution_count": 6,
   "metadata": {},
   "outputs": [
    {
     "data": {
      "text/plain": [
       "True"
      ]
     },
     "execution_count": 6,
     "metadata": {},
     "output_type": "execute_result"
    }
   ],
   "source": [
    "# string methods \n",
    "\n",
    "password = \"SecurePassword1289\"\n",
    "is_valid = password.isalnum()\n",
    "\n",
    "is_valid\n"
   ]
  },
  {
   "cell_type": "code",
   "execution_count": 7,
   "metadata": {},
   "outputs": [
    {
     "data": {
      "text/plain": [
       "'python'"
      ]
     },
     "execution_count": 7,
     "metadata": {},
     "output_type": "execute_result"
    }
   ],
   "source": [
    "# casefold() \n",
    "'''The casefold() method converts all characters of the string into lowercase letters and returns a new string.'''\n",
    "\n",
    "text = 'PyThoN'\n",
    "\n",
    "casefold_str = text.casefold()\n",
    "\n",
    "casefold_str\n"
   ]
  },
  {
   "cell_type": "code",
   "execution_count": 9,
   "metadata": {},
   "outputs": [
    {
     "name": "stdout",
     "output_type": "stream",
     "text": [
      "using casefold method:  gross\n",
      "using lower() method:  groß\n"
     ]
    }
   ],
   "source": [
    "# casefold () acts as aggressive lower() function\n",
    "'''The casefold() method is similar to the lower() method but it is more aggressive. \n",
    "This means the casefold() method converts more characters into lower case compared to lower()'''\n",
    "\n",
    "text = 'groß'\n",
    "\n",
    "print(\"using casefold method: \",text.casefold())\n",
    "\n",
    "print(\"using lower() method: \",text.lower())"
   ]
  },
  {
   "cell_type": "code",
   "execution_count": 10,
   "metadata": {},
   "outputs": [
    {
     "name": "stdout",
     "output_type": "stream",
     "text": [
      "True\n",
      "False\n"
     ]
    }
   ],
   "source": [
    "# Python String isprintable()\n",
    "\n",
    "'''The isprintable() method returns True if all characters in the string are printable. If not, it returns False.'''\n",
    "\n",
    "text = \"Python\"\n",
    "\n",
    "print(text.isprintable())\n",
    "\n",
    "text = \"Python is Programming language\\n\" # here contains non-printable character (\\n)\n",
    "\n",
    "print(text.isprintable())"
   ]
  },
  {
   "cell_type": "code",
   "execution_count": null,
   "metadata": {},
   "outputs": [],
   "source": []
  }
 ],
 "metadata": {
  "kernelspec": {
   "display_name": "Python 3",
   "language": "python",
   "name": "python3"
  },
  "language_info": {
   "codemirror_mode": {
    "name": "ipython",
    "version": 3
   },
   "file_extension": ".py",
   "mimetype": "text/x-python",
   "name": "python",
   "nbconvert_exporter": "python",
   "pygments_lexer": "ipython3",
   "version": "3.11.4"
  },
  "orig_nbformat": 4
 },
 "nbformat": 4,
 "nbformat_minor": 2
}
