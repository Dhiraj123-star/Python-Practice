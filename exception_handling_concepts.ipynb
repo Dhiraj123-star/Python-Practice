{
 "cells": [
  {
   "cell_type": "code",
   "execution_count": 2,
   "metadata": {},
   "outputs": [
    {
     "name": "stdout",
     "output_type": "stream",
     "text": [
      "inside the try block\n",
      "Inside the final block\n"
     ]
    }
   ],
   "source": [
    "# exception handling\n",
    "\n",
    "try: # try block is always followed by either except or finally block \n",
    "    print(\"inside the try block\")\n",
    "finally:\n",
    "    print(\"Inside the final block\")"
   ]
  },
  {
   "cell_type": "code",
   "execution_count": 6,
   "metadata": {},
   "outputs": [
    {
     "ename": "SyntaxError",
     "evalue": "expected 'except' or 'finally' block (7256205.py, line 4)",
     "output_type": "error",
     "traceback": [
      "\u001b[1;36m  Cell \u001b[1;32mIn[6], line 4\u001b[1;36m\u001b[0m\n\u001b[1;33m    else:\u001b[0m\n\u001b[1;37m    ^\u001b[0m\n\u001b[1;31mSyntaxError\u001b[0m\u001b[1;31m:\u001b[0m expected 'except' or 'finally' block\n"
     ]
    }
   ],
   "source": [
    "def divide_numbers(a,b):\n",
    "    try:\n",
    "        result =a/b\n",
    "    else: # after try either except or finally should be followed \n",
    "        print(\"Division Successful\")\n",
    "    finally :\n",
    "        print(\"This block is always executed\")\n",
    "\n",
    "divide_numbers(10,0)\n",
    "\n"
   ]
  },
  {
   "cell_type": "code",
   "execution_count": 7,
   "metadata": {},
   "outputs": [
    {
     "name": "stdout",
     "output_type": "stream",
     "text": [
      "Can't be divided by 0\n"
     ]
    }
   ],
   "source": [
    "try:\n",
    "    res = 67/0\n",
    "except ZeroDivisionError: # specified Error is always prioritised first \n",
    "    print(\"Can't be divided by 0\")\n",
    "except Exception as e :\n",
    "    print(f\"error occurred{e}\")\n",
    "\n"
   ]
  },
  {
   "cell_type": "code",
   "execution_count": 8,
   "metadata": {},
   "outputs": [
    {
     "name": "stdout",
     "output_type": "stream",
     "text": [
      "I'm exception block\n",
      "I'm finally block \n"
     ]
    }
   ],
   "source": [
    "try :\n",
    "    print([12,56,100][4])\n",
    "except Exception :\n",
    "    print('I\\'m exception block')\n",
    "except IndexError: # this code is unreachable because the exception is already handled before by Exception class\n",
    "    print('Index error')\n",
    "else :\n",
    "    print(\"I'm else block\")\n",
    "finally :\n",
    "    print(\"I'm finally block \")\n"
   ]
  },
  {
   "cell_type": "code",
   "execution_count": 12,
   "metadata": {},
   "outputs": [
    {
     "name": "stdout",
     "output_type": "stream",
     "text": [
      "This is finally block\n"
     ]
    },
    {
     "ename": "ZeroDivisionError",
     "evalue": "division by zero",
     "output_type": "error",
     "traceback": [
      "\u001b[1;31m---------------------------------------------------------------------------\u001b[0m",
      "\u001b[1;31mIndexError\u001b[0m                                Traceback (most recent call last)",
      "Cell \u001b[1;32mIn[12], line 2\u001b[0m\n\u001b[0;32m      1\u001b[0m \u001b[39mtry\u001b[39;00m :\n\u001b[1;32m----> 2\u001b[0m     \u001b[39mprint\u001b[39m([\u001b[39m12\u001b[39;49m,\u001b[39m67\u001b[39;49m,\u001b[39m100\u001b[39;49m][\u001b[39m9\u001b[39;49m])\n\u001b[0;32m      3\u001b[0m \u001b[39mexcept\u001b[39;00m \u001b[39mIndexError\u001b[39;00m:\n",
      "\u001b[1;31mIndexError\u001b[0m: list index out of range",
      "\nDuring handling of the above exception, another exception occurred:\n",
      "\u001b[1;31mZeroDivisionError\u001b[0m                         Traceback (most recent call last)",
      "Cell \u001b[1;32mIn[12], line 4\u001b[0m\n\u001b[0;32m      2\u001b[0m     \u001b[39mprint\u001b[39m([\u001b[39m12\u001b[39m,\u001b[39m67\u001b[39m,\u001b[39m100\u001b[39m][\u001b[39m9\u001b[39m])\n\u001b[0;32m      3\u001b[0m \u001b[39mexcept\u001b[39;00m \u001b[39mIndexError\u001b[39;00m:\n\u001b[1;32m----> 4\u001b[0m     num \u001b[39m=\u001b[39m \u001b[39m90\u001b[39;49m\u001b[39m/\u001b[39;49m\u001b[39m0\u001b[39;49m\n\u001b[0;32m      5\u001b[0m \u001b[39mexcept\u001b[39;00m \u001b[39mZeroDivisionError\u001b[39;00m \u001b[39mas\u001b[39;00m e:\n\u001b[0;32m      6\u001b[0m     \u001b[39mprint\u001b[39m(\u001b[39mf\u001b[39m\u001b[39m\"\u001b[39m\u001b[39mError occurred \u001b[39m\u001b[39m{\u001b[39;00me\u001b[39m}\u001b[39;00m\u001b[39m\"\u001b[39m)\n",
      "\u001b[1;31mZeroDivisionError\u001b[0m: division by zero"
     ]
    }
   ],
   "source": [
    "try :\n",
    "    print([12,67,100][9])\n",
    "except IndexError:\n",
    "    num = 90/0\n",
    "except ZeroDivisionError as e: # it becomes an exception chaining like situation, one exception is followed by another\n",
    "    print(f\"Error occurred {e}\")\n",
    "except Exception :\n",
    "    print('Exception Block')\n",
    "else :\n",
    "    print('Division successful')\n",
    "finally:\n",
    "    print('This is finally block')\n"
   ]
  },
  {
   "cell_type": "code",
   "execution_count": null,
   "metadata": {},
   "outputs": [],
   "source": []
  }
 ],
 "metadata": {
  "kernelspec": {
   "display_name": "Python 3",
   "language": "python",
   "name": "python3"
  },
  "language_info": {
   "codemirror_mode": {
    "name": "ipython",
    "version": 3
   },
   "file_extension": ".py",
   "mimetype": "text/x-python",
   "name": "python",
   "nbconvert_exporter": "python",
   "pygments_lexer": "ipython3",
   "version": "3.11.4"
  },
  "orig_nbformat": 4
 },
 "nbformat": 4,
 "nbformat_minor": 2
}
