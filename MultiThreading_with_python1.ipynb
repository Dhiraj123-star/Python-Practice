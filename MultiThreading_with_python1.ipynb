{
 "cells": [
  {
   "cell_type": "code",
   "execution_count": 4,
   "metadata": {},
   "outputs": [
    {
     "data": {
      "text/plain": [
       "[<Thread(Thread-9, stopped 139823841265408)>,\n",
       " <Thread(Thread-10, stopped 139823832872704)>,\n",
       " <Thread(Thread-11, stopped 139823824480000)>]"
      ]
     },
     "execution_count": 4,
     "metadata": {},
     "output_type": "execute_result"
    }
   ],
   "source": [
    "# multithreading example \n",
    "\n",
    "# web scrapping\n",
    "\n",
    "import threading\n",
    "import requests\n",
    "\n",
    "def scrape_website(url):\n",
    "    response = requests.get(url)\n",
    "\n",
    "\n",
    "urls = [\n",
    "    \"https://www.google.com\",\n",
    "    \"https://www.yahoo.com\",\n",
    "    \"https://www.firefox.com\"\n",
    "]\n",
    "\n",
    "\n",
    "# create and start a thread for each url \n",
    "\n",
    "threads =[]\n",
    "\n",
    "for url in urls:\n",
    "    thread =threading.Thread(target=scrape_website,args=(url,))\n",
    "    thread.start()\n",
    "    threads.append(thread)\n",
    "\n",
    "# wait for all threads to complete\n",
    "\n",
    "for thread in threads:\n",
    "    thread.join()\n",
    "\n",
    "threads"
   ]
  },
  {
   "cell_type": "code",
   "execution_count": 9,
   "metadata": {},
   "outputs": [
    {
     "name": "stdout",
     "output_type": "stream",
     "text": [
      "(820, 857)\n",
      "(3008, 2000)\n",
      "(225, 225)\n"
     ]
    },
    {
     "data": {
      "text/plain": [
       "[<Thread(Thread-21, stopped 139823832872704)>,\n",
       " <Thread(Thread-22, stopped 139823824480000)>,\n",
       " <Thread(Thread-23, stopped 139823832872704)>]"
      ]
     },
     "execution_count": 9,
     "metadata": {},
     "output_type": "execute_result"
    }
   ],
   "source": [
    "# image processing \n",
    "\n",
    "import threading \n",
    "\n",
    "from PIL import Image \n",
    "\n",
    "\n",
    "\n",
    "def process_image(image_path):\n",
    "    image = Image.open(image_path)\n",
    "    print(image.size)\n",
    "\n",
    "# list of images path \n",
    "\n",
    "image_paths = [\n",
    "    \"python.png\",\n",
    "    \"zebra.jpg\",\n",
    "    \"download.png\"\n",
    "]\n",
    "\n",
    "\n",
    "# create thread and start a thread \n",
    "threads=[]\n",
    "\n",
    "for image_path in image_paths :\n",
    "    thread= threading.Thread(target=process_image,args=(image_path,))\n",
    "    thread.start()\n",
    "    threads.append(thread)\n",
    "\n",
    "# wait for all threads to complete \n",
    "\n",
    "for thread in threads:\n",
    "    thread.join()\n",
    "\n",
    "\n",
    "threads"
   ]
  },
  {
   "cell_type": "code",
   "execution_count": 11,
   "metadata": {},
   "outputs": [
    {
     "name": "stdout",
     "output_type": "stream",
     "text": [
      "Image downloaded successfully!!\n"
     ]
    }
   ],
   "source": [
    "# image file download\n",
    "\n",
    "import requests\n",
    "\n",
    "url = \"https://facebook.com/favicon.ico\"\n",
    "\n",
    "r = requests.get(url,allow_redirects=True)\n",
    "\n",
    "with open('facebook.png','wb') as f:\n",
    "    f.write(r.content)\n",
    "\n",
    "print(\"Image downloaded successfully!!\")"
   ]
  },
  {
   "cell_type": "code",
   "execution_count": 30,
   "metadata": {},
   "outputs": [
    {
     "name": "stdout",
     "output_type": "stream",
     "text": [
      "Image downloaded successfully\n"
     ]
    }
   ],
   "source": [
    "url = \"https://google.com/favicon.ico\"\n",
    "\n",
    "r = requests.get(url,allow_redirects=True)\n",
    "\n",
    "with open('google.png','wb') as f:\n",
    "    f.write(r.content)\n",
    "\n",
    "print(\"Image downloaded successfully\")"
   ]
  },
  {
   "cell_type": "code",
   "execution_count": 31,
   "metadata": {},
   "outputs": [
    {
     "name": "stdout",
     "output_type": "stream",
     "text": [
      "Image downloaded successfully\n"
     ]
    }
   ],
   "source": [
    "url = \"https://python.org/favicon.ico\"\n",
    "\n",
    "r= requests.get(url,allow_redirects=True)\n",
    "\n",
    "with open('pythonLogo.png','wb') as f:\n",
    "    f.write(r.content)\n",
    "\n",
    "print(\"Image downloaded successfully\")"
   ]
  },
  {
   "cell_type": "code",
   "execution_count": 38,
   "metadata": {},
   "outputs": [
    {
     "data": {
      "text/plain": [
       "[<Thread(Thread-66, stopped 139823832872704)>,\n",
       " <Thread(Thread-67, stopped 139823448839936)>,\n",
       " <Thread(Thread-68, stopped 139823423661824)>]"
      ]
     },
     "execution_count": 38,
     "metadata": {},
     "output_type": "execute_result"
    }
   ],
   "source": [
    "# download multiple images from website using multithreading\n",
    "\n",
    "import threading\n",
    "import requests\n",
    "import os \n",
    "def download_file(url,destination,directory):\n",
    "    response = requests.get(url)\n",
    "    if not os.path.exists(directory):\n",
    "        os.makedirs(directory)\n",
    "    \n",
    "    with open(os.path.join(directory, destination),'wb')as file :\n",
    "        file.write(response.content)\n",
    "\n",
    "# list of file urls \n",
    "\n",
    "file_urls = [\n",
    "    \"https://facebook.com/favicon.ico\",\n",
    "    \"https://google.com/favicon.ico\",\n",
    "    \"https://python.org/favicon.ico\"\n",
    "   \n",
    "]\n",
    "\n",
    "# create thread and start thread for each file download\n",
    "\n",
    "threads =[]\n",
    "for url in file_urls:\n",
    "    file_name = url.split(\"/\")[-1]\n",
    "    thread = threading.Thread(target=download_file,args=(url,file_name+\"i\",\"/home/dayteam/Desktop/automation_Py/download_image/\"))\n",
    "    thread.start()\n",
    "    threads.append(thread)\n",
    "\n",
    "# wait for thread to complete \n",
    "\n",
    "for thread in threads:\n",
    "    thread.join()\n",
    "\n",
    "threads"
   ]
  },
  {
   "cell_type": "code",
   "execution_count": null,
   "metadata": {},
   "outputs": [],
   "source": []
  }
 ],
 "metadata": {
  "kernelspec": {
   "display_name": "Python 3",
   "language": "python",
   "name": "python3"
  },
  "language_info": {
   "codemirror_mode": {
    "name": "ipython",
    "version": 3
   },
   "file_extension": ".py",
   "mimetype": "text/x-python",
   "name": "python",
   "nbconvert_exporter": "python",
   "pygments_lexer": "ipython3",
   "version": "3.8.10"
  },
  "orig_nbformat": 4
 },
 "nbformat": 4,
 "nbformat_minor": 2
}
