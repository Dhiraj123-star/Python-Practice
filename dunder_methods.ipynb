{
 "cells": [
  {
   "cell_type": "code",
   "execution_count": 3,
   "metadata": {},
   "outputs": [
    {
     "name": "stdout",
     "output_type": "stream",
     "text": [
      "<__main__.Student object at 0x00000150F8A6E590>\n",
      "<class '__main__.Student'>\n"
     ]
    }
   ],
   "source": [
    "# __init__ method to initialise the class \n",
    "\n",
    "class Student:\n",
    "    def __init__(self,name,age):\n",
    "        self.name=name\n",
    "        self.age =age \n",
    "\n",
    "# create objects\n",
    "\n",
    "student1 = Student('Alice',23)\n",
    "student2 = Student('John',34)\n",
    "\n",
    "print(student1) # provide the reference of the class object \n",
    "print(type(student1))"
   ]
  },
  {
   "cell_type": "code",
   "execution_count": 6,
   "metadata": {},
   "outputs": [
    {
     "name": "stdout",
     "output_type": "stream",
     "text": [
      "The detail of first student --> Alice is 23 years old\n",
      "The detail of second student --> John is 34 years old\n"
     ]
    }
   ],
   "source": [
    "# __str__ for string represention\n",
    "\n",
    "class Student:\n",
    "    def __init__(self,name,age):\n",
    "        self.name=name\n",
    "        self.age =age \n",
    "\n",
    "    def __str__(self):\n",
    "        return f'{self.name} is {self.age} years old'\n",
    "\n",
    "student1 = Student('Alice',23)\n",
    "student2 = Student('John',34)\n",
    "\n",
    "print(f'The detail of first student --> {student1}')\n",
    "print(f'The detail of second student --> {student2}')"
   ]
  },
  {
   "cell_type": "code",
   "execution_count": 8,
   "metadata": {},
   "outputs": [
    {
     "data": {
      "text/plain": [
       "3"
      ]
     },
     "execution_count": 8,
     "metadata": {},
     "output_type": "execute_result"
    }
   ],
   "source": [
    "# len for length \n",
    "\n",
    "class Product:\n",
    "    def __init__(self):\n",
    "        self.items =[12,45,100]\n",
    "    \n",
    "    def __len__(self):\n",
    "        return len(self.items)\n",
    "\n",
    "cart = Product()\n",
    "len(cart)"
   ]
  },
  {
   "cell_type": "code",
   "execution_count": 9,
   "metadata": {},
   "outputs": [
    {
     "name": "stdout",
     "output_type": "stream",
     "text": [
      "True\n"
     ]
    }
   ],
   "source": [
    "# eq for check equality \n",
    "\n",
    "class Person:\n",
    "    def __init__(self,name,age):\n",
    "        self.name=name\n",
    "        self.age = age \n",
    "    \n",
    "    def __eq__(self,other):\n",
    "        return self.name==other.name and self.age ==other.age \n",
    "\n",
    "# creating objects \n",
    "\n",
    "person1 = Person('Alice',34)\n",
    "person2= Person('Alice',34)\n",
    "\n",
    "print(person1==person2) # returns True"
   ]
  },
  {
   "cell_type": "code",
   "execution_count": 10,
   "metadata": {},
   "outputs": [
    {
     "name": "stdout",
     "output_type": "stream",
     "text": [
      "False\n"
     ]
    }
   ],
   "source": [
    "person1 = Person('Joe',34)\n",
    "person2= Person('Alice',34)\n",
    "\n",
    "print(person1==person2) # returns False "
   ]
  },
  {
   "cell_type": "code",
   "execution_count": 15,
   "metadata": {},
   "outputs": [
    {
     "data": {
      "text/plain": [
       "'Alice'"
      ]
     },
     "execution_count": 15,
     "metadata": {},
     "output_type": "execute_result"
    }
   ],
   "source": [
    "# getitem for indexing \n",
    "\n",
    "class Students:\n",
    "    def __init__(self):\n",
    "        self.student =[]\n",
    "    \n",
    "    def add(self,name):\n",
    "        self.student.append(name)\n",
    "    \n",
    "    def __getitem__(self,index):\n",
    "        return self.student[index]\n",
    "\n",
    "# creating object \n",
    "\n",
    "std1 = Students()\n",
    "\n",
    "std1.add('Alice')\n",
    "\n",
    "std1[0]"
   ]
  },
  {
   "cell_type": "code",
   "execution_count": 17,
   "metadata": {},
   "outputs": [
    {
     "data": {
      "text/plain": [
       "16"
      ]
     },
     "execution_count": 17,
     "metadata": {},
     "output_type": "execute_result"
    }
   ],
   "source": [
    "# call makes objects callable like functions\n",
    "\n",
    "class Adder:\n",
    "    def __init__(self,x,y):\n",
    "        self.x,self.y =x,y\n",
    "    \n",
    "    def __call__(self):\n",
    "        return self.x+self.y \n",
    "\n",
    "# creating object \n",
    "\n",
    "a1 = Adder(12,4)\n",
    "\n",
    "a1()"
   ]
  },
  {
   "cell_type": "code",
   "execution_count": 18,
   "metadata": {},
   "outputs": [
    {
     "name": "stdout",
     "output_type": "stream",
     "text": [
      "0\n",
      "1\n",
      "4\n",
      "9\n",
      "16\n",
      "25\n",
      "36\n",
      "49\n",
      "64\n",
      "81\n",
      "100\n",
      "121\n"
     ]
    }
   ],
   "source": [
    "# iter to make iterable \n",
    "class Square:\n",
    "    def __init__(self,n):\n",
    "        self.n =n \n",
    "    def __iter__(self):\n",
    "        self.num=0\n",
    "        return self\n",
    "    \n",
    "    def __next__(self):\n",
    "        if self.num <self.n:\n",
    "            result = self.num**2\n",
    "            self.num+=1\n",
    "            return result\n",
    "        else :\n",
    "            raise StopIteration\n",
    "\n",
    "for i in Square(12):\n",
    "    print(i)\n",
    "\n"
   ]
  },
  {
   "cell_type": "code",
   "execution_count": 23,
   "metadata": {},
   "outputs": [
    {
     "name": "stdout",
     "output_type": "stream",
     "text": [
      "Vector(20 ,50)\n"
     ]
    }
   ],
   "source": [
    "# add for '+' operator overloading\n",
    "\n",
    "class Vector :\n",
    "    def __init__(self,a,b):\n",
    "        self.a =a \n",
    "        self.b= b\n",
    "    \n",
    "    def __add__(self,other):\n",
    "        return Vector(self.a + other.a,self.b+ other.b)\n",
    "\n",
    "    def __str__(self):\n",
    "\n",
    "        return f'Vector({self.a} ,{self.b})' \n",
    "# create objects \n",
    "\n",
    "v1 = Vector(12,34)\n",
    "v2 = Vector(8,16)\n",
    "\n",
    "v3 = v1+v2\n",
    "\n",
    "print(v3)"
   ]
  },
  {
   "cell_type": "code",
   "execution_count": 24,
   "metadata": {},
   "outputs": [
    {
     "data": {
      "text/plain": [
       "True"
      ]
     },
     "execution_count": 24,
     "metadata": {},
     "output_type": "execute_result"
    }
   ],
   "source": [
    "class Employee:\n",
    "  def __init__(self, name, age):\n",
    "    self.name = name\n",
    "    self.age = age\n",
    "    \n",
    "  def __lt__(self, other):\n",
    "    return self.age < other.age\n",
    "  \n",
    "e1 = Employee(\"John\", 25)\n",
    "e2 = Employee(\"Jill\", 30)\n",
    "e1 < e2 # Returns True"
   ]
  },
  {
   "cell_type": "code",
   "execution_count": 26,
   "metadata": {},
   "outputs": [
    {
     "data": {
      "text/plain": [
       "True"
      ]
     },
     "execution_count": 26,
     "metadata": {},
     "output_type": "execute_result"
    }
   ],
   "source": [
    "class Employee:\n",
    "  def __init__(self, name, age):\n",
    "    self.name = name\n",
    "    self.age = age\n",
    "    \n",
    "  def __gt__(self, other):\n",
    "    return self.age > other.age\n",
    "  \n",
    "e1 = Employee(\"John\", 15)\n",
    "e2 = Employee(\"Jill\", 30)\n",
    "e1 < e2 # Returns True"
   ]
  },
  {
   "cell_type": "code",
   "execution_count": null,
   "metadata": {},
   "outputs": [],
   "source": []
  }
 ],
 "metadata": {
  "kernelspec": {
   "display_name": "Python 3",
   "language": "python",
   "name": "python3"
  },
  "language_info": {
   "codemirror_mode": {
    "name": "ipython",
    "version": 3
   },
   "file_extension": ".py",
   "mimetype": "text/x-python",
   "name": "python",
   "nbconvert_exporter": "python",
   "pygments_lexer": "ipython3",
   "version": "3.11.4"
  },
  "orig_nbformat": 4
 },
 "nbformat": 4,
 "nbformat_minor": 2
}
