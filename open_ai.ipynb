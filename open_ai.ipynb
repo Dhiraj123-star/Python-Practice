{
 "cells": [
  {
   "cell_type": "code",
   "execution_count": 4,
   "metadata": {},
   "outputs": [
    {
     "name": "stdout",
     "output_type": "stream",
     "text": [
      "('\\n'\n",
      " '\\n'\n",
      " 'Tuples are immutable sequences of elements. They are similar to lists, but '\n",
      " 'they are enclosed in parentheses instead of square brackets. Tuples are '\n",
      " \"commonly used to store related pieces of information, such as a person's \"\n",
      " 'name, address, and phone number.\\n'\n",
      " '\\n'\n",
      " 'Example:\\n'\n",
      " '\\n'\n",
      " \"person_tuple = ('John', 'Doe', '123 Main Street', '555-555-5555')\")\n"
     ]
    }
   ],
   "source": [
    "import openai\n",
    "from pprint import  pprint\n",
    "openai.api_key = \"\" # replace with your api key\n",
    "\n",
    "prompt = input(\"Enter your prompt: \")\n",
    "\n",
    "completion = openai.Completion.create(\n",
    "    engine = 'text-davinci-003',\n",
    "    prompt= prompt,\n",
    "    max_tokens = 1024,\n",
    "    stop=None,\n",
    "    temperature = 0.5\n",
    "\n",
    ")\n",
    "\n",
    "response = completion.choices[0].text \n",
    "\n",
    "pprint(response )"
   ]
  }
 ],
 "metadata": {
  "kernelspec": {
   "display_name": "Python 3",
   "language": "python",
   "name": "python3"
  },
  "language_info": {
   "codemirror_mode": {
    "name": "ipython",
    "version": 3
   },
   "file_extension": ".py",
   "mimetype": "text/x-python",
   "name": "python",
   "nbconvert_exporter": "python",
   "pygments_lexer": "ipython3",
   "version": "3.11.4"
  },
  "orig_nbformat": 4
 },
 "nbformat": 4,
 "nbformat_minor": 2
}
