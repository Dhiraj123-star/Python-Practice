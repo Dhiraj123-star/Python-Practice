{
 "cells": [
  {
   "cell_type": "code",
   "execution_count": 8,
   "metadata": {},
   "outputs": [
    {
     "name": "stdout",
     "output_type": "stream",
     "text": [
      "[144, 2025, 1089, 7744]\n"
     ]
    }
   ],
   "source": [
    "# python tips and tricks \n",
    "\n",
    "# map \n",
    "# apply an function to each value of an iterable objects(list,tuple,sets)\n",
    "\n",
    "def square(x):\n",
    "    return x**2 \n",
    "\n",
    "input_list = [12,45,33,88]\n",
    "\n",
    "# without lambda function\n",
    "\n",
    "result = map(square,input_list)\n",
    "\n",
    "print(list(result))\n"
   ]
  },
  {
   "cell_type": "code",
   "execution_count": 9,
   "metadata": {},
   "outputs": [
    {
     "data": {
      "text/plain": [
       "[144, 2025, 1089, 7744]"
      ]
     },
     "execution_count": 9,
     "metadata": {},
     "output_type": "execute_result"
    }
   ],
   "source": [
    "# with lambda \n",
    "\n",
    "result = map(lambda x:x**2 , input_list)\n",
    "\n",
    "list(result)"
   ]
  },
  {
   "cell_type": "code",
   "execution_count": 10,
   "metadata": {},
   "outputs": [
    {
     "data": {
      "text/plain": [
       "[12, 10]"
      ]
     },
     "execution_count": 10,
     "metadata": {},
     "output_type": "execute_result"
    }
   ],
   "source": [
    "# filter \n",
    "# filter out values from an iterable objects(list,tuples,sets,dicts)\n",
    "\n",
    "def less_than_20(x):\n",
    "    if x<20:\n",
    "        return x\n",
    "\n",
    "\n",
    "input_list= [23,55,12,33,10]\n",
    "\n",
    "# without lambda \n",
    "\n",
    "list(filter(less_than_20,input_list))"
   ]
  },
  {
   "cell_type": "code",
   "execution_count": 11,
   "metadata": {},
   "outputs": [
    {
     "data": {
      "text/plain": [
       "[12, 10]"
      ]
     },
     "execution_count": 11,
     "metadata": {},
     "output_type": "execute_result"
    }
   ],
   "source": [
    "# with lambda \n",
    "\n",
    "list(filter(lambda x:x<20, input_list))"
   ]
  },
  {
   "cell_type": "code",
   "execution_count": 13,
   "metadata": {},
   "outputs": [
    {
     "data": {
      "text/plain": [
       "-40"
      ]
     },
     "execution_count": 13,
     "metadata": {},
     "output_type": "execute_result"
    }
   ],
   "source": [
    "# reduce \n",
    "\n",
    "# applied iteratively to all the values of the iterable object and returns only one value \n",
    "\n",
    "def subtraction(x,y):\n",
    "    return y-x\n",
    "\n",
    "\n",
    "from functools import reduce\n",
    "\n",
    "\n",
    "input_list = [12,56,99,15]\n",
    "\n",
    "# without lambda \n",
    "\n",
    "reduce(subtraction,input_list)"
   ]
  },
  {
   "cell_type": "code",
   "execution_count": 14,
   "metadata": {},
   "outputs": [
    {
     "data": {
      "text/plain": [
       "-40"
      ]
     },
     "execution_count": 14,
     "metadata": {},
     "output_type": "execute_result"
    }
   ],
   "source": [
    "# with lambda \n",
    "\n",
    "reduce(lambda x,y:y-x,input_list)"
   ]
  },
  {
   "cell_type": "code",
   "execution_count": 2,
   "metadata": {},
   "outputs": [
    {
     "name": "stderr",
     "output_type": "stream",
     "text": [
      "<ipython-input-2-d45c2cad2a8c>:8: DeprecationWarning: executable_path has been deprecated, please pass in a Service object\n",
      "  driver = webdriver.Chrome(executable_path=driverPath)\n"
     ]
    },
    {
     "name": "stdout",
     "output_type": "stream",
     "text": [
      "Please Login the the website\n",
      "Press Enter after successful login ...\n",
      "New Cookies saved successfully\n",
      "Finished ...\n"
     ]
    }
   ],
   "source": [
    "# Import Modules\n",
    "from selenium import webdriver\n",
    "from webdriver_manager.chrome import ChromeDriverManager\n",
    "import json,os\n",
    "\n",
    "# Open Chrome Browser\n",
    "driverPath = ChromeDriverManager().install()\n",
    "driver = webdriver.Chrome(executable_path=driverPath)\n",
    "\n",
    "\n",
    "def saveCookies(driver):\n",
    "    # Get and store cookies after login\n",
    "    cookies = driver.get_cookies()\n",
    "\n",
    "    # Store cookies in a file\n",
    "    with open('cookies.json', 'w') as file:\n",
    "        json.dump(cookies, file)\n",
    "    print('New Cookies saved successfully')\n",
    "\n",
    "\n",
    "def loadCookies():\n",
    "    # Check if cookies file exists\n",
    "    if 'cookies.json' in os.listdir():\n",
    "\n",
    "        # Load cookies to a vaiable from a file\n",
    "        with open('cookies.json', 'r') as file:\n",
    "            cookies = json.load(file)\n",
    "\n",
    "        # Set stored cookies to maintain the session\n",
    "        for cookie in cookies:\n",
    "            driver.add_cookie(cookie)\n",
    "    else:\n",
    "        print('No cookies file found')\n",
    "    \n",
    "    driver.refresh() # Refresh Browser after login\n",
    "\n",
    "\n",
    "\n",
    "\n",
    "loginURL = 'https://realpython.com/account/login/'\n",
    "driver.get(loginURL)\n",
    "\n",
    "# Load old session into the browser\n",
    "loadCookies()\n",
    "\n",
    "\n",
    "# sometime session expired or something wrong with session\n",
    "# so every time we need to check after visit the login page\n",
    "# if it's redirect to the Homepage -> we can use old session\n",
    "# if it's not redirect to Homepage and stayed on login page -> we need to create new session and save new cookies\n",
    "\n",
    "\n",
    "\n",
    "# I'm checking with if condition. if 'login' word is there in current browser URL or not\n",
    "if 'login' in driver.current_url:\n",
    "    # Ask for login Manually\n",
    "    # Demo Account Login  User: xp4224314@gmail.com   :: Password: FN2jY4vbgPx9Uk\n",
    "    print('Please Login the the website')\n",
    "    print('Press Enter after successful login ...')\n",
    "    input('>: ')\n",
    "\n",
    "    # After successful login save new session cookies ot json file\n",
    "    saveCookies(driver)\n",
    "\n",
    "else:\n",
    "    print('Previous session loaded')\n",
    "    \n",
    "\n",
    "\n",
    "\n",
    "'''\n",
    "                Your Code here\n",
    "'''\n",
    "\n",
    "\n",
    "# close the browser\n",
    "driver.quit()\n",
    "\n",
    "\n",
    "print('Finished ...')"
   ]
  },
  {
   "cell_type": "code",
   "execution_count": 8,
   "metadata": {},
   "outputs": [
    {
     "data": {
      "text/plain": [
       "[('lambda', 1), ('functions', 2), ('are', 3), ('simple', 4)]"
      ]
     },
     "execution_count": 8,
     "metadata": {},
     "output_type": "execute_result"
    }
   ],
   "source": [
    "# sort the tuple with string and numbers \n",
    "\n",
    "my_list =[(\"are\",3),(\"lambda\",1),(\"simple\",4),(\"functions\",2)]\n",
    "\n",
    "sorted_list = sorted(my_list,key=lambda x : x[1])\n",
    "\n",
    "sorted_list"
   ]
  },
  {
   "cell_type": "code",
   "execution_count": 5,
   "metadata": {},
   "outputs": [],
   "source": [
    "# lambda function is concise\n",
    "\n",
    "my_list = [12,5,10,20]\n",
    "\n",
    "def cube_square_sum(x):\n",
    "    return x**3+x**2"
   ]
  },
  {
   "cell_type": "code",
   "execution_count": 6,
   "metadata": {},
   "outputs": [
    {
     "data": {
      "text/plain": [
       "[1872, 150, 1100, 8400]"
      ]
     },
     "execution_count": 6,
     "metadata": {},
     "output_type": "execute_result"
    }
   ],
   "source": [
    "result1 = list(map(cube_square_sum,my_list))\n",
    "\n",
    "result1"
   ]
  },
  {
   "cell_type": "code",
   "execution_count": 7,
   "metadata": {},
   "outputs": [
    {
     "data": {
      "text/plain": [
       "[1872, 150, 1100, 8400]"
      ]
     },
     "execution_count": 7,
     "metadata": {},
     "output_type": "execute_result"
    }
   ],
   "source": [
    "result2 = list(map(lambda x:x**3+x**2,my_list)) # using lambda \n",
    "\n",
    "result2"
   ]
  },
  {
   "cell_type": "code",
   "execution_count": 9,
   "metadata": {},
   "outputs": [
    {
     "data": {
      "text/plain": [
       "[1, 4, 5, 12, 19]"
      ]
     },
     "execution_count": 9,
     "metadata": {},
     "output_type": "execute_result"
    }
   ],
   "source": [
    "# sorting the data structures in Python\n",
    "\n",
    "# list \n",
    "\n",
    "numbers = [12,4,5,1,19]\n",
    "\n",
    "sorted_num = sorted(numbers)\n",
    "\n",
    "sorted_num"
   ]
  },
  {
   "cell_type": "code",
   "execution_count": 12,
   "metadata": {},
   "outputs": [
    {
     "data": {
      "text/plain": [
       "['Go', 'Java', 'Python', 'Rust']"
      ]
     },
     "execution_count": 12,
     "metadata": {},
     "output_type": "execute_result"
    }
   ],
   "source": [
    "# in-place sorting with sort()\n",
    "\n",
    "prog_langs = [\"Python\",\"Java\",\"Rust\",\"Go\"]\n",
    "\n",
    "prog_langs.sort()\n",
    "\n",
    "prog_langs"
   ]
  },
  {
   "cell_type": "code",
   "execution_count": 13,
   "metadata": {},
   "outputs": [
    {
     "data": {
      "text/plain": [
       "['Go', 'Java', 'Rust', 'Python']"
      ]
     },
     "execution_count": 13,
     "metadata": {},
     "output_type": "execute_result"
    }
   ],
   "source": [
    "# custom sorting with key parameter \n",
    "\n",
    "prog_langs.sort(key=len)\n",
    "\n",
    "prog_langs"
   ]
  },
  {
   "cell_type": "code",
   "execution_count": 17,
   "metadata": {},
   "outputs": [
    {
     "name": "stdout",
     "output_type": "stream",
     "text": [
      "John\n",
      "Alice\n",
      "Jane\n"
     ]
    }
   ],
   "source": [
    "# sorting the list of objects\n",
    "\n",
    "class Person:\n",
    "    def __init__(self,name,age) :\n",
    "        self.name=name\n",
    "        self.age =age\n",
    "\n",
    "\n",
    "people = [Person('John',25),Person('Jane',44),Person('Alice',33)]\n",
    "\n",
    "sorted_people= sorted(people,key=lambda x:x.age)  # sort on the age key parameter \n",
    "\n",
    "for p in sorted_people: print(p.name)"
   ]
  },
  {
   "cell_type": "code",
   "execution_count": 18,
   "metadata": {},
   "outputs": [
    {
     "data": {
      "text/plain": [
       "[2, 6, 9, 10, 12]"
      ]
     },
     "execution_count": 18,
     "metadata": {},
     "output_type": "execute_result"
    }
   ],
   "source": [
    "# sorting in tuples\n",
    "\n",
    "tup_nums = (12,6,9,10,2)\n",
    "\n",
    "sorted_tup =sorted(tup_nums)\n",
    "\n",
    "sorted_tup"
   ]
  },
  {
   "cell_type": "code",
   "execution_count": 19,
   "metadata": {},
   "outputs": [
    {
     "data": {
      "text/plain": [
       "('C', 'Java', 'Julia', 'Python')"
      ]
     },
     "execution_count": 19,
     "metadata": {},
     "output_type": "execute_result"
    }
   ],
   "source": [
    "# sorted with key parameter\n",
    "\n",
    "tup_data = (\"Python\",\"Java\",\"C\",\"Julia\")\n",
    "\n",
    "sorted_tup_words = tuple(sorted(tup_data,key=len))\n",
    "\n",
    "sorted_tup_words"
   ]
  },
  {
   "cell_type": "code",
   "execution_count": 20,
   "metadata": {},
   "outputs": [
    {
     "data": {
      "text/plain": [
       "[1, 2, 5, 6, 7, 10]"
      ]
     },
     "execution_count": 20,
     "metadata": {},
     "output_type": "execute_result"
    }
   ],
   "source": [
    "# sorting in sets \n",
    "\n",
    "set_numbers = {2,5,7,1,10,6}\n",
    "\n",
    "sorted_set =sorted(set_numbers)\n",
    "\n",
    "sorted_set"
   ]
  },
  {
   "cell_type": "code",
   "execution_count": 21,
   "metadata": {},
   "outputs": [
    {
     "name": "stdout",
     "output_type": "stream",
     "text": [
      "Java 1\n",
      "Julia 4\n",
      "Mojo 3\n",
      "Python 2\n"
     ]
    }
   ],
   "source": [
    "# sorting in dictionaries \n",
    "\n",
    "dictionary = {'Python':2,\"Java\":1,\"Mojo\":3,\"Julia\":4}\n",
    "\n",
    "sorted_keys = sorted(dictionary.keys()) # sorting by keys\n",
    "\n",
    "for key in sorted_keys:\n",
    "    print(key,dictionary[key])"
   ]
  },
  {
   "cell_type": "code",
   "execution_count": 23,
   "metadata": {},
   "outputs": [
    {
     "name": "stdout",
     "output_type": "stream",
     "text": [
      "Java 1\n",
      "Python 2\n",
      "Mojo 3\n",
      "Julia 4\n"
     ]
    }
   ],
   "source": [
    "sorted_items = sorted(dictionary.items(),key=lambda x:x[1]) # sorted by values \n",
    "\n",
    "for key,value in sorted_items:\n",
    "    print(key,value)"
   ]
  },
  {
   "cell_type": "code",
   "execution_count": 24,
   "metadata": {},
   "outputs": [
    {
     "data": {
      "text/plain": [
       "[1, 4, 5, 6, 10]"
      ]
     },
     "execution_count": 24,
     "metadata": {},
     "output_type": "execute_result"
    }
   ],
   "source": [
    "# sorting in array\n",
    "\n",
    "import array\n",
    "\n",
    "numbers = array.array('i',[4,5,6,1,10])\n",
    "\n",
    "sorted_nums = sorted(numbers) # with sorted() method \n",
    "\n",
    "sorted_nums"
   ]
  },
  {
   "cell_type": "code",
   "execution_count": 29,
   "metadata": {},
   "outputs": [
    {
     "data": {
      "text/html": [
       "<div>\n",
       "<style scoped>\n",
       "    .dataframe tbody tr th:only-of-type {\n",
       "        vertical-align: middle;\n",
       "    }\n",
       "\n",
       "    .dataframe tbody tr th {\n",
       "        vertical-align: top;\n",
       "    }\n",
       "\n",
       "    .dataframe thead th {\n",
       "        text-align: right;\n",
       "    }\n",
       "</style>\n",
       "<table border=\"1\" class=\"dataframe\">\n",
       "  <thead>\n",
       "    <tr style=\"text-align: right;\">\n",
       "      <th></th>\n",
       "      <th>Name</th>\n",
       "      <th>Age</th>\n",
       "      <th>Salary</th>\n",
       "    </tr>\n",
       "  </thead>\n",
       "  <tbody>\n",
       "    <tr>\n",
       "      <th>1</th>\n",
       "      <td>Bob</td>\n",
       "      <td>30</td>\n",
       "      <td>60000</td>\n",
       "    </tr>\n",
       "    <tr>\n",
       "      <th>0</th>\n",
       "      <td>Alice</td>\n",
       "      <td>25</td>\n",
       "      <td>50000</td>\n",
       "    </tr>\n",
       "    <tr>\n",
       "      <th>2</th>\n",
       "      <td>Charlie</td>\n",
       "      <td>22</td>\n",
       "      <td>45000</td>\n",
       "    </tr>\n",
       "  </tbody>\n",
       "</table>\n",
       "</div>"
      ],
      "text/plain": [
       "      Name  Age  Salary\n",
       "1      Bob   30   60000\n",
       "0    Alice   25   50000\n",
       "2  Charlie   22   45000"
      ]
     },
     "execution_count": 29,
     "metadata": {},
     "output_type": "execute_result"
    }
   ],
   "source": [
    "# sorting in Pandas \n",
    "# sorting by columns values \n",
    "import pandas as pd\n",
    "\n",
    "data = {\n",
    "    'Name': ['Alice', 'Bob', 'Charlie'],\n",
    "        'Age': [25, 30, 22],\n",
    "        'Salary': [50000, 60000, 45000]\n",
    "}\n",
    "\n",
    "df = pd.DataFrame(data)\n",
    "\n",
    "sorted_df = df.sort_values('Salary',ascending=False)\n",
    "\n",
    "sorted_df"
   ]
  },
  {
   "cell_type": "code",
   "execution_count": 31,
   "metadata": {},
   "outputs": [
    {
     "data": {
      "text/html": [
       "<div>\n",
       "<style scoped>\n",
       "    .dataframe tbody tr th:only-of-type {\n",
       "        vertical-align: middle;\n",
       "    }\n",
       "\n",
       "    .dataframe tbody tr th {\n",
       "        vertical-align: top;\n",
       "    }\n",
       "\n",
       "    .dataframe thead th {\n",
       "        text-align: right;\n",
       "    }\n",
       "</style>\n",
       "<table border=\"1\" class=\"dataframe\">\n",
       "  <thead>\n",
       "    <tr style=\"text-align: right;\">\n",
       "      <th></th>\n",
       "      <th>Name</th>\n",
       "      <th>Age</th>\n",
       "      <th>Salary</th>\n",
       "    </tr>\n",
       "  </thead>\n",
       "  <tbody>\n",
       "    <tr>\n",
       "      <th>2</th>\n",
       "      <td>Charlie</td>\n",
       "      <td>22</td>\n",
       "      <td>45000</td>\n",
       "    </tr>\n",
       "    <tr>\n",
       "      <th>0</th>\n",
       "      <td>Alice</td>\n",
       "      <td>25</td>\n",
       "      <td>50000</td>\n",
       "    </tr>\n",
       "    <tr>\n",
       "      <th>1</th>\n",
       "      <td>Bob</td>\n",
       "      <td>30</td>\n",
       "      <td>60000</td>\n",
       "    </tr>\n",
       "  </tbody>\n",
       "</table>\n",
       "</div>"
      ],
      "text/plain": [
       "      Name  Age  Salary\n",
       "2  Charlie   22   45000\n",
       "0    Alice   25   50000\n",
       "1      Bob   30   60000"
      ]
     },
     "execution_count": 31,
     "metadata": {},
     "output_type": "execute_result"
    }
   ],
   "source": [
    "# sorting by multiple columns \n",
    "\n",
    "sorted_df = df.sort_values(['Age','Salary'], ascending=[True,False])\n",
    "\n",
    "sorted_df"
   ]
  },
  {
   "cell_type": "code",
   "execution_count": 32,
   "metadata": {},
   "outputs": [
    {
     "data": {
      "text/plain": [
       "[1, 3, 5, 12, 19]"
      ]
     },
     "execution_count": 32,
     "metadata": {},
     "output_type": "execute_result"
    }
   ],
   "source": [
    "# sorting series\n",
    "\n",
    "s = pd.Series([12,5,3,1,19])\n",
    "\n",
    "sorted_s = sorted(s)\n",
    "\n",
    "sorted_s"
   ]
  },
  {
   "cell_type": "code",
   "execution_count": 34,
   "metadata": {},
   "outputs": [
    {
     "data": {
      "text/plain": [
       "4    19\n",
       "3     1\n",
       "2     3\n",
       "1     5\n",
       "0    12\n",
       "dtype: int64"
      ]
     },
     "execution_count": 34,
     "metadata": {},
     "output_type": "execute_result"
    }
   ],
   "source": [
    "# sorted by index \n",
    "\n",
    "sorted_s = s.sort_index(ascending=False)\n",
    "\n",
    "sorted_s"
   ]
  },
  {
   "cell_type": "code",
   "execution_count": 39,
   "metadata": {},
   "outputs": [
    {
     "name": "stdout",
     "output_type": "stream",
     "text": [
      "Point 2 , 3\n",
      "False\n",
      "Point 1 , 8\n",
      "5\n",
      "6\n"
     ]
    }
   ],
   "source": [
    "# magic methods in Python\n",
    "\n",
    "class Point :\n",
    "\n",
    "    def __init__(self,x,y):\n",
    "        self.x=x\n",
    "        self.y =y\n",
    "    \n",
    "    def __str__(self) :\n",
    "\n",
    "        return f\"Point {self.x} , {self.y}\"\n",
    "\n",
    "    def __eq__(self,other):\n",
    "        if isinstance(other,Point):\n",
    "            return self.x==other.x and self.y ==other.y\n",
    "\n",
    "        return False\n",
    "\n",
    "    def __add__(self,other):\n",
    "        if isinstance(other,Point):\n",
    "            return Point(self.x+other.x,self.y +other.y) \n",
    "        raise TypeError(\"Unsupported operand type for +\")\n",
    "\n",
    "    def __len__(self):\n",
    "        return  abs(self.x) + abs(self.y)\n",
    "\n",
    "\n",
    "# create two Point Objects \n",
    "\n",
    "p1 = Point(2,3)\n",
    "p2 = Point(-1,5)\n",
    "\n",
    "print(p1)\n",
    "\n",
    "print(p1==p2)\n",
    "\n",
    "p3 =p1+p2\n",
    "\n",
    "print(p3)\n",
    "\n",
    "\n",
    "print(len(p1))\n",
    "print(len(p2))"
   ]
  },
  {
   "cell_type": "code",
   "execution_count": 40,
   "metadata": {},
   "outputs": [],
   "source": [
    "# scrapped data from website using beautifulsoup and storing into pandas DataFrame\n",
    "\n",
    "\n",
    "import requests\n",
    "\n",
    "from bs4 import BeautifulSoup\n",
    "\n",
    "url = \"https://www.worldometers.info/coronavirus/countries-where-coronavirus-has-spread/\"\n",
    "\n",
    "page = requests.get(url)\n",
    "\n",
    "soup = BeautifulSoup(page.text,'html.parser')\n",
    "\n",
    "data=[]\n",
    "\n",
    "data_iterator = iter(soup.find_all('td'))\n",
    "\n",
    "\n",
    "while True :\n",
    "    try:\n",
    "        country = next(data_iterator).text\n",
    "        confirmed = next(data_iterator).text\n",
    "        deaths = next(data_iterator).text\n",
    "        continent = next(data_iterator).text\n",
    "\n",
    "        data.append((\n",
    "            country,\n",
    "            (confirmed),\n",
    "            (deaths),\n",
    "            continent\n",
    "         ) )\n",
    "        \n",
    "    except StopIteration:\n",
    "        break\n",
    "\n",
    "\n",
    "data.sort(key=lambda row :row[1],reverse=True)"
   ]
  },
  {
   "cell_type": "code",
   "execution_count": 46,
   "metadata": {},
   "outputs": [
    {
     "data": {
      "text/html": [
       "<div>\n",
       "<style scoped>\n",
       "    .dataframe tbody tr th:only-of-type {\n",
       "        vertical-align: middle;\n",
       "    }\n",
       "\n",
       "    .dataframe tbody tr th {\n",
       "        vertical-align: top;\n",
       "    }\n",
       "\n",
       "    .dataframe thead th {\n",
       "        text-align: right;\n",
       "    }\n",
       "</style>\n",
       "<table border=\"1\" class=\"dataframe\">\n",
       "  <thead>\n",
       "    <tr style=\"text-align: right;\">\n",
       "      <th></th>\n",
       "      <th>Country</th>\n",
       "      <th>Confirmed</th>\n",
       "      <th>Deaths</th>\n",
       "      <th>Continent</th>\n",
       "    </tr>\n",
       "  </thead>\n",
       "  <tbody>\n",
       "    <tr>\n",
       "      <th>0</th>\n",
       "      <td>Belarus</td>\n",
       "      <td>994,037</td>\n",
       "      <td>7,118</td>\n",
       "      <td>Europe</td>\n",
       "    </tr>\n",
       "    <tr>\n",
       "      <th>1</th>\n",
       "      <td>French Guiana</td>\n",
       "      <td>98,041</td>\n",
       "      <td>420</td>\n",
       "      <td>South America</td>\n",
       "    </tr>\n",
       "    <tr>\n",
       "      <th>2</th>\n",
       "      <td>Latvia</td>\n",
       "      <td>977,891</td>\n",
       "      <td>6,344</td>\n",
       "      <td>Europe</td>\n",
       "    </tr>\n",
       "    <tr>\n",
       "      <th>3</th>\n",
       "      <td>DR Congo</td>\n",
       "      <td>96,652</td>\n",
       "      <td>1,467</td>\n",
       "      <td>Africa</td>\n",
       "    </tr>\n",
       "    <tr>\n",
       "      <th>4</th>\n",
       "      <td>Niger</td>\n",
       "      <td>9,931</td>\n",
       "      <td>312</td>\n",
       "      <td>Africa</td>\n",
       "    </tr>\n",
       "    <tr>\n",
       "      <th>5</th>\n",
       "      <td>St. Vincent &amp; Grenadines</td>\n",
       "      <td>9,631</td>\n",
       "      <td>124</td>\n",
       "      <td>North America</td>\n",
       "    </tr>\n",
       "    <tr>\n",
       "      <th>6</th>\n",
       "      <td>Guinea-Bissau</td>\n",
       "      <td>9,614</td>\n",
       "      <td>177</td>\n",
       "      <td>Africa</td>\n",
       "    </tr>\n",
       "    <tr>\n",
       "      <th>7</th>\n",
       "      <td>Comoros</td>\n",
       "      <td>9,109</td>\n",
       "      <td>161</td>\n",
       "      <td>Africa</td>\n",
       "    </tr>\n",
       "    <tr>\n",
       "      <th>8</th>\n",
       "      <td>Antigua and Barbuda</td>\n",
       "      <td>9,106</td>\n",
       "      <td>146</td>\n",
       "      <td>North America</td>\n",
       "    </tr>\n",
       "    <tr>\n",
       "      <th>9</th>\n",
       "      <td>MS Zaandam</td>\n",
       "      <td>9</td>\n",
       "      <td>2</td>\n",
       "      <td></td>\n",
       "    </tr>\n",
       "    <tr>\n",
       "      <th>10</th>\n",
       "      <td>Senegal</td>\n",
       "      <td>88,997</td>\n",
       "      <td>1,971</td>\n",
       "      <td>Africa</td>\n",
       "    </tr>\n",
       "    <tr>\n",
       "      <th>11</th>\n",
       "      <td>Malawi</td>\n",
       "      <td>88,728</td>\n",
       "      <td>2,686</td>\n",
       "      <td>Africa</td>\n",
       "    </tr>\n",
       "    <tr>\n",
       "      <th>12</th>\n",
       "      <td>Côte d'Ivoire</td>\n",
       "      <td>88,331</td>\n",
       "      <td>835</td>\n",
       "      <td>Africa</td>\n",
       "    </tr>\n",
       "    <tr>\n",
       "      <th>13</th>\n",
       "      <td>Saudi Arabia</td>\n",
       "      <td>841,469</td>\n",
       "      <td>9,646</td>\n",
       "      <td>Asia</td>\n",
       "    </tr>\n",
       "    <tr>\n",
       "      <th>14</th>\n",
       "      <td>Azerbaijan</td>\n",
       "      <td>831,822</td>\n",
       "      <td>10,273</td>\n",
       "      <td>Asia</td>\n",
       "    </tr>\n",
       "    <tr>\n",
       "      <th>15</th>\n",
       "      <td>Suriname</td>\n",
       "      <td>82,513</td>\n",
       "      <td>1,405</td>\n",
       "      <td>South America</td>\n",
       "    </tr>\n",
       "    <tr>\n",
       "      <th>16</th>\n",
       "      <td>Niue</td>\n",
       "      <td>811</td>\n",
       "      <td>0</td>\n",
       "      <td>Australia/Oceania</td>\n",
       "    </tr>\n",
       "    <tr>\n",
       "      <th>17</th>\n",
       "      <td>Paraguay</td>\n",
       "      <td>810,581</td>\n",
       "      <td>19,931</td>\n",
       "      <td>South America</td>\n",
       "    </tr>\n",
       "    <tr>\n",
       "      <th>18</th>\n",
       "      <td>Netherlands</td>\n",
       "      <td>8,610,372</td>\n",
       "      <td>22,992</td>\n",
       "      <td>Europe</td>\n",
       "    </tr>\n",
       "    <tr>\n",
       "      <th>19</th>\n",
       "      <td>Liberia</td>\n",
       "      <td>8,090</td>\n",
       "      <td>295</td>\n",
       "      <td>Africa</td>\n",
       "    </tr>\n",
       "    <tr>\n",
       "      <th>20</th>\n",
       "      <td>New Caledonia</td>\n",
       "      <td>79,922</td>\n",
       "      <td>314</td>\n",
       "      <td>Australia/Oceania</td>\n",
       "    </tr>\n",
       "    <tr>\n",
       "      <th>21</th>\n",
       "      <td>French Polynesia</td>\n",
       "      <td>78,569</td>\n",
       "      <td>649</td>\n",
       "      <td>Australia/Oceania</td>\n",
       "    </tr>\n",
       "    <tr>\n",
       "      <th>22</th>\n",
       "      <td>Eswatini</td>\n",
       "      <td>74,670</td>\n",
       "      <td>1,425</td>\n",
       "      <td>Africa</td>\n",
       "    </tr>\n",
       "    <tr>\n",
       "      <th>23</th>\n",
       "      <td>Guyana</td>\n",
       "      <td>73,207</td>\n",
       "      <td>1,298</td>\n",
       "      <td>South America</td>\n",
       "    </tr>\n",
       "    <tr>\n",
       "      <th>24</th>\n",
       "      <td>Bahrain</td>\n",
       "      <td>721,806</td>\n",
       "      <td>1,563</td>\n",
       "      <td>Asia</td>\n",
       "    </tr>\n",
       "    <tr>\n",
       "      <th>25</th>\n",
       "      <td>Belize</td>\n",
       "      <td>70,782</td>\n",
       "      <td>688</td>\n",
       "      <td>North America</td>\n",
       "    </tr>\n",
       "    <tr>\n",
       "      <th>26</th>\n",
       "      <td>Sierra Leone</td>\n",
       "      <td>7,762</td>\n",
       "      <td>126</td>\n",
       "      <td>Africa</td>\n",
       "    </tr>\n",
       "    <tr>\n",
       "      <th>27</th>\n",
       "      <td>Chad</td>\n",
       "      <td>7,701</td>\n",
       "      <td>194</td>\n",
       "      <td>Africa</td>\n",
       "    </tr>\n",
       "    <tr>\n",
       "      <th>28</th>\n",
       "      <td>Mexico</td>\n",
       "      <td>7,614,771</td>\n",
       "      <td>334,107</td>\n",
       "      <td>North America</td>\n",
       "    </tr>\n",
       "    <tr>\n",
       "      <th>29</th>\n",
       "      <td>Iran</td>\n",
       "      <td>7,611,703</td>\n",
       "      <td>146,256</td>\n",
       "      <td>Asia</td>\n",
       "    </tr>\n",
       "    <tr>\n",
       "      <th>30</th>\n",
       "      <td>British Virgin Islands</td>\n",
       "      <td>7,305</td>\n",
       "      <td>64</td>\n",
       "      <td>North America</td>\n",
       "    </tr>\n",
       "    <tr>\n",
       "      <th>31</th>\n",
       "      <td>Cook Islands</td>\n",
       "      <td>7,120</td>\n",
       "      <td>2</td>\n",
       "      <td>Australia/Oceania</td>\n",
       "    </tr>\n",
       "    <tr>\n",
       "      <th>32</th>\n",
       "      <td>Fiji</td>\n",
       "      <td>68,921</td>\n",
       "      <td>883</td>\n",
       "      <td>Australia/Oceania</td>\n",
       "    </tr>\n",
       "    <tr>\n",
       "      <th>33</th>\n",
       "      <td>Madagascar</td>\n",
       "      <td>68,288</td>\n",
       "      <td>1,425</td>\n",
       "      <td>Africa</td>\n",
       "    </tr>\n",
       "    <tr>\n",
       "      <th>34</th>\n",
       "      <td>Sri Lanka</td>\n",
       "      <td>672,444</td>\n",
       "      <td>16,870</td>\n",
       "      <td>Asia</td>\n",
       "    </tr>\n",
       "    <tr>\n",
       "      <th>35</th>\n",
       "      <td>Kuwait</td>\n",
       "      <td>665,909</td>\n",
       "      <td>2,570</td>\n",
       "      <td>Asia</td>\n",
       "    </tr>\n",
       "    <tr>\n",
       "      <th>36</th>\n",
       "      <td>Dominican Republic</td>\n",
       "      <td>661,176</td>\n",
       "      <td>4,384</td>\n",
       "      <td>North America</td>\n",
       "    </tr>\n",
       "    <tr>\n",
       "      <th>37</th>\n",
       "      <td>Cyprus</td>\n",
       "      <td>660,854</td>\n",
       "      <td>1,364</td>\n",
       "      <td>Asia</td>\n",
       "    </tr>\n",
       "    <tr>\n",
       "      <th>38</th>\n",
       "      <td>Myanmar</td>\n",
       "      <td>638,726</td>\n",
       "      <td>19,494</td>\n",
       "      <td>Asia</td>\n",
       "    </tr>\n",
       "    <tr>\n",
       "      <th>39</th>\n",
       "      <td>Sudan</td>\n",
       "      <td>63,993</td>\n",
       "      <td>5,046</td>\n",
       "      <td>Africa</td>\n",
       "    </tr>\n",
       "    <tr>\n",
       "      <th>40</th>\n",
       "      <td>Cabo Verde</td>\n",
       "      <td>63,921</td>\n",
       "      <td>414</td>\n",
       "      <td>Africa</td>\n",
       "    </tr>\n",
       "    <tr>\n",
       "      <th>41</th>\n",
       "      <td>Mauritania</td>\n",
       "      <td>63,715</td>\n",
       "      <td>997</td>\n",
       "      <td>Africa</td>\n",
       "    </tr>\n",
       "    <tr>\n",
       "      <th>42</th>\n",
       "      <td>State of Palestine</td>\n",
       "      <td>621,008</td>\n",
       "      <td>5,404</td>\n",
       "      <td>Asia</td>\n",
       "    </tr>\n",
       "    <tr>\n",
       "      <th>43</th>\n",
       "      <td>Moldova</td>\n",
       "      <td>620,519</td>\n",
       "      <td>12,118</td>\n",
       "      <td>Europe</td>\n",
       "    </tr>\n",
       "    <tr>\n",
       "      <th>44</th>\n",
       "      <td>Bhutan</td>\n",
       "      <td>62,670</td>\n",
       "      <td>21</td>\n",
       "      <td>Asia</td>\n",
       "    </tr>\n",
       "    <tr>\n",
       "      <th>45</th>\n",
       "      <td>Estonia</td>\n",
       "      <td>618,782</td>\n",
       "      <td>3,001</td>\n",
       "      <td>Europe</td>\n",
       "    </tr>\n",
       "    <tr>\n",
       "      <th>46</th>\n",
       "      <td>Indonesia</td>\n",
       "      <td>6,807,085</td>\n",
       "      <td>161,762</td>\n",
       "      <td>Asia</td>\n",
       "    </tr>\n",
       "    <tr>\n",
       "      <th>47</th>\n",
       "      <td>Saint Kitts &amp; Nevis</td>\n",
       "      <td>6,602</td>\n",
       "      <td>48</td>\n",
       "      <td>North America</td>\n",
       "    </tr>\n",
       "    <tr>\n",
       "      <th>48</th>\n",
       "      <td>Turks and Caicos</td>\n",
       "      <td>6,588</td>\n",
       "      <td>38</td>\n",
       "      <td>North America</td>\n",
       "    </tr>\n",
       "    <tr>\n",
       "      <th>49</th>\n",
       "      <td>Sao Tome &amp; Principe</td>\n",
       "      <td>6,586</td>\n",
       "      <td>80</td>\n",
       "      <td>Africa</td>\n",
       "    </tr>\n",
       "  </tbody>\n",
       "</table>\n",
       "</div>"
      ],
      "text/plain": [
       "                     Country  Confirmed   Deaths          Continent\n",
       "0                    Belarus    994,037    7,118             Europe\n",
       "1              French Guiana     98,041      420      South America\n",
       "2                     Latvia    977,891    6,344             Europe\n",
       "3                   DR Congo     96,652    1,467             Africa\n",
       "4                      Niger      9,931      312             Africa\n",
       "5   St. Vincent & Grenadines      9,631      124      North America\n",
       "6              Guinea-Bissau      9,614      177             Africa\n",
       "7                    Comoros      9,109      161             Africa\n",
       "8        Antigua and Barbuda      9,106      146      North America\n",
       "9                 MS Zaandam          9        2                   \n",
       "10                   Senegal     88,997    1,971             Africa\n",
       "11                    Malawi     88,728    2,686             Africa\n",
       "12             Côte d'Ivoire     88,331      835             Africa\n",
       "13              Saudi Arabia    841,469    9,646               Asia\n",
       "14                Azerbaijan    831,822   10,273               Asia\n",
       "15                  Suriname     82,513    1,405      South America\n",
       "16                      Niue        811        0  Australia/Oceania\n",
       "17                  Paraguay    810,581   19,931      South America\n",
       "18               Netherlands  8,610,372   22,992             Europe\n",
       "19                   Liberia      8,090      295             Africa\n",
       "20             New Caledonia     79,922      314  Australia/Oceania\n",
       "21          French Polynesia     78,569      649  Australia/Oceania\n",
       "22                  Eswatini     74,670    1,425             Africa\n",
       "23                    Guyana     73,207    1,298      South America\n",
       "24                   Bahrain    721,806    1,563               Asia\n",
       "25                    Belize     70,782      688      North America\n",
       "26              Sierra Leone      7,762      126             Africa\n",
       "27                      Chad      7,701      194             Africa\n",
       "28                    Mexico  7,614,771  334,107      North America\n",
       "29                      Iran  7,611,703  146,256               Asia\n",
       "30    British Virgin Islands      7,305       64      North America\n",
       "31              Cook Islands      7,120        2  Australia/Oceania\n",
       "32                      Fiji     68,921      883  Australia/Oceania\n",
       "33                Madagascar     68,288    1,425             Africa\n",
       "34                 Sri Lanka    672,444   16,870               Asia\n",
       "35                    Kuwait    665,909    2,570               Asia\n",
       "36        Dominican Republic    661,176    4,384      North America\n",
       "37                    Cyprus    660,854    1,364               Asia\n",
       "38                   Myanmar    638,726   19,494               Asia\n",
       "39                     Sudan     63,993    5,046             Africa\n",
       "40                Cabo Verde     63,921      414             Africa\n",
       "41                Mauritania     63,715      997             Africa\n",
       "42        State of Palestine    621,008    5,404               Asia\n",
       "43                   Moldova    620,519   12,118             Europe\n",
       "44                    Bhutan     62,670       21               Asia\n",
       "45                   Estonia    618,782    3,001             Europe\n",
       "46                 Indonesia  6,807,085  161,762               Asia\n",
       "47       Saint Kitts & Nevis      6,602       48      North America\n",
       "48          Turks and Caicos      6,588       38      North America\n",
       "49       Sao Tome & Principe      6,586       80             Africa"
      ]
     },
     "execution_count": 46,
     "metadata": {},
     "output_type": "execute_result"
    }
   ],
   "source": [
    "import pandas as pd\n",
    "\n",
    "df = pd.DataFrame(data,columns=[\"Country\",\"Confirmed\",\"Deaths\",\"Continent\"]) # add columns to the dataframe\n",
    "df.head(50)\n"
   ]
  },
  {
   "cell_type": "code",
   "execution_count": null,
   "metadata": {},
   "outputs": [],
   "source": []
  }
 ],
 "metadata": {
  "kernelspec": {
   "display_name": "Python 3",
   "language": "python",
   "name": "python3"
  },
  "language_info": {
   "codemirror_mode": {
    "name": "ipython",
    "version": 3
   },
   "file_extension": ".py",
   "mimetype": "text/x-python",
   "name": "python",
   "nbconvert_exporter": "python",
   "pygments_lexer": "ipython3",
   "version": "3.8.10"
  },
  "orig_nbformat": 4
 },
 "nbformat": 4,
 "nbformat_minor": 2
}
