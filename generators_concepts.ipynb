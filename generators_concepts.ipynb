{
 "cells": [
  {
   "cell_type": "code",
   "execution_count": 2,
   "metadata": {},
   "outputs": [
    {
     "name": "stdout",
     "output_type": "stream",
     "text": [
      "Execution time: 3.000370502471924\n"
     ]
    }
   ],
   "source": [
    "# measure of execution time\n",
    "\n",
    "import time\n",
    "\n",
    "def measure_time(func):\n",
    "    def wrapper(*args,**kwargs):\n",
    "        start_time = time.time()\n",
    "        result= func(*args,**kwargs)\n",
    "        end_time = time.time()\n",
    "        execution_time = end_time - start_time\n",
    "        print(f\"Execution time: {execution_time}\")\n",
    "        return result\n",
    "    return wrapper\n",
    "\n",
    "@measure_time\n",
    "def my_function():\n",
    "    time.sleep(3)\n",
    "\n",
    "my_function()"
   ]
  },
  {
   "cell_type": "code",
   "execution_count": 8,
   "metadata": {},
   "outputs": [
    {
     "name": "stdout",
     "output_type": "stream",
     "text": [
      "function name : my_function\n",
      "Arguments: ()\n",
      "Keyword keywords: {'y': 90, 'x': 10}\n",
      "100\n"
     ]
    }
   ],
   "source": [
    "# logging \n",
    "\n",
    "def log_function(func):\n",
    "    def wrapper(*args,**kwargs):\n",
    "        print(f\"function name : {func.__name__}\")\n",
    "        print(f\"Arguments: {args}\")\n",
    "        print(f\"Keyword keywords: {kwargs}\")\n",
    "        result = func(*args,**kwargs)\n",
    "        return result\n",
    "    return wrapper\n",
    "\n",
    "@log_function\n",
    "def my_function(x,y):\n",
    "    return x+y\n",
    "\n",
    "print(my_function(y=90,x=10)) # arguments \n",
    "\n"
   ]
  },
  {
   "cell_type": "code",
   "execution_count": 7,
   "metadata": {},
   "outputs": [
    {
     "data": {
      "text/plain": [
       "102"
      ]
     },
     "execution_count": 7,
     "metadata": {},
     "output_type": "execute_result"
    }
   ],
   "source": [
    "# input validation\n",
    "\n",
    "def validate_input(func):\n",
    "    def wrapper(*args,**kwargs):\n",
    "        for arg in args:\n",
    "            if not isinstance(arg,int):\n",
    "                raise TypeError(\"Input arguments must be integers\")\n",
    "\n",
    "        for value in kwargs.values():\n",
    "            if not isinstance(value,int):\n",
    "                raise TypeError(\"Keyword arguments must be integers\")\n",
    "\n",
    "        return func(*args,**kwargs) \n",
    "    return wrapper\n",
    "\n",
    "@validate_input\n",
    "def add_numbers(a,b):\n",
    "    return a+b\n",
    "\n",
    "add_numbers(b=12,a=90)"
   ]
  },
  {
   "cell_type": "code",
   "execution_count": 9,
   "metadata": {},
   "outputs": [
    {
     "ename": "TypeError",
     "evalue": "Input arguments must be integers",
     "output_type": "error",
     "traceback": [
      "\u001b[1;31m---------------------------------------------------------------------------\u001b[0m",
      "\u001b[1;31mTypeError\u001b[0m                                 Traceback (most recent call last)",
      "Cell \u001b[1;32mIn[9], line 1\u001b[0m\n\u001b[1;32m----> 1\u001b[0m add_numbers(\u001b[39m\"\u001b[39;49m\u001b[39mPython\u001b[39;49m\u001b[39m\"\u001b[39;49m,\u001b[39m\"\u001b[39;49m\u001b[39mProgramming\u001b[39;49m\u001b[39m\"\u001b[39;49m)\n",
      "Cell \u001b[1;32mIn[7], line 7\u001b[0m, in \u001b[0;36mvalidate_input.<locals>.wrapper\u001b[1;34m(*args, **kwargs)\u001b[0m\n\u001b[0;32m      5\u001b[0m \u001b[39mfor\u001b[39;00m arg \u001b[39min\u001b[39;00m args:\n\u001b[0;32m      6\u001b[0m     \u001b[39mif\u001b[39;00m \u001b[39mnot\u001b[39;00m \u001b[39misinstance\u001b[39m(arg,\u001b[39mint\u001b[39m):\n\u001b[1;32m----> 7\u001b[0m         \u001b[39mraise\u001b[39;00m \u001b[39mTypeError\u001b[39;00m(\u001b[39m\"\u001b[39m\u001b[39mInput arguments must be integers\u001b[39m\u001b[39m\"\u001b[39m)\n\u001b[0;32m      9\u001b[0m \u001b[39mfor\u001b[39;00m value \u001b[39min\u001b[39;00m kwargs\u001b[39m.\u001b[39mvalues():\n\u001b[0;32m     10\u001b[0m     \u001b[39mif\u001b[39;00m \u001b[39mnot\u001b[39;00m \u001b[39misinstance\u001b[39m(value,\u001b[39mint\u001b[39m):\n",
      "\u001b[1;31mTypeError\u001b[0m: Input arguments must be integers"
     ]
    }
   ],
   "source": [
    "add_numbers(\"Python\",\"Programming\")"
   ]
  },
  {
   "cell_type": "code",
   "execution_count": 10,
   "metadata": {},
   "outputs": [
    {
     "ename": "TypeError",
     "evalue": "Keyword arguments must be integers",
     "output_type": "error",
     "traceback": [
      "\u001b[1;31m---------------------------------------------------------------------------\u001b[0m",
      "\u001b[1;31mTypeError\u001b[0m                                 Traceback (most recent call last)",
      "Cell \u001b[1;32mIn[10], line 1\u001b[0m\n\u001b[1;32m----> 1\u001b[0m add_numbers(b\u001b[39m=\u001b[39;49m\u001b[39m\"\u001b[39;49m\u001b[39mLanguage\u001b[39;49m\u001b[39m\"\u001b[39;49m,a\u001b[39m=\u001b[39;49m\u001b[39m\"\u001b[39;49m\u001b[39mPython\u001b[39;49m\u001b[39m\"\u001b[39;49m)\n",
      "Cell \u001b[1;32mIn[7], line 11\u001b[0m, in \u001b[0;36mvalidate_input.<locals>.wrapper\u001b[1;34m(*args, **kwargs)\u001b[0m\n\u001b[0;32m      9\u001b[0m \u001b[39mfor\u001b[39;00m value \u001b[39min\u001b[39;00m kwargs\u001b[39m.\u001b[39mvalues():\n\u001b[0;32m     10\u001b[0m     \u001b[39mif\u001b[39;00m \u001b[39mnot\u001b[39;00m \u001b[39misinstance\u001b[39m(value,\u001b[39mint\u001b[39m):\n\u001b[1;32m---> 11\u001b[0m         \u001b[39mraise\u001b[39;00m \u001b[39mTypeError\u001b[39;00m(\u001b[39m\"\u001b[39m\u001b[39mKeyword arguments must be integers\u001b[39m\u001b[39m\"\u001b[39m)\n\u001b[0;32m     13\u001b[0m \u001b[39mreturn\u001b[39;00m func(\u001b[39m*\u001b[39margs,\u001b[39m*\u001b[39m\u001b[39m*\u001b[39mkwargs)\n",
      "\u001b[1;31mTypeError\u001b[0m: Keyword arguments must be integers"
     ]
    }
   ],
   "source": [
    "add_numbers(b=\"Language\",a=\"Python\")"
   ]
  },
  {
   "cell_type": "code",
   "execution_count": null,
   "metadata": {},
   "outputs": [],
   "source": []
  }
 ],
 "metadata": {
  "kernelspec": {
   "display_name": "Python 3",
   "language": "python",
   "name": "python3"
  },
  "language_info": {
   "codemirror_mode": {
    "name": "ipython",
    "version": 3
   },
   "file_extension": ".py",
   "mimetype": "text/x-python",
   "name": "python",
   "nbconvert_exporter": "python",
   "pygments_lexer": "ipython3",
   "version": "3.11.4"
  },
  "orig_nbformat": 4
 },
 "nbformat": 4,
 "nbformat_minor": 2
}
