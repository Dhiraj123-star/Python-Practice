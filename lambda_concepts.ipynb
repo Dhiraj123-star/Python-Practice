{
 "cells": [
  {
   "cell_type": "code",
   "execution_count": 1,
   "metadata": {},
   "outputs": [
    {
     "data": {
      "text/plain": [
       "[('Mary', 18), ('John', 21), ('Jon', 24), ('Bob', 45), ('Alice', 56)]"
      ]
     },
     "execution_count": 1,
     "metadata": {},
     "output_type": "execute_result"
    }
   ],
   "source": [
    "# Python lambda concepts\n",
    "\n",
    "# sorting \n",
    "\n",
    "data = [\n",
    "    ('Jon',24),('Mary',18),('Bob',45),('Alice',56),('John',21)\n",
    "]\n",
    "\n",
    "sorted_data = sorted(data,key=lambda x:x[1]) # sort by age\n",
    "\n",
    "sorted_data\n"
   ]
  },
  {
   "cell_type": "code",
   "execution_count": 2,
   "metadata": {},
   "outputs": [
    {
     "data": {
      "text/plain": [
       "[('Alice', 56), ('Bob', 45), ('John', 21), ('Jon', 24), ('Mary', 18)]"
      ]
     },
     "execution_count": 2,
     "metadata": {},
     "output_type": "execute_result"
    }
   ],
   "source": [
    "sorted_name = sorted(data,key=lambda x:x[0]) # sort by name \n",
    "\n",
    "sorted_name"
   ]
  },
  {
   "cell_type": "code",
   "execution_count": 3,
   "metadata": {},
   "outputs": [
    {
     "data": {
      "text/plain": [
       "[89, 101, 39]"
      ]
     },
     "execution_count": 3,
     "metadata": {},
     "output_type": "execute_result"
    }
   ],
   "source": [
    "# filtering the data \n",
    "numbers = [34,56,89,101,39,22]\n",
    "\n",
    "odd_nums = list(filter(lambda x:x%2!=0,numbers))\n",
    "\n",
    "odd_nums"
   ]
  },
  {
   "cell_type": "code",
   "execution_count": 4,
   "metadata": {},
   "outputs": [
    {
     "data": {
      "text/plain": [
       "[6, 4, 10, 3]"
      ]
     },
     "execution_count": 4,
     "metadata": {},
     "output_type": "execute_result"
    }
   ],
   "source": [
    "# mapping the data \n",
    "\n",
    "my_str = [\"Python\",\"Java\",\"JavaScript\",\"C++\"]\n",
    "\n",
    "len_str = list(map(lambda x:len(x),my_str)) # find the length of the string\n",
    "\n",
    "\n",
    "len_str"
   ]
  },
  {
   "cell_type": "code",
   "execution_count": 6,
   "metadata": {},
   "outputs": [
    {
     "name": "stdout",
     "output_type": "stream",
     "text": [
      "[{'name': 'Tom', 'salary': 45000},\n",
      " {'name': 'John', 'salary': 50000},\n",
      " {'name': 'Charlie', 'salary': 55000},\n",
      " {'name': 'Emma', 'salary': 70000}]\n"
     ]
    }
   ],
   "source": [
    "from pprint import pprint\n",
    "employees = [\n",
    "    {'name': 'John', 'salary': 50000},\n",
    "    {'name': 'Emma', 'salary': 70000},\n",
    "    {'name': 'Tom', 'salary': 45000},\n",
    "    {'name': 'Charlie', 'salary': 55000}\n",
    "]\n",
    "\n",
    "sorted_employees = sorted(employees, key=lambda x: x['salary'])\n",
    "\n",
    "pprint(sorted_employees)\n"
   ]
  },
  {
   "cell_type": "code",
   "execution_count": null,
   "metadata": {},
   "outputs": [],
   "source": [
    "\n"
   ]
  }
 ],
 "metadata": {
  "kernelspec": {
   "display_name": "Python 3",
   "language": "python",
   "name": "python3"
  },
  "language_info": {
   "codemirror_mode": {
    "name": "ipython",
    "version": 3
   },
   "file_extension": ".py",
   "mimetype": "text/x-python",
   "name": "python",
   "nbconvert_exporter": "python",
   "pygments_lexer": "ipython3",
   "version": "3.11.4"
  },
  "orig_nbformat": 4
 },
 "nbformat": 4,
 "nbformat_minor": 2
}
