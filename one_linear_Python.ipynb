{
 "cells": [
  {
   "cell_type": "code",
   "execution_count": 2,
   "metadata": {},
   "outputs": [
    {
     "name": "stdout",
     "output_type": "stream",
     "text": [
      "90\n",
      "19\n"
     ]
    }
   ],
   "source": [
    "# swapping of the numbers \n",
    "\n",
    "a,b=19,90\n",
    "b,a =a,b\n",
    "\n",
    "print(a)\n",
    "print(b)"
   ]
  },
  {
   "cell_type": "code",
   "execution_count": 4,
   "metadata": {},
   "outputs": [
    {
     "data": {
      "text/plain": [
       "[False, True, False, True, False, True]"
      ]
     },
     "execution_count": 4,
     "metadata": {},
     "output_type": "execute_result"
    }
   ],
   "source": [
    "# list comprehension\n",
    "\n",
    "lis = [12,45,10,67,102,13]\n",
    "\n",
    "odd_lis_bol = [num%2!=0 for num in lis] # returns in boolean values \n",
    "\n",
    "odd_lis_bol\n"
   ]
  },
  {
   "cell_type": "code",
   "execution_count": 6,
   "metadata": {},
   "outputs": [
    {
     "data": {
      "text/plain": [
       "[45, 67, 13]"
      ]
     },
     "execution_count": 6,
     "metadata": {},
     "output_type": "execute_result"
    }
   ],
   "source": [
    "odd_lis= [num for num in lis if num%2!=0]\n",
    "\n",
    "odd_lis # returns the odd numbers list"
   ]
  },
  {
   "cell_type": "code",
   "execution_count": 7,
   "metadata": {},
   "outputs": [
    {
     "data": {
      "text/plain": [
       "[12, 10, 102]"
      ]
     },
     "execution_count": 7,
     "metadata": {},
     "output_type": "execute_result"
    }
   ],
   "source": [
    "# lambda function \n",
    "\n",
    "even_num = list(filter(lambda x:x%2==0,lis)) # filter the even numbers \n",
    "\n",
    "even_num"
   ]
  },
  {
   "cell_type": "code",
   "execution_count": 9,
   "metadata": {},
   "outputs": [
    {
     "data": {
      "text/plain": [
       "90"
      ]
     },
     "execution_count": 9,
     "metadata": {},
     "output_type": "execute_result"
    }
   ],
   "source": [
    "# conditional expressions\n",
    "\n",
    "a,b = 90,10\n",
    "\n",
    "max_val=  a if a>b else b  # returns a if a is greater than b else b \n",
    "\n",
    "max_val"
   ]
  },
  {
   "cell_type": "code",
   "execution_count": 10,
   "metadata": {},
   "outputs": [
    {
     "data": {
      "text/plain": [
       "True"
      ]
     },
     "execution_count": 10,
     "metadata": {},
     "output_type": "execute_result"
    }
   ],
   "source": [
    "# chaining comparisions \n",
    "\n",
    "x=10\n",
    "res = 1<x<100 # x is compare with multiple conditions \n",
    "\n",
    "res"
   ]
  },
  {
   "cell_type": "code",
   "execution_count": 11,
   "metadata": {},
   "outputs": [
    {
     "data": {
      "text/plain": [
       "False"
      ]
     },
     "execution_count": 11,
     "metadata": {},
     "output_type": "execute_result"
    }
   ],
   "source": [
    "# using all & any \n",
    "\n",
    "numbers = [67,78,10,6,8,11]\n",
    "\n",
    "res = all(x%2==0 for x in numbers) # returns true if the specific condition is matched to all the elements \n",
    "res"
   ]
  },
  {
   "cell_type": "code",
   "execution_count": 12,
   "metadata": {},
   "outputs": [
    {
     "data": {
      "text/plain": [
       "True"
      ]
     },
     "execution_count": 12,
     "metadata": {},
     "output_type": "execute_result"
    }
   ],
   "source": [
    "res = any(x%2==0 for x in numbers)# returns true if the specific condition is matched to any of the elements\n",
    "\n",
    "res"
   ]
  },
  {
   "cell_type": "code",
   "execution_count": 14,
   "metadata": {},
   "outputs": [
    {
     "data": {
      "text/plain": [
       "'nohtyP'"
      ]
     },
     "execution_count": 14,
     "metadata": {},
     "output_type": "execute_result"
    }
   ],
   "source": [
    "# string manipulation\n",
    "\n",
    "mystr = \"Python\"\n",
    "\n",
    "rev = mystr[::-1] # reverse the string \n",
    "rev"
   ]
  },
  {
   "cell_type": "code",
   "execution_count": 15,
   "metadata": {},
   "outputs": [
    {
     "name": "stdout",
     "output_type": "stream",
     "text": [
      "('Python', 1)\n",
      "('Java', 2)\n",
      "('C', 3)\n",
      "('C++', 4)\n"
     ]
    }
   ],
   "source": [
    "# using zip \n",
    "\n",
    "lang = (\"Python\",\"Java\",\"C\",\"C++\")\n",
    "\n",
    "rank = (1,2,3,4)\n",
    "\n",
    "for i in zip(lang,rank):\n",
    "    print(i)"
   ]
  },
  {
   "cell_type": "code",
   "execution_count": 18,
   "metadata": {},
   "outputs": [
    {
     "name": "stdout",
     "output_type": "stream",
     "text": [
      "1 : Python\n",
      "2 : Java\n",
      "3 : C\n",
      "4 : C++\n"
     ]
    }
   ],
   "source": [
    "# enumerate()\n",
    "\n",
    "for ranking,language in enumerate(lang):\n",
    "    print(f\"{ranking+1} : {language}\") "
   ]
  },
  {
   "cell_type": "code",
   "execution_count": 20,
   "metadata": {},
   "outputs": [
    {
     "data": {
      "text/plain": [
       "800"
      ]
     },
     "execution_count": 20,
     "metadata": {},
     "output_type": "execute_result"
    }
   ],
   "source": [
    "# using sum() and list comprehension\n",
    "\n",
    "sum_of_cubes = sum(x**3 for x in range(1,10) if x%2==0)\n",
    "\n",
    "sum_of_cubes"
   ]
  },
  {
   "cell_type": "code",
   "execution_count": 21,
   "metadata": {},
   "outputs": [
    {
     "name": "stdout",
     "output_type": "stream",
     "text": [
      "['Python is Interpreted Programming language.', 'It is easy to learn and beginner-friendly.']\n"
     ]
    }
   ],
   "source": [
    "# opening the file and applied operation on it\n",
    "\n",
    "with open(\"example.txt\",\"r\") as f:\n",
    "    lines = [line.strip() for line in f]\n",
    "\n",
    "print(lines)"
   ]
  },
  {
   "cell_type": "code",
   "execution_count": null,
   "metadata": {},
   "outputs": [],
   "source": []
  }
 ],
 "metadata": {
  "kernelspec": {
   "display_name": "Python 3",
   "language": "python",
   "name": "python3"
  },
  "language_info": {
   "codemirror_mode": {
    "name": "ipython",
    "version": 3
   },
   "file_extension": ".py",
   "mimetype": "text/x-python",
   "name": "python",
   "nbconvert_exporter": "python",
   "pygments_lexer": "ipython3",
   "version": "3.11.4"
  },
  "orig_nbformat": 4
 },
 "nbformat": 4,
 "nbformat_minor": 2
}
