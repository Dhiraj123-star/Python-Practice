{
 "cells": [
  {
   "cell_type": "code",
   "execution_count": 2,
   "metadata": {},
   "outputs": [
    {
     "data": {
      "text/plain": [
       "'This is the class attribute'"
      ]
     },
     "execution_count": 2,
     "metadata": {},
     "output_type": "execute_result"
    }
   ],
   "source": [
    "# Python class attribute \n",
    "'''\n",
    "A class attribute is a property that holds true for all instances of a class. \n",
    "They’re defined directly beneath the first line of the class name. \n",
    "Each instance of the class shares the class attribute.\n",
    "'''\n",
    "class Example:\n",
    "    class_attr = \"This is the class attribute\"\n",
    "\n",
    "Example.class_attr"
   ]
  },
  {
   "cell_type": "code",
   "execution_count": 3,
   "metadata": {},
   "outputs": [
    {
     "data": {
      "text/plain": [
       "'This is instance attribute'"
      ]
     },
     "execution_count": 3,
     "metadata": {},
     "output_type": "execute_result"
    }
   ],
   "source": [
    "# Python instance attribute \n",
    "\n",
    "'''An instance attribute is a property that’s unique to each instance of a class. \n",
    "They’re defined within methods, and often, within the `__init__` method.'''\n",
    "\n",
    "class MyExample:\n",
    "    def __init__(self):\n",
    "        self.instance_attr = \"This is instance attribute\"\n",
    "\n",
    "# create instance\n",
    "example  = MyExample()\n",
    "\n",
    "example.instance_attr"
   ]
  },
  {
   "cell_type": "code",
   "execution_count": 7,
   "metadata": {},
   "outputs": [
    {
     "name": "stdout",
     "output_type": "stream",
     "text": [
      "Through class -> PythonicClass attribute\n",
      "Through instance -> PythonicClass attribute\n"
     ]
    }
   ],
   "source": [
    "# pythonic way of defining attributes\n",
    "\n",
    "\n",
    "class PythonicClass:\n",
    "    class_attr = \"PythonicClass attribute\" # class attribute \n",
    "\n",
    "    def __init__(self):\n",
    "        self.instance_att = \"PythonicClass Instance attribute\" # instance attribute \n",
    "\n",
    "# accessing class Attribute \n",
    "\n",
    "pyc = PythonicClass()\n",
    "\n",
    "print(f\"Through class -> {pyc.class_attr}\") # through instance of the class \n",
    "print(f\"Through instance -> {PythonicClass.class_attr}\") # through class itself"
   ]
  },
  {
   "cell_type": "code",
   "execution_count": 9,
   "metadata": {},
   "outputs": [
    {
     "name": "stdout",
     "output_type": "stream",
     "text": [
      "mappingproxy({'__dict__': <attribute '__dict__' of 'PythonicClass' objects>,\n",
      "              '__doc__': None,\n",
      "              '__init__': <function PythonicClass.__init__ at 0x00000206040CB9C0>,\n",
      "              '__module__': '__main__',\n",
      "              '__weakref__': <attribute '__weakref__' of 'PythonicClass' objects>,\n",
      "              'class_attr': 'PythonicClass attribute'})\n",
      "{'instance_att': 'PythonicClass Instance attribute'}\n"
     ]
    }
   ],
   "source": [
    "'''Python uses `__dict__`, a dictionary object, to store an object’s writable attributes.\n",
    " It provides a mapping between attribute names and their values.\n",
    "'''\n",
    "from pprint import pprint\n",
    "pprint(PythonicClass.__dict__)\n",
    "pprint(pyc.__dict__)"
   ]
  },
  {
   "cell_type": "code",
   "execution_count": null,
   "metadata": {},
   "outputs": [],
   "source": []
  }
 ],
 "metadata": {
  "kernelspec": {
   "display_name": "Python 3",
   "language": "python",
   "name": "python3"
  },
  "language_info": {
   "codemirror_mode": {
    "name": "ipython",
    "version": 3
   },
   "file_extension": ".py",
   "mimetype": "text/x-python",
   "name": "python",
   "nbconvert_exporter": "python",
   "pygments_lexer": "ipython3",
   "version": "3.11.4"
  },
  "orig_nbformat": 4
 },
 "nbformat": 4,
 "nbformat_minor": 2
}
