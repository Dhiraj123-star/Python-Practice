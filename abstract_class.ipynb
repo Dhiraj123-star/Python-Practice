{
 "cells": [
  {
   "cell_type": "code",
   "execution_count": 2,
   "metadata": {},
   "outputs": [],
   "source": [
    "# abstract class in Python \n",
    "\n",
    "'''classes that cannot be instantiated. In other words, you can't create objects of an abstract class. \n",
    "The goal of these classes is to define functionality that their subclasses must implement.'''\n",
    "\n",
    "from abc import ABC ,abstractmethod \n",
    "class Shape(ABC):\n",
    "    @abstractmethod\n",
    "    def area(self):\n",
    "        pass \n",
    "\n"
   ]
  },
  {
   "cell_type": "code",
   "execution_count": 4,
   "metadata": {},
   "outputs": [
    {
     "ename": "TypeError",
     "evalue": "Can't instantiate abstract class Shape with abstract method area",
     "output_type": "error",
     "traceback": [
      "\u001b[1;31m---------------------------------------------------------------------------\u001b[0m",
      "\u001b[1;31mTypeError\u001b[0m                                 Traceback (most recent call last)",
      "Cell \u001b[1;32mIn[4], line 1\u001b[0m\n\u001b[1;32m----> 1\u001b[0m shape \u001b[39m=\u001b[39m Shape()\n",
      "\u001b[1;31mTypeError\u001b[0m: Can't instantiate abstract class Shape with abstract method area"
     ]
    }
   ],
   "source": [
    "shape = Shape() # if try to create instance of the abstract class, we get an error "
   ]
  },
  {
   "cell_type": "code",
   "execution_count": 5,
   "metadata": {},
   "outputs": [],
   "source": [
    "import math\n",
    "class Square(Shape):\n",
    "    def __init__(self,side):\n",
    "        self.side =side\n",
    "\n",
    "    def area(self):\n",
    "        return self.side ** 2\n",
    "\n",
    "class Circle(Shape):\n",
    "    def __init__(self,radius):\n",
    "        self.radius = radius\n",
    "\n",
    "    def area(self):\n",
    "        return  math.pi * self.radius **2 \n",
    "\n"
   ]
  },
  {
   "cell_type": "code",
   "execution_count": 6,
   "metadata": {},
   "outputs": [
    {
     "name": "stdout",
     "output_type": "stream",
     "text": [
      "The area of the circle is : 314.1592653589793\n",
      "The area of the square is : 64\n"
     ]
    }
   ],
   "source": [
    "# create instance of the class \n",
    "\n",
    "circle = Circle(10)\n",
    "square = Square(8)\n",
    "\n",
    "print(f'The area of the circle is : {circle.area()}')\n",
    "print(f'The area of the square is : {square.area()}')\n"
   ]
  },
  {
   "cell_type": "code",
   "execution_count": 7,
   "metadata": {},
   "outputs": [
    {
     "ename": "TypeError",
     "evalue": "Can't instantiate abstract class Triangle with abstract method area",
     "output_type": "error",
     "traceback": [
      "\u001b[1;31m---------------------------------------------------------------------------\u001b[0m",
      "\u001b[1;31mTypeError\u001b[0m                                 Traceback (most recent call last)",
      "Cell \u001b[1;32mIn[7], line 11\u001b[0m\n\u001b[0;32m      6\u001b[0m     \u001b[39mself\u001b[39m\u001b[39m.\u001b[39mside3 \u001b[39m=\u001b[39m side3\n\u001b[0;32m      8\u001b[0m   \u001b[39m# No implementation of area()\u001b[39;00m\n\u001b[1;32m---> 11\u001b[0m triangle \u001b[39m=\u001b[39m Triangle(\u001b[39m3\u001b[39;49m,\u001b[39m4\u001b[39;49m,\u001b[39m5\u001b[39;49m)\n\u001b[0;32m     12\u001b[0m print_area(triangle)  \u001b[39m# Fails!\u001b[39;00m\n",
      "\u001b[1;31mTypeError\u001b[0m: Can't instantiate abstract class Triangle with abstract method area"
     ]
    }
   ],
   "source": [
    "class Triangle(Shape):\n",
    "  \n",
    "  def __init__(self, side1, side2, side3):\n",
    "    self.side1 = side1\n",
    "    self.side2 = side2\n",
    "    self.side3 = side3\n",
    "\n",
    "  # No implementation of area()\n",
    "\n",
    "\n",
    "triangle = Triangle(3,4,5)\n",
    "print_area(triangle)  # Fails!"
   ]
  },
  {
   "cell_type": "code",
   "execution_count": null,
   "metadata": {},
   "outputs": [],
   "source": []
  }
 ],
 "metadata": {
  "kernelspec": {
   "display_name": "Python 3",
   "language": "python",
   "name": "python3"
  },
  "language_info": {
   "codemirror_mode": {
    "name": "ipython",
    "version": 3
   },
   "file_extension": ".py",
   "mimetype": "text/x-python",
   "name": "python",
   "nbconvert_exporter": "python",
   "pygments_lexer": "ipython3",
   "version": "3.11.4"
  },
  "orig_nbformat": 4
 },
 "nbformat": 4,
 "nbformat_minor": 2
}
